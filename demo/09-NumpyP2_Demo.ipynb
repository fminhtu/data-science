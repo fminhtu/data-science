{
 "cells": [
  {
   "cell_type": "markdown",
   "metadata": {
    "tags": []
   },
   "source": [
    "# Numpy (phần 2)"
   ]
  },
  {
   "cell_type": "markdown",
   "metadata": {},
   "source": [
    "Cập nhật lần cuối: 26/11/2021"
   ]
  },
  {
   "cell_type": "code",
   "execution_count": 1,
   "metadata": {
    "hide_input": false
   },
   "outputs": [],
   "source": [
    "import numpy as np\n",
    "\n",
    "import matplotlib.pyplot as plt\n",
    "import math # Thư viện built-in của Python"
   ]
  },
  {
   "cell_type": "markdown",
   "metadata": {},
   "source": [
    "## Tạo Numpy array & xem thông tin của Numpy array"
   ]
  },
  {
   "cell_type": "markdown",
   "metadata": {},
   "source": [
    "Tạo Numpy array: \\\n",
    "`np.array` \\\n",
    "`np.full` `np.zeros` `np.ones` \\\n",
    "`np.random.random` \\\n",
    "`np.empty` \\\n",
    "`np.eye` \\\n",
    "`np.arange` `np.linspace` \\\n",
    "`np.reshape` \\\n",
    "`np.genfromtxt`\\\n",
    "...\n",
    "\n",
    "Xem thông tin của Numpy array: \\\n",
    "`a.ndim` `a.shape` `a.size` \\\n",
    "`a.dtype` \\\n",
    "`a.itemsize` `a.nbytes` \\\n",
    "..."
   ]
  },
  {
   "cell_type": "markdown",
   "metadata": {},
   "source": [
    "## Truy xuất (và thay đổi) các phần tử trong Numpy array"
   ]
  },
  {
   "cell_type": "markdown",
   "metadata": {},
   "source": [
    "- Integer indexing\n",
    "- Slicing\n",
    "- Bool array indexing\n",
    "- Integer array indexing\n",
    "- Kết hợp 4 loại trên với nhau (khi làm với array nhiều chiều)"
   ]
  },
  {
   "cell_type": "markdown",
   "metadata": {
    "tags": []
   },
   "source": [
    "## Tính toán trên Numpy array "
   ]
  },
  {
   "cell_type": "markdown",
   "metadata": {},
   "source": [
    "Để sử dụng Numpy hiệu quả thì thay đổi cách tư duy: cần suy nghĩ về <font color=blue>các thao tác tính toán trên nguyên mảng</font> mà Numpy đã cung cấp, chứ không phải là các thao tác tính toán trên từng con số"
   ]
  },
  {
   "cell_type": "markdown",
   "metadata": {},
   "source": [
    "Hầu hết mọi thao tác tính toán trên mảng mà ta có thể nghĩ tới thì đều đã được Numpy cung cấp:\n",
    "\n",
    "`+`, `np.add`\\\n",
    "`-`, `np.subtract`\\\n",
    "`-`, `np.negative`\\\n",
    "`*`, `np.multiply`\\\n",
    "`@`, `np.dot`\\\n",
    "`/`, `np.divide`\\\n",
    "`//`, `np.floor_divide`\\\n",
    "`**`, `np.power`\\\n",
    "`%`, `np.mod`\\\n",
    "`np.abs`\\\n",
    "`np.exp`\\\n",
    "`np.log`\\\n",
    "...\n",
    "\n",
    "`==`, `np.equal`\\\n",
    "`<`, `np.less`\\\n",
    "`>`, `np.greater`\\\n",
    "`!=`, `np.not_equal`\\\n",
    "`<=`, `np.less_equal`\\\n",
    "`>=`, `np.greater_equal`\\\n",
    "`&`, `np.bitwise_and`\\\n",
    "`|`, `np.bitwise_or`\\\n",
    "`~`, `np.bitwise_not`\\\n",
    "`np.nonzero`\\\n",
    "`np.any`\\\n",
    "`np.all`\\\n",
    "...\n",
    "\n",
    "`np.sum`\\\n",
    "`np.prod`\\\n",
    "`np.min`\\\n",
    "`np.max`\\\n",
    "`np.argmin`\\\n",
    "`np.argmax`\\\n",
    "...\n",
    "\n",
    "`np.mean`\\\n",
    "`np.std`\\\n",
    "`np.percentile`\\\n",
    "`np.histogram`\\\n",
    "`np.unique`\\\n",
    "`np.sort`\\\n",
    "`np.argsort`\\\n",
    "...\n",
    "\n",
    "Với một tính toán nào đó trên Numpy array, ngoài dạng hàm (hoặc toán tử) thì thường ta cũng có thể gọi phương thức tương đương từ Numpy array \\\n",
    "$\\to$ Giúp đáp ứng các \"khẩu vị code\" khác nhau của người dùng"
   ]
  },
  {
   "cell_type": "markdown",
   "metadata": {},
   "source": [
    "**Lên moodle làm quiz về các nội dung đã học ...**"
   ]
  },
  {
   "cell_type": "code",
   "execution_count": 2,
   "metadata": {
    "scrolled": true,
    "tags": []
   },
   "outputs": [
    {
     "data": {
      "text/plain": [
       "array([[ 0.  ,  0.  ,  0.  ,  0.  ],\n",
       "       [10.  , 10.  , 10.  ,  9.5 ],\n",
       "       [10.  ,  9.25,  9.  ,  7.  ],\n",
       "       [10.  ,  9.5 ,  9.85,  8.  ],\n",
       "       [10.  ,  9.75,  9.75,  9.  ],\n",
       "       [10.  , 10.  , 10.  ,  8.5 ],\n",
       "       [10.  , 10.  ,  9.75,  9.  ],\n",
       "       [10.  ,  9.5 ,  9.7 ,  9.  ],\n",
       "       [10.  ,  9.75,  9.35,  9.  ],\n",
       "       [10.  , 10.  ,  9.6 ,  8.  ],\n",
       "       [ 9.  ,  9.25,  9.9 ,  7.5 ],\n",
       "       [10.  , 10.  , 10.  ,  8.  ],\n",
       "       [10.  ,  8.5 ,  5.75,  7.  ],\n",
       "       [10.  ,  9.5 ,  9.75,  8.  ],\n",
       "       [ 9.25, 10.  , 10.  ,  8.5 ],\n",
       "       [10.  , 10.  , 10.  , 10.  ],\n",
       "       [ 8.5 ,  8.25,  0.  ,  0.  ],\n",
       "       [10.  , 10.  ,  9.9 ,  9.  ],\n",
       "       [10.  ,  9.5 ,  9.45,  9.  ],\n",
       "       [ 9.75, 10.  , 10.  ,  9.  ],\n",
       "       [10.  , 10.  ,  9.  , 10.  ],\n",
       "       [10.  ,  9.75, 10.  , 10.  ],\n",
       "       [ 9.75,  9.5 ,  5.25,  6.5 ],\n",
       "       [ 9.75,  9.75, 10.  ,  9.5 ],\n",
       "       [ 9.5 , 10.  , 10.  ,  7.5 ],\n",
       "       [10.  ,  9.25,  9.9 ,  9.  ],\n",
       "       [10.  , 10.  , 10.  ,  7.5 ],\n",
       "       [ 9.5 , 10.  ,  9.75,  9.5 ],\n",
       "       [ 9.75, 10.  ,  9.4 ,  7.  ],\n",
       "       [ 1.5 ,  5.5 ,  9.  ,  7.5 ],\n",
       "       [10.  ,  8.  , 10.  ,  9.  ],\n",
       "       [10.  ,  9.  , 10.  ,  9.  ],\n",
       "       [ 9.75, 10.  ,  9.6 ,  7.  ],\n",
       "       [10.  , 10.  , 10.  ,  7.  ],\n",
       "       [ 8.75, 10.  ,  8.25,  7.5 ],\n",
       "       [ 0.  ,  9.  ,  9.55,  6.5 ],\n",
       "       [ 9.5 , 10.  ,  9.75,  6.5 ],\n",
       "       [ 9.75,  9.5 ,  9.2 ,  7.  ],\n",
       "       [ 0.  ,  9.75,  0.  ,  8.5 ],\n",
       "       [10.  ,  9.5 ,  9.8 ,  6.5 ],\n",
       "       [10.  , 10.  , 10.  ,  9.  ],\n",
       "       [ 9.5 , 10.  ,  9.  ,  8.5 ],\n",
       "       [10.  , 10.  , 10.  , 10.  ],\n",
       "       [ 0.  ,  8.5 ,  9.6 ,  9.  ],\n",
       "       [ 9.75, 10.  , 10.  ,  8.  ]])"
      ]
     },
     "execution_count": 2,
     "metadata": {},
     "output_type": "execute_result"
    }
   ],
   "source": [
    "# Tạo array từ file\n",
    "# File 'P4DS-Grades.csv' chứa điểm này của khóa trước ;-)\n",
    "# 3 cột đầu ứng với điểm 3 HW (mỗi HW chiếm 50%/3 tổng điểm)\n",
    "# cột cuối ứng điểm đồ án cuối kỳ (chiếm 50% tổng điểm)\n",
    "p4ds_grades = np.genfromtxt('Data/P4DS-Grades.csv',\n",
    "                            delimiter=',', skip_header=1)\n",
    "p4ds_grades"
   ]
  },
  {
   "cell_type": "code",
   "execution_count": 3,
   "metadata": {
    "tags": []
   },
   "outputs": [
    {
     "name": "stdout",
     "output_type": "stream",
     "text": [
      "[0. 0. 0. 0.]\n",
      "[10. 10. 10. 10.]\n"
     ]
    }
   ],
   "source": [
    "# Tính min, max của mỗi cột điểm\n",
    "# để xem có gì bất thường không\n",
    "print(np.min(p4ds_grades, axis=0))\n",
    "print(np.max(p4ds_grades, axis=0))"
   ]
  },
  {
   "cell_type": "code",
   "execution_count": 4,
   "metadata": {
    "jupyter": {
     "source_hidden": true
    },
    "scrolled": true,
    "tags": []
   },
   "outputs": [
    {
     "data": {
      "text/plain": [
       "array([ 0. ,  9.8,  8.2,  8.9,  9.4,  9.2,  9.5,  9.4,  9.4,  8.9,  8.4,\n",
       "        9. ,  7.5,  8.9,  9.1, 10. ,  2.8,  9.5,  9.3,  9.5,  9.8, 10. ,\n",
       "        7.3,  9.7,  8.7,  9.4,  8.8,  9.6,  8.4,  6.4,  9.2,  9.3,  8.4,\n",
       "        8.5,  8.2,  6.3,  8.1,  8.2,  5.9,  8.1,  9.5,  9. , 10. ,  7.5,\n",
       "        9. ])"
      ]
     },
     "execution_count": 4,
     "metadata": {},
     "output_type": "execute_result"
    }
   ],
   "source": [
    "# Tính cột điểm tổng kết\n",
    "avg_grades = (p4ds_grades[:, 0] * 0.5 / 3\n",
    "              + p4ds_grades[:, 1] * 0.5 / 3\n",
    "              + p4ds_grades[:, 2] * 0.5 / 3\n",
    "              + p4ds_grades[:, 3] * 0.5)\n",
    "avg_grades.round(1)"
   ]
  },
  {
   "cell_type": "code",
   "execution_count": 5,
   "metadata": {},
   "outputs": [
    {
     "data": {
      "text/plain": [
       "0.044444444444444446"
      ]
     },
     "execution_count": 5,
     "metadata": {},
     "output_type": "execute_result"
    }
   ],
   "source": [
    "# Tỉ lệ sinh viên rớt môn là bao nhiêu?\n",
    "a = avg_grades < 5\n",
    "# a.sum() / len(a)\n",
    "a.mean()"
   ]
  },
  {
   "cell_type": "code",
   "execution_count": 6,
   "metadata": {
    "scrolled": true
   },
   "outputs": [
    {
     "name": "stdout",
     "output_type": "stream",
     "text": [
      "8.443703703703703\n",
      "1.812645188357383\n"
     ]
    }
   ],
   "source": [
    "# Tính mean & standard deviation của cột điểm tổng kết\n",
    "print(avg_grades.mean())\n",
    "print(avg_grades.std())"
   ]
  },
  {
   "cell_type": "code",
   "execution_count": 7,
   "metadata": {},
   "outputs": [
    {
     "name": "stdout",
     "output_type": "stream",
     "text": [
      "0.0\n",
      "8.241666666666667\n",
      "8.958333333333334\n",
      "9.416666666666668\n",
      "10.0\n"
     ]
    }
   ],
   "source": [
    "# Tính min, lower quartile, median, upper quartile, max \n",
    "# của cột điểm tổng kết\n",
    "print(np.percentile(avg_grades, 0))\n",
    "print(np.percentile(avg_grades, 25))\n",
    "print(np.percentile(avg_grades, 50))\n",
    "print(np.percentile(avg_grades, 75))\n",
    "print(np.percentile(avg_grades, 100))"
   ]
  },
  {
   "cell_type": "code",
   "execution_count": 8,
   "metadata": {},
   "outputs": [
    {
     "name": "stdout",
     "output_type": "stream",
     "text": [
      "1 1\n",
      "1 2\n",
      "2 3\n",
      "3 4\n",
      "4 5\n",
      "5 5\n",
      "6 6\n",
      "7 7\n",
      "8 8\n",
      "9 9\n",
      "9 9\n"
     ]
    }
   ],
   "source": [
    "# So sánh hàm tính percentile của Numpy với hàm tự viết trước đây\n",
    "def compute_percentile(data, p):\n",
    "    sorted_data = sorted(data)\n",
    "    i = max(math.ceil(p / 100 * len(sorted_data)) - 1, 0)\n",
    "#   i = math.ceil(p/100 * (len(sorted_data) - 1)) # Cách làm của Numpy\n",
    "    return sorted_data[i]\n",
    "\n",
    "data = np.arange(1, 10)\n",
    "for p in range(0, 101, 10):\n",
    "    print(compute_percentile(data, p), end=' ')\n",
    "    print(np.percentile(data, p, interpolation='higher'))"
   ]
  },
  {
   "cell_type": "code",
   "execution_count": 9,
   "metadata": {},
   "outputs": [
    {
     "data": {
      "image/png": "[encoded data removed]",
      "text/plain": [
       "<Figure size 432x288 with 1 Axes>"
      ]
     },
     "metadata": {
      "needs_background": "light"
     },
     "output_type": "display_data"
    },
    {
     "data": {
      "image/png": "[encoded data removed]",
      "text/plain": [
       "<Figure size 432x288 with 1 Axes>"
      ]
     },
     "metadata": {
      "needs_background": "light"
     },
     "output_type": "display_data"
    }
   ],
   "source": [
    "# Tính histogram của cột điểm tổng kết, rồi vẽ\n",
    "counts, bins = np.histogram(avg_grades, bins=range(11))\n",
    "plt.hist(bins[:-1], bins, edgecolor='black', weights=counts)\n",
    "\n",
    "# Tính histogram và vẽ luôn một lần bằng câu lệnh plt.hist\n",
    "plt.figure()\n",
    "plt.hist(avg_grades, bins=range(11), edgecolor='black');"
   ]
  },
  {
   "cell_type": "code",
   "execution_count": 10,
   "metadata": {},
   "outputs": [
    {
     "data": {
      "text/plain": [
       "array([[ 0.        ,  0.        ,  0.        ,  0.        ,  0.        ],\n",
       "       [10.        , 10.        , 10.        ,  9.5       ,  9.75      ],\n",
       "       [10.        ,  9.25      ,  9.        ,  7.        ,  8.20833333],\n",
       "       [10.        ,  9.5       ,  9.85      ,  8.        ,  8.89166667],\n",
       "       [10.        ,  9.75      ,  9.75      ,  9.        ,  9.41666667],\n",
       "       [10.        , 10.        , 10.        ,  8.5       ,  9.25      ],\n",
       "       [10.        , 10.        ,  9.75      ,  9.        ,  9.45833333],\n",
       "       [10.        ,  9.5       ,  9.7       ,  9.        ,  9.36666667],\n",
       "       [10.        ,  9.75      ,  9.35      ,  9.        ,  9.35      ],\n",
       "       [10.        , 10.        ,  9.6       ,  8.        ,  8.93333333],\n",
       "       [ 9.        ,  9.25      ,  9.9       ,  7.5       ,  8.44166667],\n",
       "       [10.        , 10.        , 10.        ,  8.        ,  9.        ],\n",
       "       [10.        ,  8.5       ,  5.75      ,  7.        ,  7.54166667],\n",
       "       [10.        ,  9.5       ,  9.75      ,  8.        ,  8.875     ],\n",
       "       [ 9.25      , 10.        , 10.        ,  8.5       ,  9.125     ],\n",
       "       [10.        , 10.        , 10.        , 10.        , 10.        ],\n",
       "       [ 8.5       ,  8.25      ,  0.        ,  0.        ,  2.79166667],\n",
       "       [10.        , 10.        ,  9.9       ,  9.        ,  9.48333333],\n",
       "       [10.        ,  9.5       ,  9.45      ,  9.        ,  9.325     ],\n",
       "       [ 9.75      , 10.        , 10.        ,  9.        ,  9.45833333],\n",
       "       [10.        , 10.        ,  9.        , 10.        ,  9.83333333],\n",
       "       [10.        ,  9.75      , 10.        , 10.        ,  9.95833333],\n",
       "       [ 9.75      ,  9.5       ,  5.25      ,  6.5       ,  7.33333333],\n",
       "       [ 9.75      ,  9.75      , 10.        ,  9.5       ,  9.66666667],\n",
       "       [ 9.5       , 10.        , 10.        ,  7.5       ,  8.66666667],\n",
       "       [10.        ,  9.25      ,  9.9       ,  9.        ,  9.35833333],\n",
       "       [10.        , 10.        , 10.        ,  7.5       ,  8.75      ],\n",
       "       [ 9.5       , 10.        ,  9.75      ,  9.5       ,  9.625     ],\n",
       "       [ 9.75      , 10.        ,  9.4       ,  7.        ,  8.35833333],\n",
       "       [ 1.5       ,  5.5       ,  9.        ,  7.5       ,  6.41666667],\n",
       "       [10.        ,  8.        , 10.        ,  9.        ,  9.16666667],\n",
       "       [10.        ,  9.        , 10.        ,  9.        ,  9.33333333],\n",
       "       [ 9.75      , 10.        ,  9.6       ,  7.        ,  8.39166667],\n",
       "       [10.        , 10.        , 10.        ,  7.        ,  8.5       ],\n",
       "       [ 8.75      , 10.        ,  8.25      ,  7.5       ,  8.25      ],\n",
       "       [ 0.        ,  9.        ,  9.55      ,  6.5       ,  6.34166667],\n",
       "       [ 9.5       , 10.        ,  9.75      ,  6.5       ,  8.125     ],\n",
       "       [ 9.75      ,  9.5       ,  9.2       ,  7.        ,  8.24166667],\n",
       "       [ 0.        ,  9.75      ,  0.        ,  8.5       ,  5.875     ],\n",
       "       [10.        ,  9.5       ,  9.8       ,  6.5       ,  8.13333333],\n",
       "       [10.        , 10.        , 10.        ,  9.        ,  9.5       ],\n",
       "       [ 9.5       , 10.        ,  9.        ,  8.5       ,  9.        ],\n",
       "       [10.        , 10.        , 10.        , 10.        , 10.        ],\n",
       "       [ 0.        ,  8.5       ,  9.6       ,  9.        ,  7.51666667],\n",
       "       [ 9.75      , 10.        , 10.        ,  8.        ,  8.95833333]])"
      ]
     },
     "execution_count": 10,
     "metadata": {},
     "output_type": "execute_result"
    }
   ],
   "source": [
    "# Thêm cột điểm tổng kết vào array gồm 4 cột điểm thành phần\n",
    "np.concatenate((p4ds_grades, avg_grades.reshape(-1, 1)), axis=1)"
   ]
  },
  {
   "cell_type": "code",
   "execution_count": 11,
   "metadata": {},
   "outputs": [],
   "source": [
    "# Lưu array gồm 4 cột điểm thành phần + 1 cột điểm tổng kết \n",
    "# xuống file\n",
    "# Bạn có thể dùng hàm np.savetxt"
   ]
  },
  {
   "cell_type": "markdown",
   "metadata": {},
   "source": [
    " "
   ]
  },
  {
   "cell_type": "code",
   "execution_count": 12,
   "metadata": {},
   "outputs": [
    {
     "data": {
      "text/plain": [
       "array([['Khoa học máy tính', '7.02'],\n",
       "       ['Khoa học máy tính', '6.57'],\n",
       "       ['Khoa học máy tính', '7.76'],\n",
       "       ['Khoa học máy tính', '8.20'],\n",
       "       ['Khoa học máy tính', '7.06'],\n",
       "       ['Khoa học máy tính', '7.64'],\n",
       "       ['Khoa học máy tính', '7.40'],\n",
       "       ['Khoa học máy tính', '8.43'],\n",
       "       ['Khoa học máy tính', '7.94'],\n",
       "       ['Khoa học máy tính', '7.17'],\n",
       "       ['Khoa học máy tính', '8.34'],\n",
       "       ['Khoa học máy tính', '7.97'],\n",
       "       ['Khoa học máy tính', '8.19'],\n",
       "       ['Khoa học máy tính', '8.49'],\n",
       "       ['Khoa học máy tính', '8.65'],\n",
       "       ['Thị giác máy tính và Khoa học Robot', '6.72'],\n",
       "       ['Thị giác máy tính và Khoa học Robot', '7.82'],\n",
       "       ['Thị giác máy tính và Khoa học Robot', '7.53'],\n",
       "       ['Thị giác máy tính và Khoa học Robot', '6.74'],\n",
       "       ['Thị giác máy tính và Khoa học Robot', '8.78'],\n",
       "       ['Thị giác máy tính và Khoa học Robot', '7.67'],\n",
       "       ['Công nghệ tri thức', '6.77'],\n",
       "       ['Công nghệ tri thức', '7.24'],\n",
       "       ['Công nghệ tri thức', '7.38'],\n",
       "       ['Công nghệ tri thức', '7.86'],\n",
       "       ['Công nghệ tri thức', '6.89'],\n",
       "       ['Công nghệ tri thức', '7.26'],\n",
       "       ['Kỹ thuật phần mềm', '6.47'],\n",
       "       ['Kỹ thuật phần mềm', '6.48'],\n",
       "       ['Kỹ thuật phần mềm', '6.81'],\n",
       "       ['Kỹ thuật phần mềm', '6.40'],\n",
       "       ['Kỹ thuật phần mềm', '7.49'],\n",
       "       ['Kỹ thuật phần mềm', '7.08'],\n",
       "       ['Kỹ thuật phần mềm', '7.38'],\n",
       "       ['Kỹ thuật phần mềm', '6.53'],\n",
       "       ['Kỹ thuật phần mềm', '7.48'],\n",
       "       ['Kỹ thuật phần mềm', '6.63'],\n",
       "       ['Kỹ thuật phần mềm', '7.52'],\n",
       "       ['Kỹ thuật phần mềm', '6.69'],\n",
       "       ['Kỹ thuật phần mềm', '6.92'],\n",
       "       ['Kỹ thuật phần mềm', '7.67'],\n",
       "       ['Kỹ thuật phần mềm', '6.95'],\n",
       "       ['Kỹ thuật phần mềm', '7.16'],\n",
       "       ['Kỹ thuật phần mềm', '6.79'],\n",
       "       ['Kỹ thuật phần mềm', '7.77'],\n",
       "       ['Kỹ thuật phần mềm', '7.21'],\n",
       "       ['Kỹ thuật phần mềm', '7.94'],\n",
       "       ['Kỹ thuật phần mềm', '8.69'],\n",
       "       ['Kỹ thuật phần mềm', '7.15'],\n",
       "       ['Kỹ thuật phần mềm', '7.48'],\n",
       "       ['Kỹ thuật phần mềm', '8.19'],\n",
       "       ['Kỹ thuật phần mềm', '6.92'],\n",
       "       ['Kỹ thuật phần mềm', '7.18'],\n",
       "       ['Kỹ thuật phần mềm', '7.77'],\n",
       "       ['Kỹ thuật phần mềm', '6.68'],\n",
       "       ['Kỹ thuật phần mềm', '8.11'],\n",
       "       ['Kỹ thuật phần mềm', '7.09'],\n",
       "       ['Kỹ thuật phần mềm', '6.80'],\n",
       "       ['Kỹ thuật phần mềm', '7.16'],\n",
       "       ['Kỹ thuật phần mềm', '6.93'],\n",
       "       ['Kỹ thuật phần mềm', '7.31'],\n",
       "       ['Kỹ thuật phần mềm', '8.03'],\n",
       "       ['Kỹ thuật phần mềm', '8.04'],\n",
       "       ['Kỹ thuật phần mềm', '7.40'],\n",
       "       ['Kỹ thuật phần mềm', '7.42'],\n",
       "       ['Kỹ thuật phần mềm', '7.33'],\n",
       "       ['Kỹ thuật phần mềm', '7.99'],\n",
       "       ['Kỹ thuật phần mềm', '7.06'],\n",
       "       ['Kỹ thuật phần mềm', '7.08'],\n",
       "       ['Kỹ thuật phần mềm', '7.76'],\n",
       "       ['Kỹ thuật phần mềm', '8.33'],\n",
       "       ['Kỹ thuật phần mềm', '8.18'],\n",
       "       ['Kỹ thuật phần mềm', '8.21'],\n",
       "       ['Kỹ thuật phần mềm', '7.49'],\n",
       "       ['Kỹ thuật phần mềm', '8.47'],\n",
       "       ['Kỹ thuật phần mềm', '8.07'],\n",
       "       ['Kỹ thuật phần mềm', '7.20'],\n",
       "       ['Kỹ thuật phần mềm', '7.49'],\n",
       "       ['Kỹ thuật phần mềm', '7.36'],\n",
       "       ['Kỹ thuật phần mềm', '7.53'],\n",
       "       ['Kỹ thuật phần mềm', '6.80'],\n",
       "       ['Kỹ thuật phần mềm', '7.38'],\n",
       "       ['Kỹ thuật phần mềm', '7.59'],\n",
       "       ['Kỹ thuật phần mềm', '7.32'],\n",
       "       ['Kỹ thuật phần mềm', '8.14'],\n",
       "       ['Kỹ thuật phần mềm', '7.11'],\n",
       "       ['Kỹ thuật phần mềm', '7.40'],\n",
       "       ['Kỹ thuật phần mềm', '8.14'],\n",
       "       ['Kỹ thuật phần mềm', '7.64'],\n",
       "       ['Kỹ thuật phần mềm', '8.19'],\n",
       "       ['Kỹ thuật phần mềm', '8.32'],\n",
       "       ['Kỹ thuật phần mềm', '7.55'],\n",
       "       ['Kỹ thuật phần mềm', '7.72'],\n",
       "       ['Kỹ thuật phần mềm', '7.74'],\n",
       "       ['Kỹ thuật phần mềm', '7.87'],\n",
       "       ['Kỹ thuật phần mềm', '7.99'],\n",
       "       ['Kỹ thuật phần mềm', '8.00'],\n",
       "       ['Kỹ thuật phần mềm', '7.55'],\n",
       "       ['Kỹ thuật phần mềm', '7.53'],\n",
       "       ['Kỹ thuật phần mềm', '7.56'],\n",
       "       ['Kỹ thuật phần mềm', '7.16'],\n",
       "       ['Kỹ thuật phần mềm', '7.66'],\n",
       "       ['Kỹ thuật phần mềm', '6.94'],\n",
       "       ['Kỹ thuật phần mềm', '7.37'],\n",
       "       ['Kỹ thuật phần mềm', '8.01'],\n",
       "       ['Kỹ thuật phần mềm', '6.84'],\n",
       "       ['Kỹ thuật phần mềm', '8.62'],\n",
       "       ['Kỹ thuật phần mềm', '8.00'],\n",
       "       ['Kỹ thuật phần mềm', '7.57'],\n",
       "       ['Kỹ thuật phần mềm', '7.46'],\n",
       "       ['Kỹ thuật phần mềm', '7.51'],\n",
       "       ['Kỹ thuật phần mềm', '7.85'],\n",
       "       ['Kỹ thuật phần mềm', '7.46'],\n",
       "       ['Kỹ thuật phần mềm', '7.15'],\n",
       "       ['Kỹ thuật phần mềm', '8.14'],\n",
       "       ['Kỹ thuật phần mềm', '7.81'],\n",
       "       ['Kỹ thuật phần mềm', '7.84'],\n",
       "       ['Kỹ thuật phần mềm', '8.10'],\n",
       "       ['Kỹ thuật phần mềm', '7.06'],\n",
       "       ['Kỹ thuật phần mềm', '7.60'],\n",
       "       ['Kỹ thuật phần mềm', '8.48'],\n",
       "       ['Kỹ thuật phần mềm', '7.78'],\n",
       "       ['Kỹ thuật phần mềm', '7.28'],\n",
       "       ['Kỹ thuật phần mềm', '7.62'],\n",
       "       ['Kỹ thuật phần mềm', '8.48'],\n",
       "       ['Kỹ thuật phần mềm', '7.63'],\n",
       "       ['Kỹ thuật phần mềm', '7.93'],\n",
       "       ['Kỹ thuật phần mềm', '6.79'],\n",
       "       ['Kỹ thuật phần mềm', '7.45'],\n",
       "       ['Kỹ thuật phần mềm', '7.31'],\n",
       "       ['Kỹ thuật phần mềm', '7.64'],\n",
       "       ['Kỹ thuật phần mềm', '7.05'],\n",
       "       ['Kỹ thuật phần mềm', '7.42'],\n",
       "       ['Kỹ thuật phần mềm', '7.59'],\n",
       "       ['Kỹ thuật phần mềm', '8.11'],\n",
       "       ['Kỹ thuật phần mềm', '7.73'],\n",
       "       ['Kỹ thuật phần mềm', '7.18'],\n",
       "       ['Kỹ thuật phần mềm', '7.52'],\n",
       "       ['Kỹ thuật phần mềm', '6.93'],\n",
       "       ['Hệ thống thông tin', '6.26'],\n",
       "       ['Hệ thống thông tin', '6.57'],\n",
       "       ['Hệ thống thông tin', '6.52'],\n",
       "       ['Hệ thống thông tin', '6.39'],\n",
       "       ['Hệ thống thông tin', '6.57'],\n",
       "       ['Hệ thống thông tin', '6.92'],\n",
       "       ['Hệ thống thông tin', '7.45'],\n",
       "       ['Hệ thống thông tin', '8.15'],\n",
       "       ['Hệ thống thông tin', '7.34'],\n",
       "       ['Hệ thống thông tin', '8.06'],\n",
       "       ['Hệ thống thông tin', '7.20'],\n",
       "       ['Hệ thống thông tin', '6.56'],\n",
       "       ['Hệ thống thông tin', '7.32'],\n",
       "       ['Hệ thống thông tin', '7.53'],\n",
       "       ['Hệ thống thông tin', '7.66'],\n",
       "       ['Hệ thống thông tin', '6.77'],\n",
       "       ['Hệ thống thông tin', '7.32'],\n",
       "       ['Hệ thống thông tin', '7.34'],\n",
       "       ['Hệ thống thông tin', '6.97'],\n",
       "       ['Hệ thống thông tin', '7.70'],\n",
       "       ['Hệ thống thông tin', '7.59'],\n",
       "       ['Hệ thống thông tin', '7.39'],\n",
       "       ['Hệ thống thông tin', '7.65'],\n",
       "       ['Hệ thống thông tin', '7.92'],\n",
       "       ['Hệ thống thông tin', '7.27'],\n",
       "       ['Hệ thống thông tin', '6.72'],\n",
       "       ['Hệ thống thông tin', '7.49'],\n",
       "       ['Hệ thống thông tin', '6.83'],\n",
       "       ['Công nghệ thông tin', '7.57'],\n",
       "       ['Công nghệ thông tin', '6.38'],\n",
       "       ['Công nghệ thông tin', '6.57'],\n",
       "       ['Công nghệ thông tin', '6.33'],\n",
       "       ['Công nghệ thông tin', '6.51'],\n",
       "       ['Công nghệ thông tin', '6.95'],\n",
       "       ['Công nghệ thông tin', '6.88'],\n",
       "       ['Công nghệ thông tin', '7.58'],\n",
       "       ['Công nghệ thông tin', '6.65'],\n",
       "       ['Công nghệ thông tin', '7.24'],\n",
       "       ['Công nghệ thông tin', '6.85'],\n",
       "       ['Công nghệ thông tin', '7.94'],\n",
       "       ['Công nghệ thông tin', '7.60'],\n",
       "       ['Công nghệ thông tin', '6.98'],\n",
       "       ['Công nghệ thông tin', '8.13'],\n",
       "       ['Mạng máy tính và Truyền thông', '7.18'],\n",
       "       ['Mạng máy tính và Truyền thông', '7.14'],\n",
       "       ['Mạng máy tính và Truyền thông', '6.29'],\n",
       "       ['Mạng máy tính và Truyền thông', '7.01'],\n",
       "       ['Mạng máy tính và Truyền thông', '6.79'],\n",
       "       ['Mạng máy tính và Truyền thông', '7.32'],\n",
       "       ['Mạng máy tính và Truyền thông', '7.50'],\n",
       "       ['Mạng máy tính và Truyền thông', '7.33'],\n",
       "       ['Mạng máy tính và Truyền thông', '8.16']], dtype='<U35')"
      ]
     },
     "execution_count": 12,
     "metadata": {},
     "output_type": "execute_result"
    }
   ],
   "source": [
    "# Đọc file \"Graduation.csv\" vào Numpy array\n",
    "# File này chứa kết quả tốt nghiệp của một khóa trước đây ;-)\n",
    "graduation = np.genfromtxt('Data/Graduation.csv',\n",
    "                           dtype=str,\n",
    "                           delimiter=',')\n",
    "graduation"
   ]
  },
  {
   "cell_type": "code",
   "execution_count": 13,
   "metadata": {},
   "outputs": [
    {
     "data": {
      "text/plain": [
       "dtype('<U35')"
      ]
     },
     "execution_count": 13,
     "metadata": {},
     "output_type": "execute_result"
    }
   ],
   "source": [
    "graduation.dtype"
   ]
  },
  {
   "cell_type": "code",
   "execution_count": 14,
   "metadata": {},
   "outputs": [
    {
     "data": {
      "text/plain": [
       "191"
      ]
     },
     "execution_count": 14,
     "metadata": {},
     "output_type": "execute_result"
    }
   ],
   "source": [
    "# Có bao nhiêu bạn tốt nghiệp?\n",
    "len(graduation)"
   ]
  },
  {
   "cell_type": "code",
   "execution_count": 15,
   "metadata": {},
   "outputs": [
    {
     "data": {
      "image/png": "[encoded data removed]",
      "text/plain": [
       "<Figure size 432x288 with 1 Axes>"
      ]
     },
     "metadata": {
      "needs_background": "light"
     },
     "output_type": "display_data"
    }
   ],
   "source": [
    "# Vẽ bar chart cho cột chuyên ngành, \n",
    "# sort các bar theo chiều cao của bar\n",
    "majors = graduation[:, 0]\n",
    "diff_majors, counts = np.unique(majors, return_counts=True)\n",
    "sorted_idxs = np.argsort(counts)\n",
    "plt.barh(diff_majors[sorted_idxs], counts[sorted_idxs]);"
   ]
  },
  {
   "cell_type": "code",
   "execution_count": 16,
   "metadata": {},
   "outputs": [
    {
     "data": {
      "image/png": "[encoded data removed]",
      "text/plain": [
       "<Figure size 432x288 with 1 Axes>"
      ]
     },
     "metadata": {
      "needs_background": "light"
     },
     "output_type": "display_data"
    }
   ],
   "source": [
    "# Vẽ histogram cho cột điểm tốt nghiệp\n",
    "grades = graduation[:, 1]\n",
    "grades = grades.astype(float)\n",
    "hist = plt.hist(grades, edgecolor='black')\n",
    "plt.xticks(hist[1].round(2));"
   ]
  },
  {
   "cell_type": "markdown",
   "metadata": {
    "tags": []
   },
   "source": [
    "## Broadcasting"
   ]
  },
  {
   "cell_type": "markdown",
   "metadata": {},
   "source": [
    "Là cơ chế của Numpy cho phép thực hiện tính toán khi các array không có cùng shape như thể có cùng shape (ở bên dưới, vụ này sẽ được thực hiện một cách hiệu quả: sẽ không tạo ra các array mới có cùng shape).\n",
    "\n",
    "Ví dụ: \n",
    "\n",
    "`a = np.array([1, 2, 3])`\n",
    "\n",
    "`a + 10`\n",
    "\n",
    "[Luật broadcasting](https://numpy.org/devdocs/user/quickstart.html#broadcasting-rules):\n",
    "\n",
    "- Rule 1: if all input arrays do not have the same number of dimensions, a “1” will be repeatedly prepended to the shapes of the smaller arrays until all the arrays have the same number of dimensions.\n",
    "- Rule 2: arrays with a size of 1 along a particular dimension act as if they had the size of the array with the largest shape along that dimension. The value of the array element is assumed to be the same along that dimension for the “broadcast” array.\n",
    "- After application of the broadcasting rules, the sizes of all arrays must match"
   ]
  },
  {
   "cell_type": "code",
   "execution_count": 17,
   "metadata": {},
   "outputs": [
    {
     "data": {
      "text/plain": [
       "array([[14, 15, 16],\n",
       "       [17, 18, 19]])"
      ]
     },
     "execution_count": 17,
     "metadata": {},
     "output_type": "execute_result"
    }
   ],
   "source": [
    "# Ví dụ 1\n",
    "a = np.array([[4, 5, 6],\n",
    "              [7, 8, 9]])\n",
    "a + 10"
   ]
  },
  {
   "cell_type": "raw",
   "metadata": {},
   "source": [
    "shape của a:  2, 3\n",
    "shape của 10: \n",
    "              1, 1  [[10]]\n",
    "              2, 1  [[10],\n",
    "                     [10]]\n",
    "              2, 3  [[10, 10, 10],\n",
    "                     [10, 10, 10],\n",
    "                     [10, 10, 10]]"
   ]
  },
  {
   "cell_type": "code",
   "execution_count": 18,
   "metadata": {},
   "outputs": [
    {
     "data": {
      "text/plain": [
       "array([[ 4, 10, 18],\n",
       "       [ 7, 16, 27]])"
      ]
     },
     "execution_count": 18,
     "metadata": {},
     "output_type": "execute_result"
    }
   ],
   "source": [
    "# Ví dụ 2\n",
    "a = np.array([[4, 5, 6],\n",
    "              [7, 8, 9]])\n",
    "b = np.array([[1, 2, 3]])\n",
    "a * b"
   ]
  },
  {
   "cell_type": "raw",
   "metadata": {},
   "source": [
    "shape của a: 2, 3\n",
    "shape của b: 1, 3  [[1, 2, 3]]\n",
    "             2, 3  [[1, 2, 3],\n",
    "                    [1, 2, 3]]"
   ]
  },
  {
   "cell_type": "code",
   "execution_count": 19,
   "metadata": {},
   "outputs": [
    {
     "data": {
      "text/plain": [
       "array([[ 4, 10, 18],\n",
       "       [ 7, 16, 27]])"
      ]
     },
     "execution_count": 19,
     "metadata": {},
     "output_type": "execute_result"
    }
   ],
   "source": [
    "# Ví dụ 3\n",
    "a = np.array([[4, 5, 6],\n",
    "              [7, 8, 9]])\n",
    "b = np.array([1, 2, 3])\n",
    "a * b"
   ]
  },
  {
   "cell_type": "raw",
   "metadata": {},
   "source": [
    "shape của a: 2, 3\n",
    "shape của b: 3     [1, 2, 3]\n",
    "             1, 3  [[1, 2, 3]]\n",
    "             2, 3  [[1, 2, 3],\n",
    "                    [1, 2, 3]]"
   ]
  },
  {
   "cell_type": "code",
   "execution_count": 20,
   "metadata": {
    "tags": []
   },
   "outputs": [
    {
     "data": {
      "text/plain": [
       "array([[ 4,  8, 12],\n",
       "       [ 5, 10, 15],\n",
       "       [ 6, 12, 18]])"
      ]
     },
     "execution_count": 20,
     "metadata": {},
     "output_type": "execute_result"
    }
   ],
   "source": [
    "# Broadcasting - ví dụ 4\n",
    "a = np.array([[4],\n",
    "              [5],\n",
    "              [6]])\n",
    "b = np.array([1, 2, 3])\n",
    "a * b"
   ]
  },
  {
   "cell_type": "raw",
   "metadata": {},
   "source": [
    "shape của a: 3, 1  [[4],\n",
    "                    [5],\n",
    "                    [6]]\n",
    "             3, 3  [[4, 4, 4],\n",
    "                    [5, 5, 5],\n",
    "                    [6, 6, 6]]\n",
    "shape của b: 3     [1, 2, 3]\n",
    "             1, 3  [[1, 2, 3]]\n",
    "             3, 3  [[1, 2, 3],\n",
    "                    [1, 2, 3],\n",
    "                    [1, 2, 3]]"
   ]
  },
  {
   "cell_type": "code",
   "execution_count": 21,
   "metadata": {},
   "outputs": [
    {
     "ename": "ValueError",
     "evalue": "operands could not be broadcast together with shapes (2,3) (2,) ",
     "output_type": "error",
     "traceback": [
      "\u001b[0;31m---------------------------------------------------------------------------\u001b[0m",
      "\u001b[0;31mValueError\u001b[0m                                Traceback (most recent call last)",
      "\u001b[0;32m/tmp/ipykernel_7552/2304172128.py\u001b[0m in \u001b[0;36m<module>\u001b[0;34m\u001b[0m\n\u001b[1;32m      3\u001b[0m               [7, 8, 9]])\n\u001b[1;32m      4\u001b[0m \u001b[0mb\u001b[0m \u001b[0;34m=\u001b[0m \u001b[0mnp\u001b[0m\u001b[0;34m.\u001b[0m\u001b[0marray\u001b[0m\u001b[0;34m(\u001b[0m\u001b[0;34m[\u001b[0m\u001b[0;36m1\u001b[0m\u001b[0;34m,\u001b[0m \u001b[0;36m2\u001b[0m\u001b[0;34m]\u001b[0m\u001b[0;34m)\u001b[0m\u001b[0;34m\u001b[0m\u001b[0;34m\u001b[0m\u001b[0m\n\u001b[0;32m----> 5\u001b[0;31m \u001b[0ma\u001b[0m \u001b[0;34m*\u001b[0m \u001b[0mb\u001b[0m\u001b[0;34m\u001b[0m\u001b[0;34m\u001b[0m\u001b[0m\n\u001b[0m",
      "\u001b[0;31mValueError\u001b[0m: operands could not be broadcast together with shapes (2,3) (2,) "
     ]
    }
   ],
   "source": [
    "# Broadcasting - ví dụ 5\n",
    "a = np.array([[4, 5, 6],\n",
    "              [7, 8, 9]])\n",
    "b = np.array([1, 2])\n",
    "a * b"
   ]
  },
  {
   "cell_type": "raw",
   "metadata": {},
   "source": [
    "shape của a: 2, 3\n",
    "shape của b: 1, 2"
   ]
  },
  {
   "cell_type": "code",
   "execution_count": 22,
   "metadata": {},
   "outputs": [
    {
     "name": "stdout",
     "output_type": "stream",
     "text": [
      "[-1.11022302e-16  9.43689571e-17]\n",
      "[1. 1.]\n"
     ]
    }
   ],
   "source": [
    "# Bài tập broadcasting:\n",
    "# Chuẩn hóa để các cột của array data có mean = 0 & std = 1\n",
    "# (Cách làm: lấy mỗi cột trừ cho mean của cột đó, \n",
    "#            rồi chia cho std của cột đó)\n",
    "data = np.random.randint(0, 10, (20, 2))\n",
    "data[:, 1] *= 3\n",
    "# TODO\n",
    "data = (data - data.mean(axis=0)) / data.std(axis=0)\n",
    "\n",
    "print(data.mean(axis=0))\n",
    "print(data.std(axis=0))"
   ]
  },
  {
   "cell_type": "markdown",
   "metadata": {
    "tags": []
   },
   "source": [
    "## Áp dụng Numpy để làm một ví dụ thực tế: recommender system "
   ]
  },
  {
   "cell_type": "code",
   "execution_count": 23,
   "metadata": {},
   "outputs": [
    {
     "data": {
      "text/plain": [
       "array([[ 5.,  4., nan,  1., nan],\n",
       "       [nan,  4.,  4.,  2.,  2.],\n",
       "       [ 3., nan, nan,  5.,  5.],\n",
       "       [nan,  3.,  4.,  4., nan]])"
      ]
     },
     "execution_count": 23,
     "metadata": {},
     "output_type": "execute_result"
    }
   ],
   "source": [
    "# Đọc file Ratings-Small.csv vào Numpy array\n",
    "# Trong file này:\n",
    "# - Mỗi cột ứng với một phim\n",
    "# - Mỗi dòng ứng với một người dùng, và cho biết người này đã\n",
    "#   cho mỗi phim bao nhiêu điểm (thang 1-5)\n",
    "ratings = np.genfromtxt('Data/Ratings-Small.csv',\n",
    "                        delimiter=',',\n",
    "                        skip_header=1)\n",
    "ratings"
   ]
  },
  {
   "cell_type": "markdown",
   "metadata": {},
   "source": [
    "Mục tiêu ở đây là dự đoán các giá trị thiếu của mỗi người dùng; từ đó, recommend cho người dùng các bộ phim mà ta dự đoán người dùng sẽ cho điểm cao.\n",
    "\n",
    "Để đơn giản, ở đây ta chỉ tập trung làm cho người dùng đầu tiên."
   ]
  },
  {
   "cell_type": "code",
   "execution_count": 24,
   "metadata": {},
   "outputs": [],
   "source": [
    "np.set_printoptions(suppress=True) # Để numpy in dễ nhìn"
   ]
  },
  {
   "cell_type": "code",
   "execution_count": 25,
   "metadata": {
    "scrolled": true
   },
   "outputs": [
    {
     "data": {
      "text/plain": [
       "array([1000.        ,    1.99600798,    0.33322226,    0.49975012])"
      ]
     },
     "execution_count": 25,
     "metadata": {},
     "output_type": "execute_result"
    }
   ],
   "source": [
    "# Tính trọng số thể hiện cho độ tương tự giữa người dùng đầu tiên\n",
    "# với tất cả người dùng \n",
    "r0 = ratings[0]\n",
    "a = np.abs(ratings - r0)\n",
    "a = np.nanmean(a, axis=1) # Bỏ qua nan\n",
    "w = 1 / (a + 0.001) # Cộng 0.001 để tránh chia phải 0 \n",
    "w"
   ]
  },
  {
   "cell_type": "code",
   "execution_count": 26,
   "metadata": {},
   "outputs": [
    {
     "data": {
      "text/plain": [
       "array([[nan, nan],\n",
       "       [ 4.,  2.],\n",
       "       [nan,  5.],\n",
       "       [ 4., nan]])"
      ]
     },
     "execution_count": 26,
     "metadata": {},
     "output_type": "execute_result"
    }
   ],
   "source": [
    "# Lấy ra các cột ứng với các phim \n",
    "# mà người dùng đầu tiên chưa cho điểm\n",
    "a = ratings[:, np.isnan(r0)]\n",
    "a"
   ]
  },
  {
   "cell_type": "code",
   "execution_count": 27,
   "metadata": {},
   "outputs": [
    {
     "data": {
      "text/plain": [
       "array([[0.        , 0.        ],\n",
       "       [0.79976019, 0.85693889],\n",
       "       [0.        , 0.14306111],\n",
       "       [0.20023981, 0.        ]])"
      ]
     },
     "execution_count": 27,
     "metadata": {},
     "output_type": "execute_result"
    }
   ],
   "source": [
    "# Tính ma trận trọng số đã được chuẩn hóa \n",
    "# có cùng shape với kết quả ở trên\n",
    "# (tổng các cột sẽ bằng 1)\n",
    "normalized_w = ~np.isnan(a) * w.reshape(-1, 1)\n",
    "normalized_w = normalized_w / normalized_w.sum(axis=0)\n",
    "normalized_w"
   ]
  },
  {
   "cell_type": "code",
   "execution_count": 28,
   "metadata": {},
   "outputs": [
    {
     "data": {
      "text/plain": [
       "array([4.        , 2.42918332])"
      ]
     },
     "execution_count": 28,
     "metadata": {},
     "output_type": "execute_result"
    }
   ],
   "source": [
    "# Nhân điểm (rating) với trọng số đã chuẩn hóa rồi cộng lại\n",
    "# là sẽ ra điểm dự đoán cho người dùng đầu tiên\n",
    "np.nansum(a * normalized_w, axis=0)"
   ]
  },
  {
   "cell_type": "markdown",
   "metadata": {},
   "source": [
    "Như vậy, ta có thể recommend cho người dùng đầu tiên phim có điểm dự đoán cao."
   ]
  }
 ],
 "metadata": {
  "kernelspec": {
   "display_name": "Python 3 (ipykernel)",
   "language": "python",
   "name": "python3"
  },
  "language_info": {
   "codemirror_mode": {
    "name": "ipython",
    "version": 3
   },
   "file_extension": ".py",
   "mimetype": "text/x-python",
   "name": "python",
   "nbconvert_exporter": "python",
   "pygments_lexer": "ipython3",
   "version": "3.8.8"
  },
  "toc": {
   "base_numbering": 1,
   "nav_menu": {},
   "number_sections": false,
   "sideBar": true,
   "skip_h1_title": false,
   "title_cell": "Table of Contents",
   "title_sidebar": "Contents",
   "toc_cell": false,
   "toc_position": {
    "height": "338.4px",
    "left": "140px",
    "top": "32.133px",
    "width": "165px"
   },
   "toc_section_display": true,
   "toc_window_display": false
  }
 },
 "nbformat": 4,
 "nbformat_minor": 4
}
