{
 "cells": [
  {
   "cell_type": "markdown",
   "metadata": {},
   "source": [
    "# Matplotlib"
   ]
  },
  {
   "cell_type": "markdown",
   "metadata": {},
   "source": [
    "Cập nhật lần cuối: 28/11/2021."
   ]
  },
  {
   "cell_type": "code",
   "execution_count": 1,
   "metadata": {
    "hide_input": false
   },
   "outputs": [],
   "source": [
    "import matplotlib.pyplot as plt\n",
    "# Với các phiên bản cũ của Jupyter Notebook thì có thể cần setup\n",
    "# thêm bằng câu lệnh magic: \n",
    "# %matplotlib inline\n",
    "\n",
    "import datetime\n",
    "import math"
   ]
  },
  {
   "cell_type": "markdown",
   "metadata": {},
   "source": [
    "## Histogram\n",
    "\n",
    "Dùng để trực quan hóa phân bố các giá trị của biến dạng \"numerical\""
   ]
  },
  {
   "cell_type": "markdown",
   "metadata": {},
   "source": [
    "### Đọc dữ liệu điểm quiz từ file và tiền xử lý"
   ]
  },
  {
   "cell_type": "code",
   "execution_count": 2,
   "metadata": {},
   "outputs": [
    {
     "name": "stdout",
     "output_type": "stream",
     "text": [
      "State: [Finished, ...]\n",
      "Started on: [11 November 2021  7:00 PM, ...]\n",
      "Completed: [11 November 2021  7:13 PM, ...]\n",
      "Time taken: [13 mins 31 secs, ...]\n",
      "Grade/16.00: [13.17, ...]\n",
      "Q. 1 /1.00: [1, ...]\n",
      "Q. 2 /1.00: [0, ...]\n",
      "Q. 3 /1.00: [1, ...]\n",
      "Q. 4 /1.00: [1, ...]\n",
      "Q. 5 /1.00: [1, ...]\n",
      "Q. 6 /1.00: [1, ...]\n",
      "Q. 7 /1.00: [1, ...]\n",
      "Q. 8 /1.00: [1, ...]\n",
      "Q. 9 /1.00: [1, ...]\n",
      "Q. 10 /1.00: [0, ...]\n",
      "Q. 11 /1.00: [1, ...]\n",
      "Q. 12 /1.00: [0.67, ...]\n",
      "Q. 13 /1.00: [1, ...]\n",
      "Q. 14 /1.00: [1, ...]\n",
      "Q. 15 /1.00: [0.5, ...]\n",
      "Q. 16 /1.00: [1, ...]\n"
     ]
    }
   ],
   "source": [
    "# Đọc dữ liệu về kết quả làm quiz của lớp\n",
    "# (Code lấy từ file 05-Demo.ipynb)\n",
    "file = open('Data/PythonQuiz.csv', 'r')\n",
    "\n",
    "cols = {}\n",
    "first_line_vals = file.readline().rstrip().split(',')\n",
    "for first_line_val in first_line_vals:\n",
    "    cols[first_line_val] = []\n",
    "for line in file:\n",
    "    line_vals = line.rstrip().split(',')\n",
    "    for i in range(len(line_vals)):        \n",
    "        col_name = first_line_vals[i] \n",
    "        col_val = line_vals[i]\n",
    "        cols[col_name].append(col_val)\n",
    "\n",
    "file.close()\n",
    "\n",
    "for col_name, col_vals in cols.items():\n",
    "    print(f'{col_name}: [{col_vals[0]}, ...]')"
   ]
  },
  {
   "cell_type": "code",
   "execution_count": 3,
   "metadata": {},
   "outputs": [
    {
     "name": "stdout",
     "output_type": "stream",
     "text": [
      "State <class 'str'>\n",
      "Started on <class 'datetime.datetime'>\n",
      "Completed <class 'datetime.datetime'>\n",
      "Time taken <class 'float'>\n",
      "Grade/16.00 <class 'float'>\n",
      "Q. 1 /1.00 <class 'float'>\n",
      "Q. 2 /1.00 <class 'float'>\n",
      "Q. 3 /1.00 <class 'float'>\n",
      "Q. 4 /1.00 <class 'float'>\n",
      "Q. 5 /1.00 <class 'float'>\n",
      "Q. 6 /1.00 <class 'float'>\n",
      "Q. 7 /1.00 <class 'float'>\n",
      "Q. 8 /1.00 <class 'float'>\n",
      "Q. 9 /1.00 <class 'float'>\n",
      "Q. 10 /1.00 <class 'float'>\n",
      "Q. 11 /1.00 <class 'float'>\n",
      "Q. 12 /1.00 <class 'float'>\n",
      "Q. 13 /1.00 <class 'float'>\n",
      "Q. 14 /1.00 <class 'float'>\n",
      "Q. 15 /1.00 <class 'float'>\n",
      "Q. 16 /1.00 <class 'float'>\n"
     ]
    }
   ],
   "source": [
    "# Chuyển kiểu dữ liệu của các cột từ str sang kiểu dữ liệu phù hợp\n",
    "# (Code lấy từ file 05-Demo.ipynb)\n",
    "for col_name, col_vals in cols.items():\n",
    "    if '/' in col_name:\n",
    "        new_col_vals = []\n",
    "        for col_val in col_vals:\n",
    "            new_col_vals.append(float(col_val))\n",
    "        cols[col_name] = new_col_vals\n",
    "    elif col_name in ['Started on', 'Completed']:\n",
    "        new_col_vals = []\n",
    "        for col_val in col_vals:\n",
    "            temp = datetime.datetime.strptime(\n",
    "                col_val, '%d %B %Y %H:%M %p')\n",
    "            new_col_vals.append(temp)\n",
    "        cols[col_name] = new_col_vals\n",
    "    elif col_name == 'Time taken':\n",
    "        new_col_vals = []\n",
    "        for col_val in col_vals:\n",
    "            temp_list = col_val.split(' ')\n",
    "            hour = 0; minute = 0; second = 0\n",
    "            for temp_i in range(len(temp_list)):\n",
    "                if 'hour' in temp_list[temp_i]:\n",
    "                    hour = float(temp_list[temp_i-1])\n",
    "                elif 'min' in temp_list[temp_i]:\n",
    "                    minute = float(temp_list[temp_i-1])\n",
    "                if 'sec' in temp_list[temp_i]:\n",
    "                    second = float(temp_list[temp_i-1])\n",
    "            total = hour*60 + minute + second/60\n",
    "            new_col_vals.append(total)\n",
    "        cols[col_name] = new_col_vals\n",
    "\n",
    "for col_name, col_vals in cols.items():\n",
    "    print(col_name, type(col_vals[0]))"
   ]
  },
  {
   "cell_type": "markdown",
   "metadata": {},
   "source": [
    "### Vẽ histogram của cột điểm \"Grade/16.00\" với 4 bin có độ rộng bằng nhau"
   ]
  },
  {
   "cell_type": "code",
   "execution_count": 4,
   "metadata": {},
   "outputs": [
    {
     "name": "stdout",
     "output_type": "stream",
     "text": [
      "(array([ 0.,  9., 14., 27.]), array([ 0,  4,  8, 12, 16]), <BarContainer object of 4 artists>)\n"
     ]
    },
    {
     "data": {
      "image/png": "[encoded data removed]",
      "text/plain": [
       "<Figure size 432x288 with 1 Axes>"
      ]
     },
     "metadata": {
      "needs_background": "light"
     },
     "output_type": "display_data"
    }
   ],
   "source": [
    "hist = plt.hist(cols['Grade/16.00'], [0, 4, 8, 12, 16], \n",
    "                edgecolor='black')\n",
    "print(hist)\n",
    "plt.xlabel('Grade')\n",
    "plt.ylabel('Num students')\n",
    "plt.title('Histogram of quiz grades');\n",
    "# plt.savefig('GradesHist.jpg')"
   ]
  },
  {
   "cell_type": "markdown",
   "metadata": {},
   "source": [
    "Kết quả đã tính ở file \"05-Demo.ipynb\": \\\n",
    "`{(0, 4): 0, (4, 8): 9, (8, 12): 14, (12, 16): 27}`\n",
    "\n",
    "Thật ra, qui ước lấy 2 đầu của bin của hàm `plt.hist` khác với qui ước ở file \"05-Demo.ipynb\". Vậy tại sao kết quả lại giống nhau?"
   ]
  },
  {
   "cell_type": "code",
   "execution_count": 5,
   "metadata": {},
   "outputs": [
    {
     "name": "stdout",
     "output_type": "stream",
     "text": [
      "(array([ 4., 16.,  7., 23.]), array([ 4.17  ,  7.1275, 10.085 , 13.0425, 16.    ]), <BarContainer object of 4 artists>)\n"
     ]
    },
    {
     "data": {
      "image/png": "[encoded data removed]",
      "text/plain": [
       "<Figure size 432x288 with 1 Axes>"
      ]
     },
     "metadata": {
      "needs_background": "light"
     },
     "output_type": "display_data"
    }
   ],
   "source": [
    "# Chia ra 4 bin có độ rộng bằng nhau\n",
    "# bằng cách truyền một con số vào tham số bin của plt.hist\n",
    "hist = plt.hist(cols['Grade/16.00'], 4, \n",
    "                edgecolor='black')\n",
    "print(hist)\n",
    "plt.xlabel('Grade')\n",
    "plt.ylabel('Num students')\n",
    "plt.title('Histogram of quiz grades')\n",
    "plt.xticks(hist[1]); # Chỉ định tick ở trục hoành cho dễ nhìn"
   ]
  },
  {
   "cell_type": "markdown",
   "metadata": {},
   "source": [
    "### Vẽ histogram của cột điểm \"Grade/16.00\" với 2 bin có độ rộng không bằng nhau là [0, 12) và [12, 16]"
   ]
  },
  {
   "cell_type": "code",
   "execution_count": 6,
   "metadata": {},
   "outputs": [
    {
     "name": "stdout",
     "output_type": "stream",
     "text": [
      "(array([23., 27.]), array([ 0, 12, 16]), <BarContainer object of 2 artists>)\n"
     ]
    },
    {
     "data": {
      "image/png": "[encoded data removed]",
      "text/plain": [
       "<Figure size 432x288 with 1 Axes>"
      ]
     },
     "metadata": {
      "needs_background": "light"
     },
     "output_type": "display_data"
    }
   ],
   "source": [
    "hist = plt.hist(cols['Grade/16.00'], [0, 12, 16], \n",
    "                edgecolor='black')\n",
    "print(hist)\n",
    "plt.xlabel('Grade')\n",
    "plt.ylabel('Num students')\n",
    "plt.title('Histogram of quiz grades')\n",
    "plt.xticks(hist[1]);"
   ]
  },
  {
   "cell_type": "markdown",
   "metadata": {},
   "source": [
    "Khi nhìn hình, bạn cảm nhận số lượng sinh viên ở bin thứ 1 như thế nào với bin thứ 2? \\\n",
    "Có vẻ nhiều hơn!\n",
    "\n",
    "Nhưng cảm nhận này không đúng: bin thứ 1 có 23 sinh viên, còn bin thứ 2 có 27 sinh viên.\n",
    "\n",
    "Tại sao ta lại có cảm nhận không đúng này? \\\n",
    "Vì mắt của ta tập trung vào diện tích của cột hơn là chiều cao của cột.\n",
    "\n",
    "Hình vẽ ở trên thật ra không phải là histogram!"
   ]
  },
  {
   "cell_type": "code",
   "execution_count": 7,
   "metadata": {},
   "outputs": [
    {
     "data": {
      "image/png": "[encoded data removed]",
      "text/plain": [
       "<Figure size 432x288 with 1 Axes>"
      ]
     },
     "metadata": {
      "needs_background": "light"
     },
     "output_type": "display_data"
    }
   ],
   "source": [
    "# Đây mới là histogram!\n",
    "# Diện tích của cột ứng với số lượng sinh viên đã được chuẩn hóa \n",
    "# về tỉ lệ tương đối (tổng diện tích của các cột sẽ bằng 1) \n",
    "hist = plt.hist(cols['Grade/16.00'], [0, 12, 16], \n",
    "         edgecolor='black', density=True)\n",
    "plt.title('Histogram of quiz grades')\n",
    "plt.xlabel('Grade')\n",
    "plt.xticks(hist[1])\n",
    "\n",
    "# Label của trục tung là gì?\n",
    "plt.ylabel('Density (proportion per grade)');"
   ]
  },
  {
   "cell_type": "markdown",
   "metadata": {},
   "source": [
    "### Tiếp tục với histogram gồm 2 bin [0, 12) và [12, 16]: phân bố của các giá trị trong bin [12, 16]?"
   ]
  },
  {
   "cell_type": "markdown",
   "metadata": {},
   "source": [
    "Histogram giả định các giá trị được phân bố đều trong mỗi bin. Điều này được thể hiện bởi đường nằm ngang ở trên đầu cột của mỗi bin."
   ]
  },
  {
   "cell_type": "code",
   "execution_count": 8,
   "metadata": {},
   "outputs": [
    {
     "data": {
      "image/png": "[encoded data removed]",
      "text/plain": [
       "<Figure size 432x288 with 1 Axes>"
      ]
     },
     "metadata": {
      "needs_background": "light"
     },
     "output_type": "display_data"
    }
   ],
   "source": [
    "# Thử chi tiết hóa ra bin [12, 16]\n",
    "hist = plt.hist(cols['Grade/16.00'], \n",
    "                [0, 12, 12.5, 13, 13.5, 14, 14.5, 15, 15.5, 16], \n",
    "                edgecolor='black', density=True)\n",
    "plt.xlabel('Grade')\n",
    "plt.ylabel('Proportion per grade')\n",
    "plt.title('Histogram of quiz grades')\n",
    "plt.xticks(hist[1], rotation=90);"
   ]
  },
  {
   "cell_type": "markdown",
   "metadata": {},
   "source": [
    "Tùy ngữ cảnh cụ thể mà bạn có thể muốn chi tiết hóa ra, có thể không muốn chi tiết hóa ra, nhưng khi nhìn hình của histogram thì bạn nên hiểu về giả định phân bố đều trong mỗi bin của histogram."
   ]
  },
  {
   "cell_type": "markdown",
   "metadata": {},
   "source": [
    "### Vẽ histogram của cột điểm \"Grade/16.00\" với 4 bin [0, 4), [4, 8), [8, 12), [12, 16] + 3 đường đứng ứng với lower quartile, median, upper quartile"
   ]
  },
  {
   "cell_type": "code",
   "execution_count": 9,
   "metadata": {
    "scrolled": true
   },
   "outputs": [
    {
     "data": {
      "text/plain": [
       "(8.67, 12.42, 14.5)"
      ]
     },
     "execution_count": 9,
     "metadata": {},
     "output_type": "execute_result"
    }
   ],
   "source": [
    "def compute_percentile(data, p):\n",
    "    sorted_data = sorted(data)\n",
    "    i = max(math.ceil(p/100 * len(sorted_data)) - 1, 0)\n",
    "    return sorted_data[i]\n",
    "lower_quartile = compute_percentile(cols['Grade/16.00'], 25)\n",
    "median = compute_percentile(cols['Grade/16.00'], 50)\n",
    "upper_quartile = compute_percentile(cols['Grade/16.00'], 75)\n",
    "lower_quartile, median, upper_quartile"
   ]
  },
  {
   "cell_type": "code",
   "execution_count": 10,
   "metadata": {},
   "outputs": [
    {
     "data": {
      "image/png": "[encoded data removed]",
      "text/plain": [
       "<Figure size 432x288 with 1 Axes>"
      ]
     },
     "metadata": {
      "needs_background": "light"
     },
     "output_type": "display_data"
    }
   ],
   "source": [
    "hist = plt.hist(cols['Grade/16.00'], [0, 4, 8, 12, 16], \n",
    "                edgecolor='black', density=True)\n",
    "plt.xlabel('Grade')\n",
    "plt.ylabel('Proportion per grade')\n",
    "plt.title('Histogram of quiz grades')\n",
    "plt.xticks(hist[1])\n",
    "plt.axvline(lower_quartile, \n",
    "            color='red', linestyle='solid', linewidth=3, \n",
    "            label='lower quartile')\n",
    "plt.axvline(median, \n",
    "            color='violet', linestyle='dashed', linewidth=3,\n",
    "            label='median')\n",
    "plt.axvline(upper_quartile, \n",
    "            color='yellow', linestyle='dotted', linewidth=3,\n",
    "            label='upper quartile')\n",
    "plt.legend();"
   ]
  },
  {
   "cell_type": "markdown",
   "metadata": {},
   "source": [
    "Tại sao diện tích của cột từ upper quartile đến max lại không tương đương với từ median đến upper quartile?\n",
    "\n",
    "Do giả định phân bố đều của histogram trong bin [12, 16] là không chính xác. Thật ra là có nhiều giá trị tập trung vào vùng từ upper quartile đến max hơn là từ median đến upper quartile."
   ]
  },
  {
   "cell_type": "markdown",
   "metadata": {},
   "source": [
    "## Bar plot\n",
    "\n",
    "Dùng để trực quan hóa phân bố các giá trị của biến dạng \"categorical\""
   ]
  },
  {
   "cell_type": "markdown",
   "metadata": {},
   "source": [
    "### Đọc dữ liệu đăng ký chuyên ngành K2019 (CQ) từ file và lấy ra cột các chuyên ngành"
   ]
  },
  {
   "cell_type": "code",
   "execution_count": 11,
   "metadata": {
    "scrolled": true
   },
   "outputs": [
    {
     "data": {
      "text/plain": [
       "['Mạng máy tính và viễn thông + Công nghệ thông tin',\n",
       " 'Mạng máy tính và viễn thông + Công nghệ thông tin',\n",
       " 'Mạng máy tính và viễn thông + Công nghệ thông tin',\n",
       " 'Mạng máy tính và viễn thông + Công nghệ thông tin',\n",
       " 'Mạng máy tính và viễn thông + Công nghệ thông tin',\n",
       " 'Khoa học máy tính + Khoa học dữ liệu',\n",
       " 'Mạng máy tính và viễn thông + Công nghệ thông tin',\n",
       " 'Hệ thống thông tin',\n",
       " 'Mạng máy tính và viễn thông + Công nghệ thông tin',\n",
       " 'Hệ thống thông tin',\n",
       " 'Hệ thống thông tin',\n",
       " 'Mạng máy tính và viễn thông + Công nghệ thông tin',\n",
       " 'Mạng máy tính và viễn thông + Công nghệ thông tin',\n",
       " 'Không đủ điều kiện',\n",
       " 'Mạng máy tính và viễn thông + Công nghệ thông tin',\n",
       " 'Hệ thống thông tin',\n",
       " 'Mạng máy tính và viễn thông + Công nghệ thông tin',\n",
       " 'Mạng máy tính và viễn thông + Công nghệ thông tin',\n",
       " 'Mạng máy tính và viễn thông + Công nghệ thông tin',\n",
       " 'Mạng máy tính và viễn thông + Công nghệ thông tin',\n",
       " 'Mạng máy tính và viễn thông + Công nghệ thông tin',\n",
       " 'Mạng máy tính và viễn thông + Công nghệ thông tin',\n",
       " 'Hệ thống thông tin',\n",
       " 'Công nghệ tri thức + An toàn thông tin',\n",
       " 'Mạng máy tính và viễn thông + Công nghệ thông tin',\n",
       " 'Thị giác máy tính',\n",
       " 'Mạng máy tính và viễn thông + Công nghệ thông tin',\n",
       " 'Mạng máy tính và viễn thông + Công nghệ thông tin',\n",
       " 'Mạng máy tính và viễn thông + Công nghệ thông tin',\n",
       " 'Mạng máy tính và viễn thông + Công nghệ thông tin',\n",
       " 'Khoa học máy tính + Khoa học dữ liệu',\n",
       " 'Kỹ thuật phần mềm',\n",
       " 'Hệ thống thông tin',\n",
       " 'Thị giác máy tính',\n",
       " 'Khoa học máy tính + Khoa học dữ liệu',\n",
       " 'Khoa học máy tính + Khoa học dữ liệu',\n",
       " 'Kỹ thuật phần mềm',\n",
       " 'Kỹ thuật phần mềm',\n",
       " 'Kỹ thuật phần mềm',\n",
       " 'Kỹ thuật phần mềm',\n",
       " 'Công nghệ tri thức + An toàn thông tin',\n",
       " 'Khoa học máy tính + Khoa học dữ liệu',\n",
       " 'Khoa học máy tính + Khoa học dữ liệu',\n",
       " 'Kỹ thuật phần mềm',\n",
       " 'Kỹ thuật phần mềm',\n",
       " 'Kỹ thuật phần mềm',\n",
       " 'Kỹ thuật phần mềm',\n",
       " 'Kỹ thuật phần mềm',\n",
       " 'Công nghệ tri thức + An toàn thông tin',\n",
       " 'Khoa học máy tính + Khoa học dữ liệu',\n",
       " 'Khoa học máy tính + Khoa học dữ liệu',\n",
       " 'Mạng máy tính và viễn thông + Công nghệ thông tin',\n",
       " 'Hệ thống thông tin',\n",
       " 'Khoa học máy tính + Khoa học dữ liệu',\n",
       " 'Công nghệ tri thức + An toàn thông tin',\n",
       " 'Khoa học máy tính + Khoa học dữ liệu',\n",
       " 'Kỹ thuật phần mềm',\n",
       " 'Kỹ thuật phần mềm',\n",
       " 'Công nghệ tri thức + An toàn thông tin',\n",
       " 'Mạng máy tính và viễn thông + Công nghệ thông tin',\n",
       " 'Khoa học máy tính + Khoa học dữ liệu',\n",
       " 'Khoa học máy tính + Khoa học dữ liệu',\n",
       " 'Kỹ thuật phần mềm',\n",
       " 'Khoa học máy tính + Khoa học dữ liệu',\n",
       " 'Khoa học máy tính + Khoa học dữ liệu',\n",
       " 'Hệ thống thông tin',\n",
       " 'Khoa học máy tính + Khoa học dữ liệu',\n",
       " 'Công nghệ tri thức + An toàn thông tin',\n",
       " 'Kỹ thuật phần mềm',\n",
       " 'Hệ thống thông tin',\n",
       " 'Kỹ thuật phần mềm',\n",
       " 'Mạng máy tính và viễn thông + Công nghệ thông tin',\n",
       " 'Công nghệ tri thức + An toàn thông tin',\n",
       " 'Kỹ thuật phần mềm',\n",
       " 'Hệ thống thông tin',\n",
       " 'Công nghệ tri thức + An toàn thông tin',\n",
       " 'Công nghệ tri thức + An toàn thông tin',\n",
       " 'Khoa học máy tính + Khoa học dữ liệu',\n",
       " 'Kỹ thuật phần mềm',\n",
       " 'Kỹ thuật phần mềm',\n",
       " 'Kỹ thuật phần mềm',\n",
       " 'Hệ thống thông tin',\n",
       " 'Kỹ thuật phần mềm',\n",
       " 'Khoa học máy tính + Khoa học dữ liệu',\n",
       " 'Công nghệ tri thức + An toàn thông tin',\n",
       " 'Khoa học máy tính + Khoa học dữ liệu',\n",
       " 'Khoa học máy tính + Khoa học dữ liệu',\n",
       " 'Công nghệ tri thức + An toàn thông tin',\n",
       " 'Khoa học máy tính + Khoa học dữ liệu',\n",
       " 'Kỹ thuật phần mềm',\n",
       " 'Kỹ thuật phần mềm',\n",
       " 'Không đủ điều kiện',\n",
       " 'Hệ thống thông tin',\n",
       " 'Hệ thống thông tin',\n",
       " 'Hệ thống thông tin',\n",
       " 'Kỹ thuật phần mềm',\n",
       " 'Thị giác máy tính',\n",
       " 'Kỹ thuật phần mềm',\n",
       " 'Mạng máy tính và viễn thông + Công nghệ thông tin',\n",
       " 'Kỹ thuật phần mềm',\n",
       " 'Kỹ thuật phần mềm',\n",
       " 'Không đủ điều kiện',\n",
       " 'Mạng máy tính và viễn thông + Công nghệ thông tin',\n",
       " 'Kỹ thuật phần mềm',\n",
       " 'Hệ thống thông tin',\n",
       " 'Công nghệ tri thức + An toàn thông tin',\n",
       " 'Khoa học máy tính + Khoa học dữ liệu',\n",
       " 'Thị giác máy tính',\n",
       " 'Kỹ thuật phần mềm',\n",
       " 'Thị giác máy tính',\n",
       " 'Hệ thống thông tin',\n",
       " 'Mạng máy tính và viễn thông + Công nghệ thông tin',\n",
       " 'Công nghệ tri thức + An toàn thông tin',\n",
       " 'Mạng máy tính và viễn thông + Công nghệ thông tin',\n",
       " 'Công nghệ tri thức + An toàn thông tin',\n",
       " 'Khoa học máy tính + Khoa học dữ liệu',\n",
       " 'Kỹ thuật phần mềm',\n",
       " 'Khoa học máy tính + Khoa học dữ liệu',\n",
       " 'Kỹ thuật phần mềm',\n",
       " 'Hệ thống thông tin',\n",
       " 'Công nghệ tri thức + An toàn thông tin',\n",
       " 'Khoa học máy tính + Khoa học dữ liệu',\n",
       " 'Khoa học máy tính + Khoa học dữ liệu',\n",
       " 'Kỹ thuật phần mềm',\n",
       " 'Kỹ thuật phần mềm',\n",
       " 'Khoa học máy tính + Khoa học dữ liệu',\n",
       " 'Khoa học máy tính + Khoa học dữ liệu',\n",
       " 'Khoa học máy tính + Khoa học dữ liệu',\n",
       " 'Khoa học máy tính + Khoa học dữ liệu',\n",
       " 'Công nghệ tri thức + An toàn thông tin',\n",
       " 'Hệ thống thông tin',\n",
       " 'Kỹ thuật phần mềm',\n",
       " 'Kỹ thuật phần mềm',\n",
       " 'Hệ thống thông tin',\n",
       " 'Kỹ thuật phần mềm',\n",
       " 'Khoa học máy tính + Khoa học dữ liệu',\n",
       " 'Mạng máy tính và viễn thông + Công nghệ thông tin',\n",
       " 'Kỹ thuật phần mềm',\n",
       " 'Khoa học máy tính + Khoa học dữ liệu',\n",
       " 'Kỹ thuật phần mềm',\n",
       " 'Khoa học máy tính + Khoa học dữ liệu',\n",
       " 'Khoa học máy tính + Khoa học dữ liệu',\n",
       " 'Kỹ thuật phần mềm',\n",
       " 'Khoa học máy tính + Khoa học dữ liệu',\n",
       " 'Kỹ thuật phần mềm',\n",
       " 'Mạng máy tính và viễn thông + Công nghệ thông tin',\n",
       " 'Hệ thống thông tin',\n",
       " 'Khoa học máy tính + Khoa học dữ liệu',\n",
       " 'Hệ thống thông tin',\n",
       " 'Hệ thống thông tin',\n",
       " 'Kỹ thuật phần mềm',\n",
       " 'Kỹ thuật phần mềm',\n",
       " 'Hệ thống thông tin',\n",
       " 'Kỹ thuật phần mềm',\n",
       " 'Công nghệ tri thức + An toàn thông tin',\n",
       " 'Kỹ thuật phần mềm',\n",
       " 'Không đủ điều kiện',\n",
       " 'Hệ thống thông tin',\n",
       " 'Hệ thống thông tin',\n",
       " 'Mạng máy tính và viễn thông + Công nghệ thông tin',\n",
       " 'Mạng máy tính và viễn thông + Công nghệ thông tin',\n",
       " 'Hệ thống thông tin',\n",
       " 'Thị giác máy tính',\n",
       " 'Công nghệ tri thức + An toàn thông tin',\n",
       " 'Kỹ thuật phần mềm',\n",
       " 'Công nghệ tri thức + An toàn thông tin',\n",
       " 'Khoa học máy tính + Khoa học dữ liệu',\n",
       " 'Công nghệ tri thức + An toàn thông tin',\n",
       " 'Thị giác máy tính',\n",
       " 'Kỹ thuật phần mềm',\n",
       " 'Kỹ thuật phần mềm',\n",
       " 'Khoa học máy tính + Khoa học dữ liệu',\n",
       " 'Hệ thống thông tin',\n",
       " 'Khoa học máy tính + Khoa học dữ liệu',\n",
       " 'Công nghệ tri thức + An toàn thông tin',\n",
       " 'Hệ thống thông tin',\n",
       " 'Kỹ thuật phần mềm',\n",
       " 'Thị giác máy tính',\n",
       " 'Khoa học máy tính + Khoa học dữ liệu',\n",
       " 'Công nghệ tri thức + An toàn thông tin',\n",
       " 'Kỹ thuật phần mềm',\n",
       " 'Khoa học máy tính + Khoa học dữ liệu',\n",
       " 'Khoa học máy tính + Khoa học dữ liệu',\n",
       " 'Khoa học máy tính + Khoa học dữ liệu',\n",
       " 'Hệ thống thông tin',\n",
       " 'Mạng máy tính và viễn thông + Công nghệ thông tin',\n",
       " 'Kỹ thuật phần mềm',\n",
       " 'Công nghệ tri thức + An toàn thông tin',\n",
       " 'Kỹ thuật phần mềm',\n",
       " 'Kỹ thuật phần mềm',\n",
       " 'Hệ thống thông tin',\n",
       " 'Không đủ điều kiện',\n",
       " 'Kỹ thuật phần mềm',\n",
       " 'Kỹ thuật phần mềm',\n",
       " 'Khoa học máy tính + Khoa học dữ liệu',\n",
       " 'Khoa học máy tính + Khoa học dữ liệu',\n",
       " 'Hệ thống thông tin',\n",
       " 'Thị giác máy tính',\n",
       " 'Khoa học máy tính + Khoa học dữ liệu',\n",
       " 'Kỹ thuật phần mềm',\n",
       " 'Kỹ thuật phần mềm',\n",
       " 'Kỹ thuật phần mềm',\n",
       " 'Khoa học máy tính + Khoa học dữ liệu',\n",
       " 'Kỹ thuật phần mềm',\n",
       " 'Kỹ thuật phần mềm',\n",
       " 'Khoa học máy tính + Khoa học dữ liệu',\n",
       " 'Công nghệ tri thức + An toàn thông tin',\n",
       " 'Khoa học máy tính + Khoa học dữ liệu',\n",
       " 'Mạng máy tính và viễn thông + Công nghệ thông tin',\n",
       " 'Hệ thống thông tin',\n",
       " 'Khoa học máy tính + Khoa học dữ liệu',\n",
       " 'Kỹ thuật phần mềm',\n",
       " 'Khoa học máy tính + Khoa học dữ liệu',\n",
       " 'Kỹ thuật phần mềm',\n",
       " 'Công nghệ tri thức + An toàn thông tin',\n",
       " 'Khoa học máy tính + Khoa học dữ liệu',\n",
       " 'Hệ thống thông tin',\n",
       " 'Không đủ điều kiện',\n",
       " 'Công nghệ tri thức + An toàn thông tin',\n",
       " 'Khoa học máy tính + Khoa học dữ liệu',\n",
       " 'Kỹ thuật phần mềm',\n",
       " 'Khoa học máy tính + Khoa học dữ liệu',\n",
       " 'Khoa học máy tính + Khoa học dữ liệu',\n",
       " 'Công nghệ tri thức + An toàn thông tin',\n",
       " 'Khoa học máy tính + Khoa học dữ liệu',\n",
       " 'Hệ thống thông tin',\n",
       " 'Mạng máy tính và viễn thông + Công nghệ thông tin',\n",
       " 'Không đủ điều kiện',\n",
       " 'Hệ thống thông tin',\n",
       " 'Khoa học máy tính + Khoa học dữ liệu',\n",
       " 'Khoa học máy tính + Khoa học dữ liệu',\n",
       " 'Kỹ thuật phần mềm',\n",
       " 'Kỹ thuật phần mềm',\n",
       " 'Khoa học máy tính + Khoa học dữ liệu',\n",
       " 'Khoa học máy tính + Khoa học dữ liệu',\n",
       " 'Khoa học máy tính + Khoa học dữ liệu',\n",
       " 'Kỹ thuật phần mềm',\n",
       " 'Công nghệ tri thức + An toàn thông tin',\n",
       " 'Khoa học máy tính + Khoa học dữ liệu',\n",
       " 'Khoa học máy tính + Khoa học dữ liệu',\n",
       " 'Hệ thống thông tin',\n",
       " 'Kỹ thuật phần mềm',\n",
       " 'Mạng máy tính và viễn thông + Công nghệ thông tin',\n",
       " 'Không đủ điều kiện',\n",
       " 'Kỹ thuật phần mềm',\n",
       " 'Khoa học máy tính + Khoa học dữ liệu',\n",
       " 'Khoa học máy tính + Khoa học dữ liệu',\n",
       " 'Hệ thống thông tin',\n",
       " 'Khoa học máy tính + Khoa học dữ liệu',\n",
       " 'Mạng máy tính và viễn thông + Công nghệ thông tin',\n",
       " 'Hệ thống thông tin',\n",
       " 'Khoa học máy tính + Khoa học dữ liệu',\n",
       " 'Kỹ thuật phần mềm',\n",
       " 'Kỹ thuật phần mềm',\n",
       " 'Mạng máy tính và viễn thông + Công nghệ thông tin',\n",
       " 'Hệ thống thông tin',\n",
       " 'Khoa học máy tính + Khoa học dữ liệu',\n",
       " 'Khoa học máy tính + Khoa học dữ liệu',\n",
       " 'Khoa học máy tính + Khoa học dữ liệu',\n",
       " 'Kỹ thuật phần mềm',\n",
       " 'Thị giác máy tính',\n",
       " 'Kỹ thuật phần mềm',\n",
       " 'Kỹ thuật phần mềm',\n",
       " 'Hệ thống thông tin',\n",
       " 'Mạng máy tính và viễn thông + Công nghệ thông tin',\n",
       " 'Mạng máy tính và viễn thông + Công nghệ thông tin',\n",
       " 'Công nghệ tri thức + An toàn thông tin',\n",
       " 'Hệ thống thông tin',\n",
       " 'Kỹ thuật phần mềm',\n",
       " 'Hệ thống thông tin',\n",
       " 'Khoa học máy tính + Khoa học dữ liệu',\n",
       " 'Thị giác máy tính',\n",
       " 'Kỹ thuật phần mềm',\n",
       " 'Hệ thống thông tin',\n",
       " 'Kỹ thuật phần mềm',\n",
       " 'Kỹ thuật phần mềm',\n",
       " 'Kỹ thuật phần mềm',\n",
       " 'Hệ thống thông tin',\n",
       " 'Kỹ thuật phần mềm',\n",
       " 'Kỹ thuật phần mềm',\n",
       " 'Công nghệ tri thức + An toàn thông tin',\n",
       " 'Hệ thống thông tin',\n",
       " 'Công nghệ tri thức + An toàn thông tin',\n",
       " 'Không đủ điều kiện',\n",
       " 'Khoa học máy tính + Khoa học dữ liệu',\n",
       " 'Công nghệ tri thức + An toàn thông tin',\n",
       " 'Thị giác máy tính',\n",
       " 'Mạng máy tính và viễn thông + Công nghệ thông tin',\n",
       " 'Khoa học máy tính + Khoa học dữ liệu',\n",
       " 'Công nghệ tri thức + An toàn thông tin',\n",
       " 'Thị giác máy tính',\n",
       " 'Không đủ điều kiện',\n",
       " 'Không đủ điều kiện',\n",
       " 'Thị giác máy tính',\n",
       " 'Không đủ điều kiện',\n",
       " 'Khoa học máy tính + Khoa học dữ liệu',\n",
       " 'Công nghệ tri thức + An toàn thông tin',\n",
       " 'Công nghệ tri thức + An toàn thông tin',\n",
       " 'Khoa học máy tính + Khoa học dữ liệu',\n",
       " 'Khoa học máy tính + Khoa học dữ liệu',\n",
       " 'Khoa học máy tính + Khoa học dữ liệu',\n",
       " 'Công nghệ tri thức + An toàn thông tin',\n",
       " 'Kỹ thuật phần mềm',\n",
       " 'Mạng máy tính và viễn thông + Công nghệ thông tin',\n",
       " 'Hệ thống thông tin',\n",
       " 'Mạng máy tính và viễn thông + Công nghệ thông tin',\n",
       " 'Khoa học máy tính + Khoa học dữ liệu',\n",
       " 'Kỹ thuật phần mềm',\n",
       " 'Hệ thống thông tin',\n",
       " 'Mạng máy tính và viễn thông + Công nghệ thông tin',\n",
       " 'Khoa học máy tính + Khoa học dữ liệu',\n",
       " 'Không đủ điều kiện',\n",
       " 'Thị giác máy tính',\n",
       " 'Mạng máy tính và viễn thông + Công nghệ thông tin',\n",
       " 'Công nghệ tri thức + An toàn thông tin',\n",
       " 'Hệ thống thông tin',\n",
       " 'Hệ thống thông tin',\n",
       " 'Công nghệ tri thức + An toàn thông tin',\n",
       " 'Công nghệ tri thức + An toàn thông tin',\n",
       " 'Công nghệ tri thức + An toàn thông tin',\n",
       " 'Thị giác máy tính',\n",
       " 'Không đủ điều kiện',\n",
       " 'Công nghệ tri thức + An toàn thông tin',\n",
       " 'Công nghệ tri thức + An toàn thông tin',\n",
       " 'Hệ thống thông tin',\n",
       " 'Khoa học máy tính + Khoa học dữ liệu',\n",
       " 'Mạng máy tính và viễn thông + Công nghệ thông tin',\n",
       " 'Công nghệ tri thức + An toàn thông tin',\n",
       " 'Mạng máy tính và viễn thông + Công nghệ thông tin',\n",
       " 'Thị giác máy tính',\n",
       " 'Hệ thống thông tin',\n",
       " 'Công nghệ tri thức + An toàn thông tin',\n",
       " 'Công nghệ tri thức + An toàn thông tin',\n",
       " 'Công nghệ tri thức + An toàn thông tin',\n",
       " 'Kỹ thuật phần mềm',\n",
       " 'Thị giác máy tính',\n",
       " 'Mạng máy tính và viễn thông + Công nghệ thông tin',\n",
       " 'Thị giác máy tính',\n",
       " 'Hệ thống thông tin',\n",
       " 'Công nghệ tri thức + An toàn thông tin',\n",
       " 'Công nghệ tri thức + An toàn thông tin',\n",
       " 'Mạng máy tính và viễn thông + Công nghệ thông tin',\n",
       " 'Công nghệ tri thức + An toàn thông tin',\n",
       " 'Kỹ thuật phần mềm',\n",
       " 'Hệ thống thông tin',\n",
       " 'Khoa học máy tính + Khoa học dữ liệu',\n",
       " 'Hệ thống thông tin',\n",
       " 'Hệ thống thông tin',\n",
       " 'Công nghệ tri thức + An toàn thông tin',\n",
       " 'Hệ thống thông tin',\n",
       " 'Kỹ thuật phần mềm',\n",
       " 'Hệ thống thông tin',\n",
       " 'Hệ thống thông tin',\n",
       " 'Công nghệ tri thức + An toàn thông tin',\n",
       " 'Công nghệ tri thức + An toàn thông tin',\n",
       " 'Khoa học máy tính + Khoa học dữ liệu',\n",
       " 'Khoa học máy tính + Khoa học dữ liệu',\n",
       " 'Khoa học máy tính + Khoa học dữ liệu',\n",
       " 'Hệ thống thông tin',\n",
       " 'Khoa học máy tính + Khoa học dữ liệu',\n",
       " 'Khoa học máy tính + Khoa học dữ liệu',\n",
       " 'Khoa học máy tính + Khoa học dữ liệu',\n",
       " 'Hệ thống thông tin',\n",
       " 'Hệ thống thông tin',\n",
       " 'Công nghệ tri thức + An toàn thông tin',\n",
       " 'Kỹ thuật phần mềm',\n",
       " 'Kỹ thuật phần mềm',\n",
       " 'Công nghệ tri thức + An toàn thông tin',\n",
       " 'Hệ thống thông tin',\n",
       " 'Công nghệ tri thức + An toàn thông tin',\n",
       " 'Mạng máy tính và viễn thông + Công nghệ thông tin',\n",
       " 'Mạng máy tính và viễn thông + Công nghệ thông tin',\n",
       " 'Không đủ điều kiện',\n",
       " 'Khoa học máy tính + Khoa học dữ liệu',\n",
       " 'Khoa học máy tính + Khoa học dữ liệu',\n",
       " 'Thị giác máy tính',\n",
       " 'Công nghệ tri thức + An toàn thông tin',\n",
       " 'Mạng máy tính và viễn thông + Công nghệ thông tin',\n",
       " 'Công nghệ tri thức + An toàn thông tin',\n",
       " 'Công nghệ tri thức + An toàn thông tin',\n",
       " 'Thị giác máy tính',\n",
       " 'Công nghệ tri thức + An toàn thông tin',\n",
       " 'Hệ thống thông tin',\n",
       " 'Mạng máy tính và viễn thông + Công nghệ thông tin',\n",
       " 'Kỹ thuật phần mềm',\n",
       " 'Kỹ thuật phần mềm',\n",
       " 'Khoa học máy tính + Khoa học dữ liệu',\n",
       " 'Khoa học máy tính + Khoa học dữ liệu',\n",
       " 'Kỹ thuật phần mềm',\n",
       " 'Kỹ thuật phần mềm',\n",
       " 'Mạng máy tính và viễn thông + Công nghệ thông tin',\n",
       " 'Kỹ thuật phần mềm',\n",
       " 'Hệ thống thông tin']"
      ]
     },
     "execution_count": 11,
     "metadata": {},
     "output_type": "execute_result"
    }
   ],
   "source": [
    "file = open('Data/CQ2019Majors.txt', 'r')\n",
    "majors = []\n",
    "for line in file:\n",
    "    # Dòng ứng với thông tin của một sinh viên là dòng \n",
    "    # bắt đầu bằng ký tự số\n",
    "    if line[0].isdigit():\n",
    "        # Cắt đuôi \"hiệu chỉnh từ ...\" hoặc \"Xét lại với ...\"\n",
    "        # của dòng để thông tin chuyên ngành sẽ luôn ở cuối dòng\n",
    "        major = ''\n",
    "        line = line.split('hiệu chỉnh từ')[0]\n",
    "        line = line.split('Xét lại với')[0]\n",
    "        line = line.rstrip()\n",
    "        # Để lấy thông tin chuyên ngành thì ta sẽ duyệt từ cuối \n",
    "        # dòng về đầu và sẽ ngắt khi gặp ký tự viết hoa đầu tiên \n",
    "        # mà trước đó không có dấu +\n",
    "        for i in range(len(line) - 1, -1, -1): # Duyệt cuối -> đầu\n",
    "            major = line[i] + major\n",
    "            if line[i].isupper() and line[i - 2] != '+':\n",
    "                break\n",
    "        majors.append(major)\n",
    "    \n",
    "file.close()\n",
    "majors"
   ]
  },
  {
   "cell_type": "code",
   "execution_count": 12,
   "metadata": {},
   "outputs": [
    {
     "data": {
      "text/plain": [
       "393"
      ]
     },
     "execution_count": 12,
     "metadata": {},
     "output_type": "execute_result"
    }
   ],
   "source": [
    "len(majors)"
   ]
  },
  {
   "cell_type": "markdown",
   "metadata": {},
   "source": [
    "### Vẽ bar plot của cột các chuyên ngành"
   ]
  },
  {
   "cell_type": "markdown",
   "metadata": {},
   "source": [
    "Bước 1: đếm số lần xuất hiện của mỗi chuyên ngành"
   ]
  },
  {
   "cell_type": "code",
   "execution_count": 13,
   "metadata": {},
   "outputs": [],
   "source": [
    "majors_dist = {}\n",
    "for major in majors:\n",
    "    majors_dist[major] = majors_dist.get(major, 0) + 1\n",
    "diff_majors = list(majors_dist.keys())\n",
    "counts = list(majors_dist.values())"
   ]
  },
  {
   "cell_type": "markdown",
   "metadata": {},
   "source": [
    "Bước 2: vẽ bar plot từ kết quả của bước 1"
   ]
  },
  {
   "cell_type": "code",
   "execution_count": 14,
   "metadata": {},
   "outputs": [
    {
     "data": {
      "image/png": "[encoded data removed]",
      "text/plain": [
       "<Figure size 432x288 with 1 Axes>"
      ]
     },
     "metadata": {
      "needs_background": "light"
     },
     "output_type": "display_data"
    }
   ],
   "source": [
    "plt.bar(diff_majors, counts)\n",
    "plt.ylabel('Số lượng SV');"
   ]
  },
  {
   "cell_type": "code",
   "execution_count": 15,
   "metadata": {
    "scrolled": true
   },
   "outputs": [
    {
     "data": {
      "image/png": "[encoded data removed]",
      "text/plain": [
       "<Figure size 432x288 with 1 Axes>"
      ]
     },
     "metadata": {
      "needs_background": "light"
     },
     "output_type": "display_data"
    }
   ],
   "source": [
    "plt.barh(diff_majors, counts)\n",
    "plt.xlabel('Số lượng SV');"
   ]
  },
  {
   "cell_type": "code",
   "execution_count": 16,
   "metadata": {},
   "outputs": [
    {
     "data": {
      "image/png": "[encoded data removed]",
      "text/plain": [
       "<Figure size 432x288 with 1 Axes>"
      ]
     },
     "metadata": {
      "needs_background": "light"
     },
     "output_type": "display_data"
    }
   ],
   "source": [
    "# Trong bar plot, ta thường sẽ chuẩn hóa các giá trị đếm \n",
    "# về tỉ lệ tương đối\n",
    "s = sum(counts)\n",
    "for i in range(len(counts)):\n",
    "    counts[i] /= s\n",
    "\n",
    "plt.barh(diff_majors, counts)\n",
    "plt.xlabel('Tỉ lệ sinh viên')\n",
    "plt.xlim(0, 1);"
   ]
  },
  {
   "cell_type": "markdown",
   "metadata": {},
   "source": [
    "Bar plot vs histogram?"
   ]
  },
  {
   "cell_type": "markdown",
   "metadata": {},
   "source": [
    "Bar plot | Histogram\n",
    ":--- | :---\n",
    "Trục hoành (hay trục tung đối với bar plot nằm ngang) là biến \"categorical\" | Trục hoành là biến \"numerical\"\n",
    "Với biến \"categorical\" không có tính thứ tự (ví dụ, chuyên ngành) thì các bar không có thứ tự với nhau và ta có thể sắp xếp lại thứ tự của các bar cho dễ nhìn bằng cách sort các bar theo chiều cao; với biến \"categorical\" có tính thứ tự (ví dụ, mức độ hài lòng với các giá trị: rất hài lòng, hài lòng, không hài lòng, ...) thì các bar có thứ tự với nhau | Các bar có thứ tự với nhau\n",
    "Các bar có độ rộng bằng nhau, giữa các bar có thể có các khoảng không và các khoảng không này bằng nhau | Các bar có thể có độ rộng không bằng nhau, các bar nằm nối tiếp nhau tạo thành một đoạn liên tục trên trục hoành\n",
    "Tỉ lệ các phần tử tương ứng với chiều cao của bar | Tỉ lệ các phần tử tương ứng với diện tích của bar"
   ]
  },
  {
   "cell_type": "markdown",
   "metadata": {},
   "source": [
    "## Ôn lại các câu lệnh đã học"
   ]
  },
  {
   "cell_type": "markdown",
   "metadata": {},
   "source": [
    "Câu lệnh | Ý nghĩa\n",
    ":--- | :---\n",
    "`plt.hist` | Vẽ histogram của biến dạng \"numeric\"\n",
    "`plt.bar`, `plt.barh` | Vẽ bar chart của biến dạng \"categorical\" (cần phải tính số lần hoặc tỉ lệ của các giá trị trước khi vẽ)\n",
    "`plt.title` | Thêm tựa đề cho hình vẽ\n",
    "`plt.xlabel` & `plt.ylabel` | Thêm nhãn cho trục x & y\n",
    "`plt.xlim` & `plt.ylim` | Giới hạn miền giá trị cho trục x & y\n",
    "`plt.xticks` & `plt.yticks` | Chỉ định các tick cho trục x & y\n",
    "`plt.axvline` & `plt.axhline` | Vẽ đường thẳng nằm đứng & nằm ngang\n",
    "`plt.legend` | Thêm chú thích cho ký hiệu, màu, ... trên hình vẽ\n",
    "`plt.savefig` | Lưu hình vẽ xuống file"
   ]
  },
  {
   "cell_type": "markdown",
   "metadata": {},
   "source": [
    "## Nói thêm về matplotlib  "
   ]
  },
  {
   "cell_type": "markdown",
   "metadata": {},
   "source": [
    "### Ba cách dùng matplotlib"
   ]
  },
  {
   "cell_type": "markdown",
   "metadata": {},
   "source": [
    "<font color=blue>Cách 1: Dùng các câu lệnh của `plt`</font> (trước giờ là làm theo cách này)"
   ]
  },
  {
   "cell_type": "code",
   "execution_count": 17,
   "metadata": {},
   "outputs": [
    {
     "data": {
      "image/png": "[encoded data removed]",
      "text/plain": [
       "<Figure size 432x288 with 1 Axes>"
      ]
     },
     "metadata": {
      "needs_background": "light"
     },
     "output_type": "display_data"
    }
   ],
   "source": [
    "values = ['a', 'b', 'c']\n",
    "counts = [1, 2, 3]\n",
    "\n",
    "plt.bar(values, counts) # Đầu tiên, plt sẽ tạo ra một đối tượng\n",
    "                        # figure ở bên dưới và sau đó sẽ gọi các \n",
    "                        # phương thức của đối tượng figure này ...\n",
    "\n",
    "plt.title('Bar plot 1'); # Các câu lệnh plt sau đó sẽ gọi các\n",
    "                         # phương thức của cùng đối tượng figure\n",
    "                         # đã được tạo ra trước đó"
   ]
  },
  {
   "cell_type": "code",
   "execution_count": 18,
   "metadata": {},
   "outputs": [
    {
     "data": {
      "text/plain": [
       "<Figure size 432x288 with 0 Axes>"
      ]
     },
     "metadata": {},
     "output_type": "display_data"
    }
   ],
   "source": [
    "plt.savefig('Bar1.jpg') # Ở cell mới thì plt sẽ tạo lại một đối \n",
    "                        # tượng figure mới\n",
    "                        # --> ảnh trống :("
   ]
  },
  {
   "cell_type": "markdown",
   "metadata": {},
   "source": [
    "<font color=blue>Cách 2: Dùng trực tiếp các phương thức của đối tượng figure ở bên dưới</font>"
   ]
  },
  {
   "cell_type": "code",
   "execution_count": 19,
   "metadata": {},
   "outputs": [
    {
     "data": {
      "image/png": "[encoded data removed]",
      "text/plain": [
       "<Figure size 432x288 with 1 Axes>"
      ]
     },
     "metadata": {
      "needs_background": "light"
     },
     "output_type": "display_data"
    }
   ],
   "source": [
    "values = ['a', 'b', 'c']\n",
    "counts = [1, 2, 3]\n",
    "\n",
    "fig = plt.figure(); ax = fig.add_axes([0, 0, 1, 1])\n",
    "ax.bar(values, counts)\n",
    "ax.set_title('Bar plot 2');"
   ]
  },
  {
   "cell_type": "code",
   "execution_count": 20,
   "metadata": {},
   "outputs": [],
   "source": [
    "fig.savefig('Bar2.jpg') # Ảnh không trống nhưng ..."
   ]
  },
  {
   "cell_type": "code",
   "execution_count": 21,
   "metadata": {
    "scrolled": true
   },
   "outputs": [
    {
     "data": {
      "image/png": "[encoded data removed]",
      "text/plain": [
       "<Figure size 432x288 with 1 Axes>"
      ]
     },
     "metadata": {
      "needs_background": "light"
     },
     "output_type": "display_data"
    }
   ],
   "source": [
    "values = ['a', 'b', 'c']\n",
    "counts = [1, 2, 3]\n",
    "\n",
    "fig = plt.figure(); ax = fig.add_axes([0.1, 0.1, 0.8, 0.8])\n",
    "ax.bar(values, counts)\n",
    "ax.set_title('Bar plot 2')\n",
    "fig.savefig('Bar2.jpg') # :)"
   ]
  },
  {
   "cell_type": "code",
   "execution_count": 22,
   "metadata": {},
   "outputs": [
    {
     "data": {
      "image/png": "[encoded data removed]",
      "text/plain": [
       "<Figure size 432x288 with 1 Axes>"
      ]
     },
     "metadata": {
      "needs_background": "light"
     },
     "output_type": "display_data"
    }
   ],
   "source": [
    "# fig = plt.figure(); ax = fig.add_axes([0.1, 0.1, 0.8, 0.8])\n",
    "fig = plt.figure(); ax = fig.add_subplot() \n",
    "ax.bar(values, counts)\n",
    "ax.set_title('Bar plot 2')\n",
    "fig.savefig('Bar2.jpg') # :)"
   ]
  },
  {
   "cell_type": "code",
   "execution_count": 23,
   "metadata": {},
   "outputs": [
    {
     "data": {
      "image/png": "[encoded data removed]",
      "text/plain": [
       "<Figure size 432x288 with 1 Axes>"
      ]
     },
     "metadata": {
      "needs_background": "light"
     },
     "output_type": "display_data"
    }
   ],
   "source": [
    "# fig = plt.figure(); ax = fig.add_axes([0.1, 0.1, 0.8, 0.8])\n",
    "# fig = plt.figure(); ax = fig.add_subplot() \n",
    "fig, ax = plt.subplots()\n",
    "ax.bar(values, counts)\n",
    "ax.set_title('Bar plot 2')\n",
    "fig.savefig('Bar2.jpg') # :)"
   ]
  },
  {
   "cell_type": "markdown",
   "metadata": {},
   "source": [
    "<font color=blue>Cách 3: Trộn lẫn giữa cách 1 và cách 2</font>"
   ]
  },
  {
   "cell_type": "code",
   "execution_count": 24,
   "metadata": {},
   "outputs": [
    {
     "data": {
      "image/png": "[encoded data removed]",
      "text/plain": [
       "<Figure size 432x288 with 1 Axes>"
      ]
     },
     "metadata": {
      "needs_background": "light"
     },
     "output_type": "display_data"
    }
   ],
   "source": [
    "plt.bar(values, counts)\n",
    "plt.title('Bar plot 3')\n",
    "fig = plt.gcf() # Lấy đối tượng figure ở bên dưới\n",
    "# Nếu bạn muốn lấy đối tượng axes ở bên dưới: ax = plt.gca()"
   ]
  },
  {
   "cell_type": "code",
   "execution_count": 25,
   "metadata": {},
   "outputs": [],
   "source": [
    "fig.savefig('Bar3.jpg') # :)"
   ]
  },
  {
   "cell_type": "markdown",
   "metadata": {},
   "source": [
    "### Thay đổi style cho các hình vẽ "
   ]
  },
  {
   "cell_type": "code",
   "execution_count": 26,
   "metadata": {},
   "outputs": [
    {
     "data": {
      "text/plain": [
       "['Solarize_Light2',\n",
       " '_classic_test_patch',\n",
       " 'bmh',\n",
       " 'classic',\n",
       " 'dark_background',\n",
       " 'fast',\n",
       " 'fivethirtyeight',\n",
       " 'ggplot',\n",
       " 'grayscale',\n",
       " 'seaborn',\n",
       " 'seaborn-bright',\n",
       " 'seaborn-colorblind',\n",
       " 'seaborn-dark',\n",
       " 'seaborn-dark-palette',\n",
       " 'seaborn-darkgrid',\n",
       " 'seaborn-deep',\n",
       " 'seaborn-muted',\n",
       " 'seaborn-notebook',\n",
       " 'seaborn-paper',\n",
       " 'seaborn-pastel',\n",
       " 'seaborn-poster',\n",
       " 'seaborn-talk',\n",
       " 'seaborn-ticks',\n",
       " 'seaborn-white',\n",
       " 'seaborn-whitegrid',\n",
       " 'tableau-colorblind10']"
      ]
     },
     "execution_count": 26,
     "metadata": {},
     "output_type": "execute_result"
    }
   ],
   "source": [
    "plt.style.available"
   ]
  },
  {
   "cell_type": "code",
   "execution_count": 27,
   "metadata": {},
   "outputs": [
    {
     "data": {
      "image/png": "[encoded data removed]",
      "text/plain": [
       "<Figure size 432x288 with 1 Axes>"
      ]
     },
     "metadata": {},
     "output_type": "display_data"
    }
   ],
   "source": [
    "plt.style.use('fivethirtyeight')\n",
    "\n",
    "hist = plt.hist(cols['Grade/16.00'], bins=[0, 4, 8, 12, 16], \n",
    "                edgecolor='black', density=True)\n",
    "plt.title('Histogram of quiz grades')\n",
    "plt.xlabel('Grade')\n",
    "plt.ylabel('Proportion per grade')\n",
    "plt.xticks(hist[1])\n",
    "plt.axvline(lower_quartile, \n",
    "            color='red', linestyle='solid', linewidth=3, \n",
    "            label='lower quartile')\n",
    "plt.axvline(median, \n",
    "            color='violet', linestyle='dashed', linewidth=3,\n",
    "            label='median')\n",
    "plt.axvline(upper_quartile, \n",
    "            color='yellow', linestyle='dotted', linewidth=3,\n",
    "            label='upper quartile')\n",
    "plt.legend();"
   ]
  },
  {
   "cell_type": "markdown",
   "metadata": {},
   "source": [
    "Xem thêm về các style ở [document](https://matplotlib.org/stable/gallery/style_sheets/style_sheets_reference.html)."
   ]
  }
 ],
 "metadata": {
  "kernelspec": {
   "display_name": "Python 3 (ipykernel)",
   "language": "python",
   "name": "python3"
  },
  "language_info": {
   "codemirror_mode": {
    "name": "ipython",
    "version": 3
   },
   "file_extension": ".py",
   "mimetype": "text/x-python",
   "name": "python",
   "nbconvert_exporter": "python",
   "pygments_lexer": "ipython3",
   "version": "3.8.8"
  },
  "toc": {
   "base_numbering": 1,
   "nav_menu": {},
   "number_sections": false,
   "sideBar": true,
   "skip_h1_title": false,
   "title_cell": "Table of Contents",
   "title_sidebar": "Contents",
   "toc_cell": false,
   "toc_position": {
    "height": "calc(100% - 180px)",
    "left": "10px",
    "top": "150px",
    "width": "234px"
   },
   "toc_section_display": true,
   "toc_window_display": false
  }
 },
 "nbformat": 4,
 "nbformat_minor": 4
}
