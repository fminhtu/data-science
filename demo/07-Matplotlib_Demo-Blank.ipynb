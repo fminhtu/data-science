{
 "cells": [
  {
   "cell_type": "markdown",
   "metadata": {},
   "source": [
    "# Matplotlib"
   ]
  },
  {
   "cell_type": "code",
   "execution_count": null,
   "metadata": {
    "hide_input": false
   },
   "outputs": [],
   "source": [
    "import matplotlib.pyplot as plt\n",
    "# Với các phiên bản cũ của Jupyter Notebook thì có thể cần setup\n",
    "# thêm bằng câu lệnh magic: \n",
    "# %matplotlib inline\n",
    "\n",
    "import datetime\n",
    "import math"
   ]
  },
  {
   "cell_type": "markdown",
   "metadata": {},
   "source": [
    "## Histogram\n",
    "\n",
    "Dùng để trực quan hóa phân bố các giá trị của biến dạng \"numerical\""
   ]
  },
  {
   "cell_type": "markdown",
   "metadata": {},
   "source": [
    "### Đọc dữ liệu điểm quiz từ file và tiền xử lý"
   ]
  },
  {
   "cell_type": "code",
   "execution_count": null,
   "metadata": {},
   "outputs": [],
   "source": [
    "# Đọc dữ liệu về kết quả làm quiz của lớp\n",
    "# (Code lấy từ file 05-Demo.ipynb)\n",
    "file = open('Data/PythonQuiz.csv', 'r')\n",
    "\n",
    "cols = {}\n",
    "first_line_vals = file.readline().rstrip().split(',')\n",
    "for first_line_val in first_line_vals:\n",
    "    cols[first_line_val] = []\n",
    "for line in file:\n",
    "    line_vals = line.rstrip().split(',')\n",
    "    for i in range(len(line_vals)):        \n",
    "        col_name = first_line_vals[i] \n",
    "        col_val = line_vals[i]\n",
    "        cols[col_name].append(col_val)\n",
    "\n",
    "file.close()\n",
    "\n",
    "for col_name, col_vals in cols.items():\n",
    "    print(f'{col_name}: [{col_vals[0]}, ...]')"
   ]
  },
  {
   "cell_type": "code",
   "execution_count": null,
   "metadata": {},
   "outputs": [],
   "source": [
    "# Chuyển kiểu dữ liệu của các cột từ str sang kiểu dữ liệu phù hợp\n",
    "# (Code lấy từ file 05-Demo.ipynb)\n",
    "for col_name, col_vals in cols.items():\n",
    "    if '/' in col_name:\n",
    "        new_col_vals = []\n",
    "        for col_val in col_vals:\n",
    "            new_col_vals.append(float(col_val))\n",
    "        cols[col_name] = new_col_vals\n",
    "    elif col_name in ['Started on', 'Completed']:\n",
    "        new_col_vals = []\n",
    "        for col_val in col_vals:\n",
    "            temp = datetime.datetime.strptime(\n",
    "                col_val, '%d %B %Y %H:%M %p')\n",
    "            new_col_vals.append(temp)\n",
    "        cols[col_name] = new_col_vals\n",
    "    elif col_name == 'Time taken':\n",
    "        new_col_vals = []\n",
    "        for col_val in col_vals:\n",
    "            temp_list = col_val.split(' ')\n",
    "            hour = 0; minute = 0; second = 0\n",
    "            for temp_i in range(len(temp_list)):\n",
    "                if 'hour' in temp_list[temp_i]:\n",
    "                    hour = float(temp_list[temp_i-1])\n",
    "                elif 'min' in temp_list[temp_i]:\n",
    "                    minute = float(temp_list[temp_i-1])\n",
    "                if 'sec' in temp_list[temp_i]:\n",
    "                    second = float(temp_list[temp_i-1])\n",
    "            total = hour*60 + minute + second/60\n",
    "            new_col_vals.append(total)\n",
    "        cols[col_name] = new_col_vals\n",
    "\n",
    "for col_name, col_vals in cols.items():\n",
    "    print(col_name, type(col_vals[0]))"
   ]
  },
  {
   "cell_type": "markdown",
   "metadata": {},
   "source": [
    "### Vẽ histogram của cột điểm \"Grade/16.00\" với 4 bin có độ rộng bằng nhau"
   ]
  },
  {
   "cell_type": "code",
   "execution_count": null,
   "metadata": {},
   "outputs": [],
   "source": []
  },
  {
   "cell_type": "markdown",
   "metadata": {},
   "source": [
    "### Vẽ histogram của cột điểm \"Grade/16.00\" với 2 bin có độ rộng không bằng nhau là [0, 12) và [12, 16]"
   ]
  },
  {
   "cell_type": "code",
   "execution_count": null,
   "metadata": {},
   "outputs": [],
   "source": []
  },
  {
   "cell_type": "markdown",
   "metadata": {},
   "source": [
    "### Tiếp tục với histogram gồm 2 bin [0, 12) và [12, 16]: phân bố của các giá trị trong bin [12, 16]?"
   ]
  },
  {
   "cell_type": "code",
   "execution_count": null,
   "metadata": {},
   "outputs": [],
   "source": []
  },
  {
   "cell_type": "markdown",
   "metadata": {},
   "source": [
    "### Vẽ histogram của cột điểm \"Grade/16.00\" với 4 bin [0, 4), [4, 8), [8, 12), [12, 16] + 3 đường đứng ứng với lower quartile, median, upper quartile"
   ]
  },
  {
   "cell_type": "code",
   "execution_count": null,
   "metadata": {},
   "outputs": [],
   "source": []
  },
  {
   "cell_type": "markdown",
   "metadata": {},
   "source": [
    "## Bar plot\n",
    "\n",
    "Dùng để trực quan hóa phân bố các giá trị của biến dạng \"categorical\""
   ]
  },
  {
   "cell_type": "markdown",
   "metadata": {},
   "source": [
    "### Đọc dữ liệu đăng ký chuyên ngành K2019 (CQ) từ file và lấy ra cột các chuyên ngành"
   ]
  },
  {
   "cell_type": "code",
   "execution_count": null,
   "metadata": {},
   "outputs": [],
   "source": []
  },
  {
   "cell_type": "markdown",
   "metadata": {},
   "source": [
    "### Vẽ bar plot của cột các chuyên ngành"
   ]
  },
  {
   "cell_type": "markdown",
   "metadata": {},
   "source": [
    "Bước 1: đếm số lần xuất hiện của mỗi chuyên ngành"
   ]
  },
  {
   "cell_type": "code",
   "execution_count": null,
   "metadata": {},
   "outputs": [],
   "source": []
  },
  {
   "cell_type": "markdown",
   "metadata": {},
   "source": [
    "Bước 2: vẽ bar plot từ kết quả của bước 1"
   ]
  },
  {
   "cell_type": "code",
   "execution_count": null,
   "metadata": {},
   "outputs": [],
   "source": []
  },
  {
   "cell_type": "markdown",
   "metadata": {},
   "source": [
    "## Ôn lại các câu lệnh đã học"
   ]
  },
  {
   "cell_type": "markdown",
   "metadata": {},
   "source": [
    "Câu lệnh | Ý nghĩa\n",
    ":--- | :---\n",
    "? | Vẽ histogram của biến dạng \"numeric\"\n",
    "? | Vẽ bar chart của biến dạng \"categorical\" (cần phải tính số lần hoặc tỉ lệ của các giá trị trước khi vẽ)\n",
    "? | Thêm tựa đề cho hình vẽ\n",
    "? | Thêm nhãn cho trục x & y\n",
    "? | Giới hạn miền giá trị cho trục x & y\n",
    "? | Chỉ định các tick cho trục x & y\n",
    "? | Vẽ đường thẳng nằm đứng & nằm ngang\n",
    "? | Thêm chú thích cho ký hiệu, màu, ... trên hình vẽ\n",
    "? | Lưu hình vẽ xuống file"
   ]
  },
  {
   "cell_type": "markdown",
   "metadata": {},
   "source": [
    "## Nói thêm về matplotlib  "
   ]
  },
  {
   "cell_type": "markdown",
   "metadata": {},
   "source": [
    "### Ba cách dùng matplotlib"
   ]
  },
  {
   "cell_type": "markdown",
   "metadata": {},
   "source": [
    "<font color=blue>Cách 1: Dùng các câu lệnh của `plt`</font> (trước giờ là làm theo cách này)"
   ]
  },
  {
   "cell_type": "code",
   "execution_count": null,
   "metadata": {},
   "outputs": [],
   "source": []
  },
  {
   "cell_type": "markdown",
   "metadata": {},
   "source": [
    "<font color=blue>Cách 2: Dùng trực tiếp các phương thức của đối tượng figure ở bên dưới</font>"
   ]
  },
  {
   "cell_type": "code",
   "execution_count": null,
   "metadata": {},
   "outputs": [],
   "source": []
  },
  {
   "cell_type": "markdown",
   "metadata": {},
   "source": [
    "<font color=blue>Cách 3: Trộn lẫn giữa cách 1 và cách 2</font>"
   ]
  },
  {
   "cell_type": "code",
   "execution_count": null,
   "metadata": {},
   "outputs": [],
   "source": []
  },
  {
   "cell_type": "markdown",
   "metadata": {},
   "source": [
    "### Thay đổi style cho các hình vẽ "
   ]
  },
  {
   "cell_type": "code",
   "execution_count": null,
   "metadata": {},
   "outputs": [],
   "source": []
  },
  {
   "cell_type": "markdown",
   "metadata": {},
   "source": [
    "Xem thêm về các style ở [document](https://matplotlib.org/stable/gallery/style_sheets/style_sheets_reference.html)."
   ]
  }
 ],
 "metadata": {
  "kernelspec": {
   "display_name": "Python 3 (ipykernel)",
   "language": "python",
   "name": "python3"
  },
  "language_info": {
   "codemirror_mode": {
    "name": "ipython",
    "version": 3
   },
   "file_extension": ".py",
   "mimetype": "text/x-python",
   "name": "python",
   "nbconvert_exporter": "python",
   "pygments_lexer": "ipython3",
   "version": "3.8.8"
  },
  "toc": {
   "base_numbering": 1,
   "nav_menu": {},
   "number_sections": false,
   "sideBar": true,
   "skip_h1_title": false,
   "title_cell": "Table of Contents",
   "title_sidebar": "Contents",
   "toc_cell": false,
   "toc_position": {
    "height": "calc(100% - 180px)",
    "left": "10px",
    "top": "150px",
    "width": "234px"
   },
   "toc_section_display": true,
   "toc_window_display": false
  }
 },
 "nbformat": 4,
 "nbformat_minor": 4
}
