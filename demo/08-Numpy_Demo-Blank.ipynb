{
 "cells": [
  {
   "cell_type": "markdown",
   "metadata": {
    "tags": []
   },
   "source": [
    "# Numpy"
   ]
  },
  {
   "cell_type": "markdown",
   "metadata": {},
   "source": [
    "Cập nhật lần cuối: 21/11/2021"
   ]
  },
  {
   "cell_type": "code",
   "execution_count": null,
   "metadata": {
    "hide_input": false
   },
   "outputs": [],
   "source": [
    "import numpy as np\n",
    "\n",
    "import matplotlib.pyplot as plt\n",
    "import random # Thư viện built-in của Python "
   ]
  },
  {
   "cell_type": "markdown",
   "metadata": {
    "tags": []
   },
   "source": [
    "## Tại sao lại cần Numpy"
   ]
  },
  {
   "cell_type": "markdown",
   "metadata": {},
   "source": [
    "Nhân 2 ma trận bằng Python list + vòng lặp:"
   ]
  },
  {
   "cell_type": "code",
   "execution_count": null,
   "metadata": {
    "tags": []
   },
   "outputs": [],
   "source": [
    "# Tạo 2 ma trận có kích thước 1000x500 và 500x1000\n",
    "nrows1 = 1000; ncols1 = nrows2 = 500; ncols2 = 1000\n",
    "m1_list = []\n",
    "for r in range(nrows1):\n",
    "    row_vals = []\n",
    "    for c in range(ncols1):\n",
    "        row_vals.append(random.randint(-100, 100))\n",
    "    m1_list.append(row_vals)\n",
    "    \n",
    "m2_list = []\n",
    "for r in range(nrows2):\n",
    "    row_vals = []\n",
    "    for c in range(ncols2):\n",
    "        row_vals.append(random.randint(-100, 100))\n",
    "    m2_list.append(row_vals)\n",
    "    \n",
    "print(len(m1_list), len(m1_list[0]))\n",
    "print(len(m2_list), len(m2_list[0]))"
   ]
  },
  {
   "cell_type": "code",
   "execution_count": null,
   "metadata": {
    "tags": []
   },
   "outputs": [],
   "source": [
    "%%time\n",
    "# Nhân 2 ma trận\n",
    "m3_list = []\n",
    "for r in range(nrows1):\n",
    "    row_vals = []\n",
    "    for c in range(ncols2):\n",
    "        temp = 0\n",
    "        for i in range(ncols1):\n",
    "            temp += m1_list[r][i] * m2_list[i][c]\n",
    "        row_vals.append(temp)\n",
    "    m3_list.append(row_vals)"
   ]
  },
  {
   "cell_type": "markdown",
   "metadata": {},
   "source": [
    "Nhân 2 ma trận bằng Numpy array + toán tử nhân ma trận của Numpy:"
   ]
  },
  {
   "cell_type": "code",
   "execution_count": null,
   "metadata": {},
   "outputs": [],
   "source": []
  },
  {
   "cell_type": "code",
   "execution_count": null,
   "metadata": {},
   "outputs": [],
   "source": []
  },
  {
   "cell_type": "markdown",
   "metadata": {},
   "source": [
    "So sánh 2 cách làm:\n",
    "\n",
    "- Thời gian viết code: ...\n",
    "- Thời gian chạy: ...\n",
    "- Kết quả: ..."
   ]
  },
  {
   "cell_type": "code",
   "execution_count": null,
   "metadata": {},
   "outputs": [],
   "source": []
  },
  {
   "cell_type": "markdown",
   "metadata": {
    "tags": []
   },
   "source": [
    "## Tạo Numpy array & xem thông tin của Numpy array "
   ]
  },
  {
   "cell_type": "code",
   "execution_count": null,
   "metadata": {},
   "outputs": [],
   "source": [
    "# Tạo 1D array từ list\n"
   ]
  },
  {
   "cell_type": "code",
   "execution_count": null,
   "metadata": {},
   "outputs": [],
   "source": [
    "# Tạo 2D array từ list\n"
   ]
  },
  {
   "cell_type": "code",
   "execution_count": null,
   "metadata": {},
   "outputs": [],
   "source": [
    "# Xem các thông tin của array\n"
   ]
  },
  {
   "cell_type": "code",
   "execution_count": null,
   "metadata": {},
   "outputs": [],
   "source": [
    "# Tạo ra array toàn với cùng một giá trị, chẳng hạn 0\n"
   ]
  },
  {
   "cell_type": "code",
   "execution_count": null,
   "metadata": {},
   "outputs": [],
   "source": [
    "# Tạo ra array gồm các số được phát sinh ngẫu nghiên\n",
    "# Ví dụ, số nguyên được phát sinh theo phân bố đều trong [0, 10)   \n"
   ]
  },
  {
   "cell_type": "code",
   "execution_count": null,
   "metadata": {},
   "outputs": [],
   "source": [
    "# Tạo ra array rỗng\n"
   ]
  },
  {
   "cell_type": "code",
   "execution_count": null,
   "metadata": {},
   "outputs": [],
   "source": [
    "# Tạo ra ma trận đơn vị (identity matrix)\n"
   ]
  },
  {
   "cell_type": "code",
   "execution_count": null,
   "metadata": {},
   "outputs": [],
   "source": [
    "# Tạo ra array gồm các số cách đều nhau\n",
    "# Ví dụ, array gồm: 1, 1.5, 2, 2.5, ..., 5\n",
    "# Cách 1: chỉ định đầu, cuối, và bước nhảy\n"
   ]
  },
  {
   "cell_type": "code",
   "execution_count": null,
   "metadata": {},
   "outputs": [],
   "source": [
    "# Tạo ra array gồm các số cách đều nhau\n",
    "# Ví dụ, array gồm: 1, 1.5, 2, 2.5, ..., 5\n",
    "# Cách 2: chỉ định đầu, cuối, và số lượng phần tử\n"
   ]
  },
  {
   "cell_type": "code",
   "execution_count": null,
   "metadata": {},
   "outputs": [],
   "source": [
    "# Tạo ra array từ một array khác bằng cách thay đổi shape\n"
   ]
  },
  {
   "cell_type": "code",
   "execution_count": null,
   "metadata": {
    "jupyter": {
     "outputs_hidden": true
    },
    "scrolled": true
   },
   "outputs": [],
   "source": [
    "# Tạo array từ file\n",
    "# File 'P4DS-Grades.csv' chứa điểm môn này của khóa trước ;-)\n",
    "# 3 cột đầu ứng với điểm 3 HW (mỗi HW chiếm 50%/3 tổng điểm)\n",
    "# cột cuối ứng điểm đồ án cuối kỳ (chiếm 50% tổng điểm)\n"
   ]
  },
  {
   "cell_type": "markdown",
   "metadata": {
    "tags": []
   },
   "source": [
    "## Truy xuất (và thay đổi) các phần tử trong Numpy array"
   ]
  },
  {
   "cell_type": "markdown",
   "metadata": {},
   "source": [
    "### Integer indexing"
   ]
  },
  {
   "cell_type": "code",
   "execution_count": null,
   "metadata": {},
   "outputs": [],
   "source": [
    "# Sinh viên đầu tiên có điểm đồ án cuối kỳ là bao nhiêu?\n"
   ]
  },
  {
   "cell_type": "code",
   "execution_count": null,
   "metadata": {
    "scrolled": true
   },
   "outputs": [],
   "source": [
    "# Sinh viên cuối cùng có điểm đồ án cuối kỳ là bao nhiêu?\n"
   ]
  },
  {
   "cell_type": "code",
   "execution_count": null,
   "metadata": {
    "scrolled": true
   },
   "outputs": [],
   "source": [
    "# Sửa điểm đồ án cho sinh viên đầu tiên thành 0.5\n"
   ]
  },
  {
   "cell_type": "markdown",
   "metadata": {},
   "source": [
    "### Slicing"
   ]
  },
  {
   "cell_type": "code",
   "execution_count": null,
   "metadata": {},
   "outputs": [],
   "source": [
    "# 5 sinh viên đầu có điểm 3 HW là bao nhiêu?\n"
   ]
  },
  {
   "cell_type": "code",
   "execution_count": null,
   "metadata": {
    "scrolled": true
   },
   "outputs": [],
   "source": [
    "# Lấy ra cột điểm đồ án cuối kỳ\n"
   ]
  },
  {
   "cell_type": "code",
   "execution_count": null,
   "metadata": {},
   "outputs": [],
   "source": [
    "# Lấy ra cột điểm đồ án cuối kỳ\n",
    "# bằng cách kết hợp slicing với integer indexing \n"
   ]
  },
  {
   "cell_type": "code",
   "execution_count": null,
   "metadata": {
    "scrolled": true
   },
   "outputs": [],
   "source": [
    "# Sinh viên cuối cùng có các điểm là bao nhiêu?\n",
    "# (lấy ra mảng một chiều)\n"
   ]
  },
  {
   "cell_type": "code",
   "execution_count": null,
   "metadata": {
    "scrolled": true
   },
   "outputs": [],
   "source": [
    "# Array có được khi thực hiện slicing \n",
    "# là view hay copy của array ban đầu?\n"
   ]
  },
  {
   "cell_type": "code",
   "execution_count": null,
   "metadata": {},
   "outputs": [],
   "source": [
    "# Để ý sự kết biệt giữa slicing ở Numpy array và slicing ở list\n"
   ]
  },
  {
   "cell_type": "markdown",
   "metadata": {},
   "source": [
    "### Bool array indexing"
   ]
  },
  {
   "cell_type": "code",
   "execution_count": null,
   "metadata": {},
   "outputs": [],
   "source": [
    "# Lấy ra các điểm đồ án cuối kỳ < 5\n"
   ]
  },
  {
   "cell_type": "code",
   "execution_count": null,
   "metadata": {},
   "outputs": [],
   "source": [
    "# Lấy ra các điểm đồ án cuối kỳ >= 8 và <= 9\n"
   ]
  },
  {
   "cell_type": "code",
   "execution_count": null,
   "metadata": {},
   "outputs": [],
   "source": [
    "# Lấy ra điểm HW1 của các sinh viên có điểm đồ án cuối kỳ = 10\n",
    "# bằng cách kết hợp bool array indexing với integer indexing\n"
   ]
  },
  {
   "cell_type": "code",
   "execution_count": null,
   "metadata": {},
   "outputs": [],
   "source": [
    "# Lấy ra các điểm ứng với các sinh viên có điểm đồ án cuối kỳ = 10\n",
    "# bằng cách kết hợp bool array indexing với slicing\n"
   ]
  },
  {
   "cell_type": "markdown",
   "metadata": {},
   "source": [
    "### Integer array indexing"
   ]
  },
  {
   "cell_type": "code",
   "execution_count": null,
   "metadata": {},
   "outputs": [],
   "source": [
    "# Lấy ra điểm HW1 của sinh viên thứ nhất\n",
    "#        điểm HW2 của sinh viên thứ năm\n",
    "#        điểm đồ án cuối kỳ của sinh viên thứ mười\n"
   ]
  },
  {
   "cell_type": "code",
   "execution_count": null,
   "metadata": {},
   "outputs": [],
   "source": [
    "# Lấy ra ngẫu nhiên 5 sinh viên để xem điểm\n"
   ]
  },
  {
   "cell_type": "markdown",
   "metadata": {
    "tags": []
   },
   "source": [
    "## Bài tập: vẽ hình"
   ]
  },
  {
   "cell_type": "markdown",
   "metadata": {},
   "source": [
    "Vẽ bàn cờ 8x8 như hình. Bạn có thể tùy ý chọn màu cho ô (xem giá trị rgb của các màu [ở đây](https://flaviocopes.com/rgb-color-codes/)). Nếu bạn có array 3 chiều với `shape` là height x with x 3 và `dtype` là `np.uint8` thì bạn có thể trực quan hóa array này dưới dạng ảnh bằng hàm `plt.imshow`.\n",
    "![image.png](data:image/png;base64,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)"
   ]
  },
  {
   "cell_type": "code",
   "execution_count": null,
   "metadata": {},
   "outputs": [],
   "source": []
  },
  {
   "cell_type": "markdown",
   "metadata": {},
   "source": [
    "Vẽ hình như bên dưới với background là màu silver (192,192,192) và foreground là màu gold (184,134,11).\n",
    "![image.png](data:image/png;base64,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)"
   ]
  },
  {
   "cell_type": "code",
   "execution_count": null,
   "metadata": {},
   "outputs": [],
   "source": []
  },
  {
   "cell_type": "markdown",
   "metadata": {
    "tags": []
   },
   "source": [
    "## Tính toán trên Numpy array "
   ]
  },
  {
   "cell_type": "markdown",
   "metadata": {},
   "source": [
    "Để sử dụng Numpy hiệu quả thì thay đổi cách tư duy: cần suy nghĩ về <font color=blue>các thao tác tính toán trên nguyên mảng</font> mà Numpy đã cung cấp, chứ không phải là các thao tác tính toán trên từng con số"
   ]
  },
  {
   "cell_type": "markdown",
   "metadata": {},
   "source": [
    "Hầu hết mọi thao tác tính toán trên mảng mà ta có thể nghĩ tới thì đều đã được Numpy cung cấp:\n",
    "\n",
    "`+`, `np.add`\\\n",
    "`-`, `np.subtract`\\\n",
    "`-`, `np.negative`\\\n",
    "`*`, `np.multiply`\\\n",
    "`@`, `np.dot`\\\n",
    "`/`, `np.divide`\\\n",
    "`//`, `np.floor_divide`\\\n",
    "`**`, `np.power`\\\n",
    "`%`, `np.mod`\\\n",
    "`np.abs`\\\n",
    "`np.exp`\\\n",
    "`np.log`\\\n",
    "...\n",
    "\n",
    "`==`, `np.equal`\\\n",
    "`<`, `np.less`\\\n",
    "`>`, `np.greater`\\\n",
    "`!=`, `np.not_equal`\\\n",
    "`<=`, `np.less_equal`\\\n",
    "`>=`, `np.greater_equal`\\\n",
    "`&`, `np.bitwise_and`\\\n",
    "`|`, `np.bitwise_or`\\\n",
    "`~`, `np.bitwise_not`\\\n",
    "`np.nonzero`\\\n",
    "`np.any`\\\n",
    "`np.all`\\\n",
    "...\n",
    "\n",
    "`np.sum`\\\n",
    "`np.prod`\\\n",
    "`np.min`\\\n",
    "`np.max`\\\n",
    "`np.argmin`\\\n",
    "`np.argmax`\\\n",
    "...\n",
    "\n",
    "`np.mean`\\\n",
    "`np.std`\\\n",
    "`np.percentile`\\\n",
    "`np.histogram`\\\n",
    "`np.unique`\\\n",
    "`np.sort`\\\n",
    "`np.argsort`\\\n",
    "...\n",
    "\n",
    "Với một tính toán nào đó trên Numpy array, ngoài dạng hàm (hoặc toán tử) thì thường ta cũng có thể gọi phương thức tương đương từ Numpy array \\\n",
    "$\\to$ Giúp đáp ứng các \"khẩu vị code\" khác nhau của người dùng"
   ]
  },
  {
   "cell_type": "code",
   "execution_count": null,
   "metadata": {},
   "outputs": [],
   "source": [
    "# Tính min, max của mỗi cột điểm\n",
    "# để xem có gì bất thường không\n"
   ]
  },
  {
   "cell_type": "code",
   "execution_count": null,
   "metadata": {},
   "outputs": [],
   "source": [
    "# Tính cột điểm tổng kết\n"
   ]
  },
  {
   "cell_type": "code",
   "execution_count": null,
   "metadata": {},
   "outputs": [],
   "source": [
    "# Tỉ lệ SV rớt môn là bao nhiêu?\n"
   ]
  }
 ],
 "metadata": {
  "kernelspec": {
   "display_name": "Python 3 (ipykernel)",
   "language": "python",
   "name": "python3"
  },
  "language_info": {
   "codemirror_mode": {
    "name": "ipython",
    "version": 3
   },
   "file_extension": ".py",
   "mimetype": "text/x-python",
   "name": "python",
   "nbconvert_exporter": "python",
   "pygments_lexer": "ipython3",
   "version": "3.8.8"
  },
  "toc": {
   "base_numbering": 1,
   "nav_menu": {},
   "number_sections": false,
   "sideBar": true,
   "skip_h1_title": false,
   "title_cell": "Table of Contents",
   "title_sidebar": "Contents",
   "toc_cell": false,
   "toc_position": {
    "height": "338.4px",
    "left": "140px",
    "top": "32.133px",
    "width": "165px"
   },
   "toc_section_display": true,
   "toc_window_display": true
  }
 },
 "nbformat": 4,
 "nbformat_minor": 4
}
