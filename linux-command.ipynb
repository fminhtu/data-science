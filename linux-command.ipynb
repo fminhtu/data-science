{
 "cells": [
  {
   "cell_type": "markdown",
   "id": "46896a80",
   "metadata": {},
   "source": [
    "# HW1: Các câu lệnh Linux, Python\n",
    "\n",
    "(Cập nhật lần cuối 16/11/2021)\n",
    "\n",
    "Họ tên: Phạm Minh Tú\n",
    "\n",
    "MSSV: 19127611"
   ]
  },
  {
   "cell_type": "markdown",
   "id": "98060f23",
   "metadata": {},
   "source": [
    "---"
   ]
  },
  {
   "cell_type": "markdown",
   "id": "155aa0df",
   "metadata": {},
   "source": [
    "## Cách làm bài và nộp bài"
   ]
  },
  {
   "cell_type": "markdown",
   "id": "f181e2a2",
   "metadata": {},
   "source": [
    "&#9889; Bạn lưu ý là mình sẽ dùng chương trình hỗ trợ chấm bài nên bạn cần phải tuân thủ chính xác qui định mà mình đặt ra, nếu không rõ thì hỏi, chứ không nên tự tiện làm theo ý của cá nhân.\n",
    "\n",
    "**Cách làm bài**\n",
    "\n",
    "Bạn sẽ làm trực tiếp trên file notebook này. Đầu tiên, bạn điền họ tên và MSSV vào phần đầu file ở bên trên. Trong file, bạn làm bài ở những chỗ có ghi là:\n",
    "```python\n",
    "# YOUR CODE HERE\n",
    "raise NotImplementedError()\n",
    "```\n",
    "hoặc đối với những phần code không bắt buộc thì là:\n",
    "```python\n",
    "# YOUR CODE HERE (OPTION)\n",
    "```\n",
    "hoặc đối với markdown cell thì là:\n",
    "```markdown\n",
    "YOUR ANSWER HERE\n",
    "```\n",
    "Tất nhiên, khi làm thì bạn xóa dòng `raise NotImplementedError()` đi.\n",
    "Đối những phần yêu cầu code thì thường ở ngay phía dưới sẽ có một (hoặc một số) cell chứa các bộ test để giúp bạn biết đã code đúng hay chưa; nếu chạy cell này không có lỗi gì thì có nghĩa là qua được các bộ test. Trong một số trường hợp, các bộ test có thể sẽ không đầy đủ; nghĩa là, nếu không qua được test thì là code sai, nhưng nếu qua được test thì chưa chắc đã đúng hoàn toàn.\n",
    "\n",
    "Trong khi làm bài, bạn có thể cho in ra màn hình, tạo thêm các cell để test. Nhưng khi nộp bài thì bạn xóa các cell mà bạn tự tạo, xóa hoặc comment các câu lệnh in ra màn hình. Bạn lưu ý <font color=red>không được tự tiện xóa các cell hay sửa code của Thầy</font> (trừ những chỗ được phép sửa như đã nói ở trên).\n",
    "\n",
    "Bạn cố gắng giữ cho code rõ ràng, ngăn nắp: đặt tên biến gợi ý, comment ở những chỗ cần comment, giữ cho một dòng code không quá dài (vì nếu không thì người đọc sẽ phải mất công scroll, bạn có thể dùng qui tắc: một dòng code chỉ nên có tối đa là 79 ký tự). \n",
    "\n",
    "Trong khi làm bài, thường xuyên `Ctrl + S` để lưu lại bài làm của bạn, tránh mất mát thông tin.\n",
    "\n",
    "\n",
    "*Nên nhớ mục tiêu chính ở đây là <font color=green>học, học một cách chân thật</font>. Bạn có thể thảo luận ý tưởng với bạn khác, nhưng <font color=green>code và bài làm phải là của bạn, dựa trên sự hiểu thật sự của bạn</font>. <font color=red>Nếu vi phạm thì sẽ bị 0 điểm cho toàn bộ môn học.</font>*\n",
    "\n",
    "**Cách nộp bài**\n",
    "\n",
    "Khi chấm bài, đầu tiên mình sẽ chọn `Kernel` - `Restart & Run All` để restart và chạy tất cả các cell trong notebook của bạn; do đó, trước khi nộp bài, bạn nên chạy thử `Kernel` - `Restart & Run All` để đảm bảo mọi chuyện diễn ra đúng như mong đợi.\n",
    "\n",
    "Sau đó, bạn tạo thư mục nộp bài theo cấu trúc sau:\n",
    "- Thư mục `MSSV` (vd, nếu bạn có MSSV là 1234567 thì bạn đặt tên thư mục là `1234567`)\n",
    "    - File `HW1.ipynb` (không cần nộp các file khác)\n",
    "\n",
    "Cuối cùng, bạn nén thư mục `MSSV` này lại và nộp ở link trên moodle. <font color=red>Bạn lưu ý tuân thủ chính xác qui định nộp bài.</font>"
   ]
  },
  {
   "cell_type": "markdown",
   "id": "c09ce040",
   "metadata": {},
   "source": [
    "---"
   ]
  },
  {
   "cell_type": "markdown",
   "id": "f5861b79",
   "metadata": {},
   "source": [
    "## Môi trường code"
   ]
  },
  {
   "cell_type": "markdown",
   "id": "a55dd304",
   "metadata": {},
   "source": [
    "Ta thống nhất trong môn này:\n",
    "- Code trên môi trường Linux (bạn đã setup ở HW0)\n",
    "- Dùng Jupyter Notebook hoặc Jupyter Lab để code file .ipynb. Lưu ý: bạn <font color=red>không dùng Google Colab</font>, vì Google Colab có thể xóa một số thông tin meta mà chương trình hỗ trợ chấm bài của mình đã tạo trong file bài tập\n",
    "- Dùng phiên bản các package như trong file \"min_ds-env.yml\" (bạn xem trong HW0 cách dùng Conda để tạo môi trường code từ file .yml và cách kích hoạt môi trường này sau khi đã tạo)"
   ]
  },
  {
   "cell_type": "code",
   "execution_count": 1,
   "id": "f4d0ddac",
   "metadata": {},
   "outputs": [
    {
     "data": {
      "text/plain": [
       "'/home/fminhtu/miniconda3/envs/min_ds-env/bin/python'"
      ]
     },
     "execution_count": 1,
     "metadata": {},
     "output_type": "execute_result"
    }
   ],
   "source": [
    "import sys\n",
    "sys.executable"
   ]
  },
  {
   "cell_type": "markdown",
   "id": "0aed058f",
   "metadata": {},
   "source": [
    "Nếu không có vấn đề gì thì file chạy python sẽ là file của môi trường code \"min_ds-env\".\n",
    "\n",
    "Trong bài này, ngoài Git & Jupyter Notebook/Lab thì bạn chỉ dùng Python, không dùng các thư viện khác như Numpy, Pandas, ... Trong Python, khi đọc/ghi file csv thì bạn cũng không được dùng các thư viện hỗ trợ như thư viện `csv`."
   ]
  },
  {
   "cell_type": "markdown",
   "id": "8d61e06a",
   "metadata": {},
   "source": [
    "---"
   ]
  },
  {
   "cell_type": "markdown",
   "id": "f1372718",
   "metadata": {},
   "source": [
    "## Import các thư viện cần thiết"
   ]
  },
  {
   "cell_type": "code",
   "execution_count": 2,
   "id": "aa2cfe75",
   "metadata": {},
   "outputs": [],
   "source": [
    "import datetime\n",
    "# YOUR CODE HERE (OPTION)"
   ]
  },
  {
   "cell_type": "markdown",
   "id": "cbb29f77",
   "metadata": {},
   "source": [
    "---"
   ]
  },
  {
   "cell_type": "markdown",
   "id": "6098d27a",
   "metadata": {},
   "source": [
    "## Thu thập dữ liệu (3.5đ)"
   ]
  },
  {
   "cell_type": "markdown",
   "id": "d227fd9b",
   "metadata": {},
   "source": [
    "Trong bài tập này, bạn sẽ lấy dữ liệu log của [thùng chứa nbdime](https://github.com/KienTrann/nbdime). Nbdime là công cụ giúp Git có thể diff và merge file Notebook một cách phù hợp (thay vì chỉ coi như là một file text thông thường). Link mình cung cấp không phải là link đến thùng chứa gốc của nbdime mà là thùng chứa mình \"fork\" (đại khái là tạo ra một bản copy) từ thùng chứa gốc. Lý do: mình muốn cố định lại dữ liệu log để có thể cung cấp các bộ test để bạn phần nào biết là đã code đúng hay chưa (còn nếu dùng thùng chứa gốc thì dữ liệu log có thể sẽ thay đổi trong vài ngày tới, các bộ test lúc đó có thể sẽ không còn đúng nữa).\n",
    "\n",
    "Để có thể lấy dữ liệu log thì việc đầu tiên bạn cần làm ở cell bên dưới là: \n",
    "\n",
    "- Dùng câu lệnh Git để clone thùng chứa về; bạn clone vào một thư mục cùng cấp với file notebook này. <font color=gray>Gợi ý: trong Jupyter Notebook, ở code cell, bạn có thể thực hiện một câu lệnh Linux (bao gồm câu lệnh Git) bằng cách thêm dấu ! ở đầu.</font>\n",
    "- Sau đó, để xem thử thư mục vừa clone có nặng không, bạn tính dung lượng tổng cộng của thư mục này và lưu vào biến `repo_size` (`repo_size` là một con số, đơn vị là MB); ta thống nhất: (i) dùng cờ `--apparent-size` khi dùng câu lệnh `du`, (ii) code chỉ cần chạy đúng với thùng chứa cụ thể này. <font color=gray>Gợi ý: trong Jupyter Notebook, bạn có thể gán kết quả của câu lệnh Linux vào biến Python.</font> \\\n",
    "@ Các bạn dùng Mac: trong Mac thì mình nghe nói là câu lệnh `du` không có cờ `--apparent-size` (do câu lệnh `du` của Mac là bản BSD, còn của Linux là bản GNU); bạn có thể xem thử cách cài câu lệnh `du` bản GNU ở [video này](https://youtu.be/VGgTmxXp7xQ?t=894) (trong video là nói về câu lệnh `grep` nhưng mình nghĩ cũng sẽ tương tự với câu lệnh `du`)."
   ]
  },
  {
   "cell_type": "code",
   "execution_count": 3,
   "id": "8bd6ff0b",
   "metadata": {
    "deletable": false,
    "nbgrader": {
     "cell_type": "code",
     "checksum": "f9d6621381f8d838d952e28da52f9eea",
     "grade": true,
     "grade_id": "cell-5984c6f1d3bb0311",
     "locked": false,
     "points": 0.5,
     "schema_version": 3,
     "solution": true,
     "task": false
    }
   },
   "outputs": [
    {
     "name": "stdout",
     "output_type": "stream",
     "text": [
      "Cloning into 'nbdime'...\n",
      "remote: Enumerating objects: 12389, done.\u001b[K\n",
      "remote: Counting objects: 100% (376/376), done.\u001b[K\n",
      "remote: Compressing objects: 100% (256/256), done.\u001b[K\n",
      "remote: Total 12389 (delta 198), reused 234 (delta 117), pack-reused 12013\u001b[K\n",
      "Receiving objects: 100% (12389/12389), 5.21 MiB | 7.87 MiB/s, done.\n",
      "Resolving deltas: 100% (9015/9015), done.\n"
     ]
    },
    {
     "data": {
      "text/plain": [
       "['9,8M\\tnbdime']"
      ]
     },
     "execution_count": 3,
     "metadata": {},
     "output_type": "execute_result"
    }
   ],
   "source": [
    "# YOUR CODE HERE\n",
    "# raise NotImplementedError()\n",
    "!git clone https://github.com/KienTrann/nbdime.git\n",
    "repo_size = !du -sh --apparent-size nbdime\n",
    "repo_size\n",
    "# Thầy HDTH với mình có test thử thì có máy ra 9.7, có máy ra 9.8\n",
    "# (có thể là do phiên bản của câu lệnh du?)"
   ]
  },
  {
   "cell_type": "markdown",
   "id": "b7c4b9c4",
   "metadata": {},
   "source": [
    "Sau khi đã clone thùng chứa về, việc kế tiếp của bạn là dùng các câu lệnh Linux (trong đó có các câu lệnh Git) và Python để lấy dữ liệu log rồi lưu xuống file \"log.tsv\" (định dạng tsv tương tự như csv nhưng các giá trị được cách nhau bởi tab). Để dễ hình dung, bạn có thể dùng Jupyter Lab để mở xem file kết quả đúng \"correct_log.tsv\" mà mình cung cấp. Như bạn có thể thấy, mỗi dòng ứng với một commit (không tính dòng đầu - dòng chứa các tên cột) và gồm các thông tin:\n",
    "- \"Id\" là id (hash) dạng viết gọn của commit\n",
    "- \"ParentIds\" là id dạng viết gọn của (các) commit cha\n",
    "- \"AuthorName\" là tên của tác giả\n",
    "- \"AuthorEmail\" là email của tác giả\n",
    "- \"AuthorDate\" là ngày tác giả thực hiện commit, ngày được format theo chuẩn RFC2822 (xem phần gợi ý ở bên dưới để biết cách lấy ngày theo format này) \n",
    "- \"Subject\" là tựa đề của message (message tương tự như email, ngoài phần \"subject\" thì có thể có thêm phần \"body\"; ở đây ta chỉ lấy phần \"subject\")\n",
    "- \"ChangedFiles\": các file bị thay đổi, nếu có nhiều file thì các file được phân tách bởi dấu phẩy\n",
    "\n",
    "Tại sao mình dùng định dạng tsv thay vì csv? Vì dấu phẩy nhiều khả năng là sẽ có trong phần \"subject\" của message. Tab ít khả năng sẽ có hơn, nhưng nếu có thì bạn hãy thay bằng bốn khoảng trắng.\n",
    "\n",
    "<font color=gray>Gợi ý cho phần này:</font> \n",
    "- <font color=gray>Bạn có thể xem thêm về câu lệnh `git log` [ở đây](https://git-scm.com/book/en/v2/Git-Basics-Viewing-the-Commit-History)</font>\n",
    "- <font color=gray>Khi ở Notebook, bạn thử `cd` đến thư mục clone rồi `pwd` xem? Kết quả như vậy là vì khi thực hiện một dòng lệnh Linux ở Notebook thì Notebook sẽ tạo ra một terminal tạm thời để thực thi dòng lệnh đó trong phút chốc. Như vậy, câu lệnh `cd` vẫn là có `cd` đến thư mục clone nhưng là ở terminal tạm thời; khi câu lệnh `cd` chạy xong thì terminal tạm thời này sẽ được đóng và ta vẫn ở thư mục mà hiện chứa file Notebook. Để có thể `cd` rồi `pwd` thì một cách là ghi 2 câu lệnh này trên một dòng và cách nhau bởi `&&`; lúc này thì cả 2 câu lệnh sẽ được thực thi trên cùng một terminal</font>"
   ]
  },
  {
   "cell_type": "code",
   "execution_count": 4,
   "id": "dd188ac1",
   "metadata": {
    "deletable": false,
    "nbgrader": {
     "cell_type": "code",
     "checksum": "55b0b31d2d3104224a68b2c60ac4fccf",
     "grade": false,
     "grade_id": "cell-7a31931ee1dd0b8b",
     "locked": false,
     "schema_version": 3,
     "solution": true,
     "task": false
    }
   },
   "outputs": [],
   "source": [
    "# YOUR CODE HERE #\n",
    "# raise NotImplementedError()\n",
    "log_data = !cd nbdime && git log --pretty=format:\"%h|||%p|||%an|||%ae|||%aD|||%s\"\n",
    "net = !cd nbdime && git log --pretty=format:\"%h %s\"\n",
    "changed_files_data = !cd nbdime && git log --name-only --oneline\n",
    "#string problem solving \n",
    "\n",
    "i, flag = 0, 1\n",
    "for data in changed_files_data:\n",
    "    if (i < len(net) and data == net[i]):\n",
    "        if (flag == 0):\n",
    "            log_data[i-1] += '|||'\n",
    "        flag = 0\n",
    "        i += 1\n",
    "    else:\n",
    "        if (flag == 1):\n",
    "            log_data[i-1] += ','\n",
    "        else:\n",
    "            log_data[i-1] += '|||'\n",
    "\n",
    "        log_data[i-1] += data\n",
    "        flag = 1\n",
    "\n",
    "#save file\n",
    "with open(\"log.tsv\", mode='w',encoding = 'utf-8') as file:\n",
    "    file.write(\"Id\\tParentIds\\tAuthorName\\tAuthorEmail\\tAuthorDate\\tSubject\\tChangedFiles\\n\")\n",
    "    for data in log_data:\n",
    "        data = data.replace('|||', '\\t')\n",
    "        file.write(data + '\\n')\n",
    "    file.close()\n"
   ]
  },
  {
   "cell_type": "code",
   "execution_count": 5,
   "id": "1c507d6f",
   "metadata": {
    "deletable": false,
    "editable": false,
    "nbgrader": {
     "cell_type": "code",
     "checksum": "0423c7b3167b4b74060cf441d2dc344b",
     "grade": true,
     "grade_id": "cell-1671c3f106d5da7d",
     "locked": true,
     "points": 3,
     "schema_version": 3,
     "solution": false,
     "task": false
    }
   },
   "outputs": [],
   "source": [
    "# TEST\n",
    "file = open('log.tsv', 'r')\n",
    "log = file.read()\n",
    "file.close()\n",
    "file = open('correct_log.tsv', 'r')\n",
    "correct_log = file.read()\n",
    "file.close()\n",
    "assert log == correct_log"
   ]
  },
  {
   "cell_type": "markdown",
   "id": "43a99fa4",
   "metadata": {},
   "source": [
    "---"
   ]
  },
  {
   "cell_type": "markdown",
   "id": "804be566",
   "metadata": {},
   "source": [
    "## Khám phá dữ liệu"
   ]
  },
  {
   "cell_type": "markdown",
   "id": "d4673a3c",
   "metadata": {},
   "source": [
    "### Dữ liệu có bao nhiêu dòng và bao nhiêu cột? (0.5đ)"
   ]
  },
  {
   "cell_type": "markdown",
   "id": "8cb31291",
   "metadata": {},
   "source": [
    "Đầu tiên, bạn sẽ đọc dữ liệu từ file \"log.tsv\" (nếu phần thu thập dữ liệu bạn làm chưa đúng thì bạn có thể đọc từ file \"correct_log.tsv\" mà mình đã cung cấp). Bạn lưu kết quả đọc được vào biến `cols`. Biến `cols` là một dictionary, trong đó mỗi phần tử ứng với một cột, key là chuỗi ứng với tên cột, value là list chứa các giá trị của cột (mỗi giá trị bạn cứ tạm để kiểu dữ liệu là chuỗi).\n",
    "\n",
    "Kế tiếp, từ biến `cols`, bạn sẽ tính số dòng và số cột, rồi lần lượt lưu vào hai biến là `num_rows` và `num_cols`."
   ]
  },
  {
   "cell_type": "code",
   "execution_count": 6,
   "id": "3e6f19fd",
   "metadata": {
    "deletable": false,
    "nbgrader": {
     "cell_type": "code",
     "checksum": "2129a14a7289ce808929d5a67e787a07",
     "grade": false,
     "grade_id": "cell-f2f6dbf283e0ccee",
     "locked": false,
     "schema_version": 3,
     "solution": true,
     "task": false
    }
   },
   "outputs": [],
   "source": [
    "# YOUR CODE HERE\n",
    "# raise NotImplementedError()\n",
    "cols = {}\n",
    "with open(\"log.tsv\", mode='r',encoding = 'utf-8') as file:\n",
    "    col_names = file.readline().split('\\t')\n",
    "    col_names[-1] = col_names[-1].replace(\"\\n\", \"\")\n",
    "\n",
    "    while True:\n",
    "        line = file.readline()\n",
    "        line = line.replace(\"\\n\", \"\")\n",
    "        if (line == \"\"): break\n",
    "\n",
    "        data = line.split('\\t')\n",
    "        if (len(data) < len(col_names)):\n",
    "            data.append('')\n",
    "\n",
    "        i = 0\n",
    "        for col_name in col_names:\n",
    "            if col_name in cols:\n",
    "                cols[col_name].append(data[i])\n",
    "            else:\n",
    "                cols[col_name] = [data[i]]\n",
    "            i += 1\n",
    "        \n",
    "    file.close()\n",
    "\n",
    "num_cols = len(cols)\n",
    "num_rows = len(cols[col_names[0]])"
   ]
  },
  {
   "cell_type": "code",
   "execution_count": 7,
   "id": "f7e3e0ee",
   "metadata": {
    "deletable": false,
    "editable": false,
    "nbgrader": {
     "cell_type": "code",
     "checksum": "b8aeec5e8bb7d4402d3ade6077db687d",
     "grade": true,
     "grade_id": "cell-cae77558e0985b8d",
     "locked": true,
     "points": 0.5,
     "schema_version": 3,
     "solution": false,
     "task": false
    }
   },
   "outputs": [],
   "source": [
    "# TEST\n",
    "assert num_rows == 1928\n",
    "assert num_cols == 7\n",
    "assert set(cols.keys()) == set(['Id', 'ParentIds', 'AuthorName', \n",
    "                                'AuthorEmail', 'AuthorDate', 'Subject', \n",
    "                                'ChangedFiles'])\n",
    "id_col_len = len(cols['Id'])\n",
    "for col_name in cols:\n",
    "    assert len(cols[col_name]) == id_col_len"
   ]
  },
  {
   "cell_type": "markdown",
   "id": "3d440322",
   "metadata": {},
   "source": [
    "### Mỗi dòng có ý nghĩa gì? Có vấn đề các dòng có ý nghĩa khác nhau không?"
   ]
  },
  {
   "cell_type": "markdown",
   "id": "2bf7cc38",
   "metadata": {},
   "source": [
    "Mỗi dòng ứng với một commit. Có vẻ không có dòng nào \"lạc loài\" (nghĩa là không có vấn đề các dòng có ý nghĩa khác nhau)."
   ]
  },
  {
   "cell_type": "markdown",
   "id": "dfd3b9ac",
   "metadata": {},
   "source": [
    "### Dữ liệu có các dòng bị lặp không? (0.25đ)"
   ]
  },
  {
   "cell_type": "markdown",
   "id": "ea9d9c8f",
   "metadata": {},
   "source": [
    "Có lẽ là không có. Để chắc ăn thì một cách là ta có thể check cột \"Id\"; nếu cột \"Id\" không có giá trị bị lặp thì có thể kết luận là không có dòng bị lặp. Bạn sẽ làm vụ này và lưu kết quả check vào biến `duplicated_id`; biến này bằng True nếu cột \"Id\" có giá trị lặp và bằng False nếu ngược lại."
   ]
  },
  {
   "cell_type": "code",
   "execution_count": 8,
   "id": "c1625ffc",
   "metadata": {
    "deletable": false,
    "nbgrader": {
     "cell_type": "code",
     "checksum": "1a76647c83c980ad5211ae3face16788",
     "grade": false,
     "grade_id": "cell-31e053e964e6c9eb",
     "locked": false,
     "schema_version": 3,
     "solution": true,
     "task": false
    }
   },
   "outputs": [],
   "source": [
    "# YOUR CODE HERE\n",
    "# raise NotImplementedError()\n",
    "id_list = cols['Id']\n",
    "duplicated_id = True\n",
    "\n",
    "for id in id_list:\n",
    "    if (id_list.count(id) >= 1):\n",
    "        duplicated_id = False\n",
    "        break"
   ]
  },
  {
   "cell_type": "code",
   "execution_count": 9,
   "id": "e0516bc2",
   "metadata": {
    "deletable": false,
    "editable": false,
    "nbgrader": {
     "cell_type": "code",
     "checksum": "42bf24e55c7bd536e139c6244328b218",
     "grade": true,
     "grade_id": "cell-ab5957518b489fa7",
     "locked": true,
     "points": 0.25,
     "schema_version": 3,
     "solution": false,
     "task": false
    }
   },
   "outputs": [],
   "source": [
    "# TEST\n",
    "assert duplicated_id == False"
   ]
  },
  {
   "cell_type": "markdown",
   "id": "f019928b",
   "metadata": {},
   "source": [
    "### Mỗi cột có ý nghĩa gì?"
   ]
  },
  {
   "cell_type": "markdown",
   "id": "b9b22dd7",
   "metadata": {},
   "source": [
    "Vụ này mình đã nói lúc thu thập dữ liệu. Ở đây, mình ghi lại một lần nữa:\n",
    "\n",
    "- \"Id\" là id (hash) dạng viết gọn của commit\n",
    "- \"ParentIds\" là id dạng viết gọn của (các) commit cha\n",
    "- \"AuthorName\" là tên của tác giả\n",
    "- \"AuthorEmail\" là email của tác giả\n",
    "- \"AuthorDate\" là ngày tác giả thực hiện commit\n",
    "- \"Subject\" là tựa đề của message (message tương tự như email, ngoài phần \"subject\" thì có thể có thêm phần \"body\"; ở đây ta chỉ lấy phần \"subject\")\n",
    "- \"ChangedFiles\": các file bị thay đổi, nếu có nhiều file thì các file được phân tách bởi dấu phẩy"
   ]
  },
  {
   "cell_type": "markdown",
   "id": "8f0a41a1",
   "metadata": {},
   "source": [
    "### Mỗi cột hiện đang có kiểu dữ liệu gì? Có cột nào có kiểu dữ liệu chưa phù hợp để có thể xử lý tiếp không?"
   ]
  },
  {
   "cell_type": "markdown",
   "id": "b7268c8f",
   "metadata": {},
   "source": [
    "- Các cột \"Id\", \"ParentIds\", \"AuthorName\", \"AuthorEmail\", \"Subject\": kiểu dữ liệu dạng chuỗi là đúng rồi\n",
    "- Cột \"ChangedFiles\": hmm ... có lẽ tạm thời ta vẫn để dạng chuỗi, có gì cần thì ta sẽ xử lý sau\n",
    "- Cột \"AuthorDate\": cần chuyển từ kiểu dữ liệu dạng chuỗi sang datetime; để có thể tiếp tục khám phá tiếp thì ngay sau đây bạn sẽ tiền xử lý vụ này luôn"
   ]
  },
  {
   "cell_type": "markdown",
   "id": "eb45766a",
   "metadata": {},
   "source": [
    "---"
   ]
  },
  {
   "cell_type": "markdown",
   "id": "b94eccc0",
   "metadata": {},
   "source": [
    "## Tiền xử lý (0.5đ)"
   ]
  },
  {
   "cell_type": "markdown",
   "id": "07367649",
   "metadata": {},
   "source": [
    "Ở đây, bạn sẽ chuyển cột \"AuthorDate\" từ dạng chuỗi sang datetime. <font color=gray>Gợi ý: bạn xem [document](https://docs.python.org/3/library/datetime.html#strftime-and-strptime-format-codes) để biết cách truyền format phù hợp cho hàm `strptime`.</font>"
   ]
  },
  {
   "cell_type": "code",
   "execution_count": 10,
   "id": "4f5f670c",
   "metadata": {
    "deletable": false,
    "nbgrader": {
     "cell_type": "code",
     "checksum": "758261b3f6045b402f5abb5f4b080bb4",
     "grade": false,
     "grade_id": "cell-742e74182a9d1936",
     "locked": false,
     "schema_version": 3,
     "solution": true,
     "task": false
    }
   },
   "outputs": [],
   "source": [
    "# YOUR CODE HERE\n",
    "# raise NotImplementedError()\n",
    "time_list = []\n",
    "\n",
    "for time in cols['AuthorDate']:\n",
    "    if (type(time) != str): break\n",
    "    t = datetime.datetime.strptime(time, \"%a, %d %b %Y %H:%M:%S %z\")\n",
    "    time_list.append(t)\n",
    "\n",
    "if (len(time_list) != 0):\n",
    "    cols['AuthorDate'] = time_list"
   ]
  },
  {
   "cell_type": "code",
   "execution_count": 11,
   "id": "d3745ce5",
   "metadata": {
    "deletable": false,
    "editable": false,
    "nbgrader": {
     "cell_type": "code",
     "checksum": "5eca1fcb2e213809282e22ef9e6c8dfe",
     "grade": true,
     "grade_id": "cell-c551b6a15162bb10",
     "locked": true,
     "points": 0.5,
     "schema_version": 3,
     "solution": false,
     "task": false
    }
   },
   "outputs": [],
   "source": [
    "# TEST\n",
    "assert type(cols['AuthorDate'][0]) == datetime.datetime\n",
    "assert cols['AuthorDate'][0] == datetime.datetime(2021, 4, 20, 12, 27, 9, \n",
    "            tzinfo=datetime.timezone(datetime.timedelta(seconds=3600)))"
   ]
  },
  {
   "cell_type": "markdown",
   "id": "ef44a52e",
   "metadata": {},
   "source": [
    "---"
   ]
  },
  {
   "cell_type": "markdown",
   "id": "53154bef",
   "metadata": {},
   "source": [
    "## Khám phá dữ liệu (tiếp tục)"
   ]
  },
  {
   "cell_type": "markdown",
   "id": "d651709d",
   "metadata": {},
   "source": [
    "### Với mỗi cột có kiểu dữ liệu dạng số (numeric) và dạng datetime, các giá trị được phân bố như thế nào? (0.5đ)"
   ]
  },
  {
   "cell_type": "markdown",
   "id": "0d592408",
   "metadata": {},
   "source": [
    "Ở đây thì không có cột dạng số, chỉ có một cột dạng datetime là cột \"AuthorDate\".\n",
    "\n",
    "Đầu tiên, bạn tính tỉ lệ % các giá trị thiếu của cột \"AuthorDate\". <font color=gray>Gợi ý: không cần code, có thể lập luận dựa vào kết quả khi chuyển cột \"AuthorDate\" từ dạng chuỗi sang datetime ở bên trên.</font>"
   ]
  },
  {
   "cell_type": "markdown",
   "id": "38cc0dc8",
   "metadata": {
    "deletable": false,
    "nbgrader": {
     "cell_type": "markdown",
     "checksum": "0d29851ae39f01d9ed0d34f4891a918b",
     "grade": true,
     "grade_id": "cell-47e2584daf9dda74",
     "locked": false,
     "points": 0.25,
     "schema_version": 3,
     "solution": true,
     "task": false
    }
   },
   "source": [
    "Không có xảy ra 1 lỗi nào khi chuyển từ dữ liệu string datetime sang datetime, nghĩa là tất cả các giá trị đều đúng format .\n",
    "% các giá trị thiếu của cột \"AuthorDate\" = 0 %"
   ]
  },
  {
   "cell_type": "markdown",
   "id": "109537c1",
   "metadata": {},
   "source": [
    "Tiếp theo, bạn tính min và max của cột \"AuthorDate\", rồi lần lượt lưu vào hai biến `author_date_min` và `author_date_max`."
   ]
  },
  {
   "cell_type": "code",
   "execution_count": 12,
   "id": "154c41c1",
   "metadata": {
    "deletable": false,
    "nbgrader": {
     "cell_type": "code",
     "checksum": "5abe340e46e2811a6fa8c3fea2bf7dd6",
     "grade": false,
     "grade_id": "cell-ed5647763d70e921",
     "locked": false,
     "schema_version": 3,
     "solution": true,
     "task": false
    }
   },
   "outputs": [],
   "source": [
    "# YOUR CODE HERE\n",
    "# raise NotImplementedError()\n",
    "\n",
    "author_date_min = min(cols['AuthorDate'])\n",
    "author_date_max = max(cols['AuthorDate'])"
   ]
  },
  {
   "cell_type": "code",
   "execution_count": 13,
   "id": "b713da5b",
   "metadata": {
    "deletable": false,
    "editable": false,
    "nbgrader": {
     "cell_type": "code",
     "checksum": "c7fd8957fa8f92f3f85288d8cc249fba",
     "grade": true,
     "grade_id": "cell-8bb55737a75c0a6e",
     "locked": true,
     "points": 0.25,
     "schema_version": 3,
     "solution": false,
     "task": false
    }
   },
   "outputs": [],
   "source": [
    "# TEST\n",
    "assert author_date_min == datetime.datetime(2015, 11, 9, 13, 13, 28, \n",
    "            tzinfo=datetime.timezone(datetime.timedelta(seconds=3600)))\n",
    "assert author_date_max == datetime.datetime(2021, 4, 20, 12, 27, 9, \n",
    "            tzinfo=datetime.timezone(datetime.timedelta(seconds=3600)))"
   ]
  },
  {
   "cell_type": "markdown",
   "id": "1e7d1c90",
   "metadata": {},
   "source": [
    "Hmm ... Min và max của cột \"AuthorDate\" không có gì bất thường."
   ]
  },
  {
   "cell_type": "markdown",
   "id": "49a7a821",
   "metadata": {},
   "source": [
    "### Với mỗi cột có kiểu dữ liệu dạng phân loại (categorical), các giá trị được phân bố như thế nào? (1.75đ)"
   ]
  },
  {
   "cell_type": "markdown",
   "id": "9ed2a095",
   "metadata": {},
   "source": [
    "Các cột dạng phân loại là các cột mà không phải là cột \"AuthorDate\". Bạn sẽ lưu thông tin của các cột này vào biến `cate_col_profiles`. Biến này là một dictionary, trong đó mỗi phần tử ứng với một cột dạng phân loại, key là tên cột, value là list gồm: tỉ lệ % giá trị thiếu, số lượng các giá trị khác nhau (không tính giá trị thiếu), set chứa các giá trị khác nhau (không bao gồm giá trị thiếu)."
   ]
  },
  {
   "cell_type": "code",
   "execution_count": 14,
   "id": "f41b8828",
   "metadata": {
    "deletable": false,
    "nbgrader": {
     "cell_type": "code",
     "checksum": "3317a65ff1cce4222cc0a63602dcaef9",
     "grade": false,
     "grade_id": "cell-d9eb895996d7b157",
     "locked": false,
     "schema_version": 3,
     "solution": true,
     "task": false
    }
   },
   "outputs": [],
   "source": [
    "# YOUR CODE HERE\n",
    "# raise NotImplementedError()\n",
    "cate_col_profiles = {'AuthorEmail':[], 'AuthorName':[], \n",
    "                     'ChangedFiles':[], 'Id':[], \n",
    "                     'ParentIds':[], 'Subject':[]}\n",
    "\n",
    "\n",
    "for key in cate_col_profiles.keys():\n",
    "    percent_missing_values = cols[key].count('') / len(cols[key]) * 100\n",
    "    different_values =set(cols[key])\n",
    "\n",
    "    if ('' in different_values):\n",
    "        different_values.remove('')\n",
    "    if (' ' in different_values):\n",
    "        different_values.remove(' ')\n",
    "\n",
    "    cate_col_profiles[key].append(percent_missing_values)\n",
    "    cate_col_profiles[key].append(len(different_values))\n",
    "    cate_col_profiles[key].append(different_values)"
   ]
  },
  {
   "cell_type": "code",
   "execution_count": 15,
   "id": "c2b2d0d3",
   "metadata": {
    "deletable": false,
    "editable": false,
    "nbgrader": {
     "cell_type": "code",
     "checksum": "53f116101747d9d3c845e486cb8ab2e8",
     "grade": true,
     "grade_id": "cell-50123f76f79e1f27",
     "locked": true,
     "points": 1,
     "schema_version": 3,
     "solution": false,
     "task": false
    }
   },
   "outputs": [],
   "source": [
    "# TEST\n",
    "assert set(cate_col_profiles.keys()) == {'AuthorEmail', 'AuthorName', \n",
    "                                         'ChangedFiles', 'Id', \n",
    "                                         'ParentIds', 'Subject'}\n",
    "for col_name, col_profile in cate_col_profiles.items():\n",
    "    assert len(col_profile) == 3\n",
    "    assert len(col_profile[2]) == col_profile[1]\n",
    "assert round(cate_col_profiles['ParentIds'][0], 3) == 0.052\n",
    "assert round(cate_col_profiles['ChangedFiles'][0], 3) == 16.079\n",
    "assert cate_col_profiles['ParentIds'][1] == 1820\n",
    "assert cate_col_profiles['ChangedFiles'][1] == 842"
   ]
  },
  {
   "cell_type": "code",
   "execution_count": 16,
   "id": "f332814f",
   "metadata": {},
   "outputs": [
    {
     "name": "stdout",
     "output_type": "stream",
     "text": [
      "ColName      Miss(%) NumDifVals SomeVals\n",
      "AuthorEmail 0.000   34         {'lev@columbia.edu', 'tony.hirst@g...\n",
      "AuthorName  0.000   34         {'Lionel Miller', 'Jaipreet Singh'...\n",
      "ChangedFiles16.079  842        {'packages/nbdime/src/common/util....\n",
      "Id          0.000   1928       {'c2ee8eb', 'a6daa6a', 'f2ff172', ...\n",
      "ParentIds   0.052   1820       {'c2ee8eb', 'a6daa6a', 'f2ff172', ...\n",
      "Subject     0.000   1860       {'Tweak CLI help strings', 'Refact...\n"
     ]
    }
   ],
   "source": [
    "# TEST (BY EYES)\n",
    "print(f\"{'ColName':12} {'Miss(%)':7} {'NumDifVals':10} {'SomeVals'}\")\n",
    "for col_name, col_profile in cate_col_profiles.items():\n",
    "    print(f'{col_name:12}{col_profile[0]:<7.3f} {col_profile[1]:<10} {col_profile[2].__repr__()[:34]+\"...\":<}')"
   ]
  },
  {
   "cell_type": "markdown",
   "id": "80b141f0",
   "metadata": {},
   "source": [
    "Bạn quan sát kết quả in ra ở trên (tạm thời chưa để ý đến cột \"Miss(%)\") và cho biết có gì bất thường không? Hay mọi thứ đều bình thường? Cho mình biết tại sao bạn lại kết luận như vậy."
   ]
  },
  {
   "cell_type": "markdown",
   "id": "5f0862e3",
   "metadata": {
    "deletable": false,
    "nbgrader": {
     "cell_type": "markdown",
     "checksum": "6b4e0ea35fa2498c8ca58017183e5ca7",
     "grade": true,
     "grade_id": "cell-88055a6ed4991805",
     "locked": false,
     "points": 0.25,
     "schema_version": 3,
     "solution": true,
     "task": false
    }
   },
   "source": [
    "* Những cột : 'AuthorEmail', 'AuthorName', 'Subject' thì có thể có những giá trị giống nhau trong cùng 1 cột cho nên không có gì bất thường \n",
    "* Cột 'ParentIds' khả năng có giá trị = None thì cũng không có gì bất thường vì có thể 'Id' đầu tiên thì không có ParentId \n",
    "* Cột 'ChangedFiles' cũng không có gì bất thường vì 1 commit có thể có nhiều hoặc không có file nào được thay đổi, và những giá trị trên cột này cũng có thể khác nhau\n",
    "cho nên cũng không có gì bất thường \n",
    "* Cột 'Id' chứa những hash key cho nên cột này có các giá trị đều khác nhau thì cũng là điều bình thường \\\n",
    "Tóm lại, kết quả in ra ở trên đều bình thường."
   ]
  },
  {
   "cell_type": "markdown",
   "id": "262f05c9",
   "metadata": {},
   "source": [
    "Kế tiếp, bạn hãy cho in ra các dòng mà có giá trị thiếu (in sao là tùy bạn, miễn là dễ nhìn). Sau đó, bạn hãy quan sát các dòng này để xem tại sao lại bị thiếu (trong trường hợp, bạn không biết tại sao thì cứ ghi nhận là không biết tại sao)."
   ]
  },
  {
   "cell_type": "code",
   "execution_count": 17,
   "id": "b436b01c",
   "metadata": {
    "deletable": false,
    "nbgrader": {
     "cell_type": "code",
     "checksum": "d1a9502c7c37ba7b6600579bec4e5627",
     "grade": true,
     "grade_id": "cell-fda56cd71a2bb407",
     "locked": false,
     "points": 0.25,
     "schema_version": 3,
     "solution": true,
     "task": false
    }
   },
   "outputs": [
    {
     "name": "stdout",
     "output_type": "stream",
     "text": [
      "Id         ParentIds            ChangeFiles:        \n",
      "524aac2    2994fb4 e4e696c      None\n",
      "ab8e60d    f1e18ff 23e0cc9      None\n",
      "f1e18ff    52f7990 6c1ce97      None\n",
      "52f7990    8ce708c 25252f6      None\n",
      "8ce708c    4291b8c dea43d6      None\n",
      "075f502    2d1edb8 4291b8c      None\n",
      "4291b8c    ab9f1bc 86c28f7      None\n",
      "ab9f1bc    c823623 295e834      None\n",
      "fe2911a    c38cfc5 25101fe      None\n",
      "a0726e5    75363a0 8c52de8      None\n",
      "75363a0    f6beb60 206fee8      None\n",
      "f6beb60    92fc22d 4b1129b      None\n",
      "77cac58    b707946 ca3b311      None\n",
      "b707946    141b2dc 598c072      None\n",
      "141b2dc    0f0a90a 4d2e319      None\n",
      "f259cae    8804407 eaf9c06      None\n",
      "eaf9c06    bf5a540 a20c789      None\n",
      "d330173    133c4bf 2cd6efe      None\n",
      "133c4bf    a9435d5 326da89      None\n",
      "a9435d5    a506b66 d4f8247      None\n",
      "a506b66    d067442 fed6e17      None\n",
      "d067442    d9cbd7b 9b67c6c      None\n",
      "d9cbd7b    425c46d f036d20      None\n",
      "425c46d    6259cd0 ce08ccf      None\n",
      "6259cd0    137182a 0dbe870      None\n",
      "137182a    a9faba1 cd528a8      None\n",
      "a9faba1    cdadb44 e114af0      None\n",
      "cdadb44    ec065a7 0810fa3      None\n",
      "300067c    0590d1b b9d972e      None\n",
      "0590d1b    1f864d2 c3c652e      None\n",
      "fabbeb7    ba18b56 b75bfa7      None\n",
      "ba18b56    c2635db 0509d39      None\n",
      "8940d58    0910bcd 4f5cdde      None\n",
      "0910bcd    b8c7829 95fe0aa      None\n",
      "b8c7829    91ac9bf 384acd9      None\n",
      "91ac9bf    31b716e 8e65719      None\n",
      "31b716e    07714c0 5ab35e7      None\n",
      "07714c0    435ce3b f79fd54      None\n",
      "435ce3b    d71758d 027145e      None\n",
      "c24fc22    5a92521 93095de      None\n",
      "5a92521    ed222a2 eac7bc6      None\n",
      "ed222a2    d44e3b5 b669e85      None\n",
      "abdde8f    20e07f4 58c5197      None\n",
      "d3a0962    60a93bc fefdbe5      None\n",
      "959ce75    98c3af9 091bdea      None\n",
      "98c3af9    98bf4dc 9d36c6b      None\n",
      "98bf4dc    c968e6f ac9647b      None\n",
      "c968e6f    d070da0 0970ed3      None\n",
      "eef0e50    14137b6 c591417      None\n",
      "559bae6    039c821 7111b70      None\n",
      "fb6484a    3d7d95e 54cf807      None\n",
      "3fc3e9a    a93b42c abc3939      None\n",
      "a93b42c    9cf252c 4605e25      None\n",
      "9cf252c    fc1af0c ff9642c      None\n",
      "fc1af0c    69585e7 229bd68      None\n",
      "220bc1f    cf45e47 7df4bc8      None\n",
      "cf45e47    7748bd5 020a00d      None\n",
      "7748bd5    a83fdb1 e39f5e7      None\n",
      "f0d66a6    0e47f41 035b3d6      None\n",
      "0e47f41    32df48a e675aa0      None\n",
      "32df48a    f50d8e5 c8cfaa0      None\n",
      "f50d8e5    bf8da35 fa0590c      None\n",
      "bf8da35    83976ac 4c2f423      None\n",
      "c30847b    ef9d708 e18d8b6      None\n",
      "ef9d708    1bb9458 e67a71d      None\n",
      "1bb9458    25878a5 151415d      None\n",
      "25878a5    0234912 35309cd      None\n",
      "0234912    e510209 8c614c0      None\n",
      "e510209    0e1c4d6 5371adc      None\n",
      "1b332c8    ffaaf75 e96b96d      None\n",
      "ffaaf75    28a436b 031c2dc      None\n",
      "28a436b    b7ececa 8ad275e      None\n",
      "52e68c8    09ce7af 4b55685      None\n",
      "09ce7af    bd9873c 0d197ea      None\n",
      "bd9873c    f330467 fdaf9c3      None\n",
      "f330467    789e5b4 ba00a8d      None\n",
      "2656120    145efe3              None\n",
      "55d56ee    d59a446 b58a9d8      None\n",
      "d59a446    14c7c0a 1e9d547      None\n",
      "e03c861    7914988 ae8f008      None\n",
      "7914988    0a60cdc 1d7b23d      None\n",
      "0a60cdc    35c3c96 cbcc974      None\n",
      "e4b9dc6    66cc086 04af6c9      None\n",
      "670e8a0    12dd2ab fb5560a      None\n",
      "77398e0    f16ecac 6277ec7      None\n",
      "f16ecac    350f5ca 961c568      None\n",
      "350f5ca    8d6421d 0a8342c      None\n",
      "8d6421d    ac7358f 5c25fd0      None\n",
      "ac7358f    7c4b998 c155592      None\n",
      "7c4b998    c21fd7f 3dd98b6      None\n",
      "c21fd7f    eac0417 c432a92      None\n",
      "eac0417    e019d4c 18525fa      None\n",
      "e019d4c    05c5047 719f66a      None\n",
      "05c5047    f0a36a1 fdf07ba      None\n",
      "f0a36a1    344a450 6f54c3d      None\n",
      "344a450    4022e8c 8a69ef3      None\n",
      "4022e8c    f0284ac 461fd66      None\n",
      "f0284ac    ff6e1fd 588b9ab      None\n",
      "2354345    f884858 8345baf      None\n",
      "f884858    dfff8ff 92b5b0c      None\n",
      "dfff8ff    7240999 e4a223d      None\n",
      "7240999    d5a3b66 f883682      None\n",
      "d5a3b66    e81d466 0f13db4      None\n",
      "e81d466    f7cedce 519db53      None\n",
      "ce16aec    c1a95e1 3bc3009      None\n",
      "c1a95e1    cd5403a 380d246      None\n",
      "06784cd    13d10af 333a696      None\n",
      "13d10af    31233af 8d21f14      None\n",
      "31233af    a70fc47 4ac94e0      None\n",
      "a70fc47    3b51405 a51d525      None\n",
      "85b9439    fd10644 512be11      None\n",
      "fd10644    7bb9fae 864add9      None\n",
      "7bb9fae    a184e7e 56490f8      None\n",
      "a184e7e    b0327b0 46f892e      None\n",
      "b0327b0    e9ba0e4 243c996      None\n",
      "e9ba0e4    cad565e 19aa64f      None\n",
      "cad565e    4da3738 647284d      None\n",
      "4da3738    a489683 d8ff107      None\n",
      "a489683    cfb7408 86abf32      None\n",
      "cfb7408    bc93659 51787b0      None\n",
      "bc93659    40dec01 4cdd49f      None\n",
      "40dec01    6c3e8bb d30d54c      None\n",
      "6c3e8bb    b384cd4 900e6b6      None\n",
      "b384cd4    edfc38a 36e6b14      None\n",
      "36e6b14    391f448 edfc38a      None\n",
      "edfc38a    5f6c38f 6ed76ac      None\n",
      "852fd94    9540d0b f2a9f6e      None\n",
      "9540d0b    a7496a2 574ec67      None\n",
      "a7496a2    41fd2d3 e03f7bd      None\n",
      "b10078b    76df65e 3200656      None\n",
      "76df65e    c2ee8eb 9002d56      None\n",
      "393bd56    73f5f70 56d9ad2      None\n",
      "73f5f70    c8f5544 a5f5423      None\n",
      "c8f5544    1dbc671 99109dd      None\n",
      "1dbc671    2424bc4 10eae14      None\n",
      "2424bc4    38b1502 d8894cb      None\n",
      "38b1502    5762bc3 f17b9d6      None\n",
      "5762bc3    2640b6d f65451c      None\n",
      "a18f1e8    eedd971 9f20c20      None\n",
      "eedd971    a205d4a 2494ab3      None\n",
      "25909c8    4530423 b3575ea      None\n",
      "4530423    8f000c5 f1c8716      None\n",
      "8f000c5    4bdc258 456ede9      None\n",
      "4bdc258    83ae911 d01cb4d      None\n",
      "83ae911    30a760b 1fe5d66      None\n",
      "e64d9f7    352e8a5 024a9ec      None\n",
      "352e8a5    9e6f400 4880e52      None\n",
      "9e6f400    9c4f355 97774cc      None\n",
      "9c4f355    804cea7 33f7686      None\n",
      "804cea7    9531aa9 f0cf9a7      None\n",
      "9531aa9    8e493b1 7593dac      None\n",
      "990fded    77982f9 46df21e      None\n",
      "46df21e    ba3dbc9 77982f9      None\n",
      "77982f9    4ae79a8 b143270      None\n",
      "4ae79a8    6d9aaec 3fba95f      None\n",
      "6d9aaec    d08ceab 58282a4      None\n",
      "b9c3184    5c92cfb 568064a      None\n",
      "5c92cfb    470eaf8 72561f2      None\n",
      "65ced79    84e6cf3 712cf0d      None\n",
      "84e6cf3    823dfd6 0e7e023      None\n",
      "823dfd6    b1454bc 92d2732      None\n",
      "b1454bc    6bdacd4 1023e5f      None\n",
      "6bdacd4    900b22e 910c419      None\n",
      "900b22e    3df71d0 f967a60      None\n",
      "3df71d0    361b2f1 eefebeb      None\n",
      "361b2f1    9bece08 b04db6c      None\n",
      "9bece08    f311624 f808b7f      None\n",
      "f311624    5560090 00af346      None\n",
      "5560090    941a4e1 96f6dd9      None\n",
      "941a4e1    ad6ebdc eef6229      None\n",
      "ad6ebdc    031b756 edec016      None\n",
      "c032666    f384cd1 82416fe      None\n",
      "f384cd1    c9bde54 11bb052      None\n",
      "c9bde54    c1a0588 3d4fd8d      None\n",
      "c1a0588    874e618 cca0999      None\n",
      "874e618    b691ab5 d569ff4      None\n",
      "b691ab5    fafea8a 1aa270c      None\n",
      "fafea8a    7e63061 2a39bc3      None\n",
      "7e63061    e7f1a48 f6c2ac5      None\n",
      "e7f1a48    9a4f9f8 f8e29f2      None\n",
      "9a4f9f8    cd2f57a 143d710      None\n",
      "cd2f57a    26704cd 488467e      None\n",
      "26704cd    e27869d 9d6f54c      None\n",
      "64571fb    8a3a8e4 169cf2b      None\n",
      "1ca93bf    0f9e801 13de864      None\n",
      "0f9e801    52e7f16 7bf3900      None\n",
      "52e7f16    b796d33 ede5771      None\n",
      "b796d33    0aa75f8 f9211ef      None\n",
      "bc69972    f3843ea 0aa75f8      None\n",
      "0aa75f8    da9b138 b7164ea      None\n",
      "da9b138    c8ff67e 5e70941      None\n",
      "c8ff67e    a8dc069 2118d96      None\n",
      "8247775    20bcc2b a8dc069      None\n",
      "a8dc069    938d0d6 14b59aa      None\n",
      "938d0d6    cb2e3e7 cc02862      None\n",
      "cb2e3e7    a780dfa 4420cbd      None\n",
      "a780dfa    1d49827 a616bd3      None\n",
      "1d49827    5078eee 3c7553e      None\n",
      "5078eee    c375fe4 441a8be      None\n",
      "c375fe4    60bc309 4d88e5b      None\n",
      "60bc309    6ae471f 8e260e2      None\n",
      "6ae471f    fe4b29a 124246f      None\n",
      "fe4b29a    44ff95e 1e14732      None\n",
      "44ff95e    43f8bcc 9fb94d5      None\n",
      "43f8bcc    ff7b295 1750a94      None\n",
      "ff7b295    b0d57d5 34c6528      None\n",
      "b0d57d5    5982dcd 5b0a3ad      None\n",
      "5982dcd    2e520e7 dd3ff8b      None\n",
      "2e520e7    d188aa0 e07b480      None\n",
      "d188aa0    0d5a79c 5c074e9      None\n",
      "0d5a79c    19d7375 8d16d54      None\n",
      "19d7375    40979fa f7aed91      None\n",
      "40979fa    854f22d b9575c2      None\n",
      "aeeb049    ad60f74 854f22d      None\n",
      "854f22d    5ea5cc1 5710527      None\n",
      "5ea5cc1    dee5c9a 07ed1e8      None\n",
      "dee5c9a    ac153fc 624ad9f      None\n",
      "ac153fc    8992557 3820591      None\n",
      "7b81637    6455178 22a2d90      None\n",
      "6455178    806239e f574f0f      None\n",
      "806239e    b20f4a1 95f3418      None\n",
      "b20f4a1    9e4688d 794db98      None\n",
      "9e4688d    773a7ba 8fee12e      None\n",
      "773a7ba    8bcf827 d62f826      None\n",
      "8bcf827    ab3cc94 8e149e1      None\n",
      "ab3cc94    cb3f3a9 461e850      None\n",
      "cb3f3a9    2b56e31 0fe5f56      None\n",
      "2b56e31    213d30e 6c89d8a      None\n",
      "213d30e    6140d23 cea73a8      None\n",
      "6140d23    3723b53 22b4a75      None\n",
      "3723b53    0aa5782 9f09c30      None\n",
      "0aa5782    753135a 2dabe94      None\n",
      "753135a    f8767b7 da94885      None\n",
      "f8767b7    2fd4a9e 5908bc7      None\n",
      "2fd4a9e    48e2c13 f05d07a      None\n",
      "48e2c13    c4df69b 39658f8      None\n",
      "c4df69b    6a04033 114fed8      None\n",
      "6a04033    9f43c3d 8be67b9      None\n",
      "9f43c3d    a5e1f72 e2fc76b      None\n",
      "e2fc76b    ce1f7a5 a5e1f72      None\n",
      "a5e1f72    43eca25 176c52d      None\n",
      "43eca25    c21cab3 32e44e8      None\n",
      "c21cab3    35b7608 f764cc3      None\n",
      "35b7608    db46402 22e6245      None\n",
      "db46402    8792ab4 0494548      None\n",
      "8792ab4    e93a97f 1f47ad4      None\n",
      "e93a97f    e3e5f44 1cf12b9      None\n",
      "e3e5f44    39f146f 7acc1ed      None\n",
      "39f146f    f6884b0 973abd4      None\n",
      "f6884b0    a57e4e3 e5a7e99      None\n",
      "f1a348e    31e286d f173c75      None\n",
      "31e286d    acc356a 47d47c5      None\n",
      "acc356a    481b2cd 4a82e4b      None\n",
      "481b2cd    14ed831 cd5bb48      None\n",
      "14ed831    5a6ba9b bdb52f9      None\n",
      "5a6ba9b    e4af609 4df994c      None\n",
      "e4af609    4e03e16 ca9b913      None\n",
      "4e03e16    c9ffa9c 8f22f4f      None\n",
      "c9ffa9c    4136c51 4f0d1db      None\n",
      "4136c51    da17b37 6806b3c      None\n",
      "da17b37    8501759 c211091      None\n",
      "8501759    48e865b e71bfee      None\n",
      "48e865b    b9eca71 6586f20      None\n",
      "b9eca71    89974ba d0954fa      None\n",
      "89974ba    618b233 d956efd      None\n",
      "2bed9bb    9824304 e40a88b      None\n",
      "9824304    88acecf dc14211      None\n",
      "88acecf    fe87b7a 4fe2a23      None\n",
      "fe87b7a    ce4583a cb5275c      None\n",
      "ce4583a    b94db84 fe72eb4      None\n",
      "b94db84    d24fe80 4b4c358      None\n",
      "d24fe80    4e75c5a bd14f06      None\n",
      "4e75c5a    90ede10 41a95d2      None\n",
      "90ede10    b6b9876 bcd6141      None\n",
      "b6b9876    767c7c2 32bafb5      None\n",
      "767c7c2    84bb398 c4a5cc0      None\n",
      "84bb398    37a15fe 9033e8a      None\n",
      "37a15fe    ed9023a 2935e8b      None\n",
      "b3343f9    8ff220d 845c477      None\n",
      "e387105    55adbce a8650be      None\n",
      "55adbce    633fe82 15c6740      None\n",
      "633fe82    d1952dc 754f57b      None\n",
      "d1952dc    6691bfc 7e4d860      None\n",
      "6691bfc    0d57ff7 9c6830a      None\n",
      "a8fce37    3fd06d8 d390fef      None\n",
      "0d9469d    312418e 8662fe3      None\n",
      "312418e    5044f27 18814a6      None\n",
      "5044f27    7fcd5b2 fecb37f      None\n",
      "015483b    dcd6c22 038689b      None\n",
      "b91fc89    9473ab1 7fcd5b2      None\n",
      "7fcd5b2    a3504cb d3694eb      None\n",
      "a3504cb    b363220 fde642d      None\n",
      "b363220    614882b f6f80ac      None\n",
      "614882b    2e6aba7 1b0320c      None\n",
      "2e6aba7    9a2d724 d54c67f      None\n",
      "cc31347    a0303a4 ebd3f33      None\n",
      "a0303a4    912ee20 3fefdc8      None\n",
      "912ee20    f173d83 d5312de      None\n",
      "f173d83    d15e6fd 8e67844      None\n",
      "d15e6fd    cc37433 149ddce      None\n",
      "bc2bbfc    715eb15 f14e094      None\n",
      "6660a4a    72fc51f d60af42      None\n",
      "72fc51f    fbcb81f dc2407b      None\n",
      "fbcb81f    5af7f14 0a8e244      None\n",
      "5af7f14    24a29c2 f95b939      None\n",
      "24a29c2    c261edd 88f0961      None\n",
      "c261edd    d20e604 7164a48      None\n",
      "d20e604    91318f6 1333a20      None\n",
      "91318f6    dc6604c 32ec755      None\n",
      "dc6604c    7ae62b8 0d9e8ce      None\n",
      "f87fb2e    None                 CONTRIBUTING.md,COPYING.md,MANIFEST.in,README.md,d\n"
     ]
    }
   ],
   "source": [
    "# YOUR CODE HERE\n",
    "# raise NotImplementedError()\n",
    "print(f\"{'Id':10} {'ParentIds':20} {'ChangeFiles:':20}\")\n",
    "for id, parent_id, changed_file in zip(cols['Id'], cols['ParentIds'], cols['ChangedFiles']):\n",
    "    if (changed_file == ''): \n",
    "        changed_file = 'None'\n",
    "    if (parent_id == ''):\n",
    "        parent_id = 'None'\n",
    "\n",
    "    if (changed_file == 'None' or parent_id == 'None'):\n",
    "        print(f'{id:10} {parent_id:20} {changed_file[:50]}')"
   ]
  },
  {
   "cell_type": "markdown",
   "id": "2826f4c7",
   "metadata": {
    "deletable": false,
    "nbgrader": {
     "cell_type": "markdown",
     "checksum": "0f5fa9e719dcc6a28b1a0ad666d3c0a9",
     "grade": true,
     "grade_id": "cell-0ce04cd6c1dd7a31",
     "locked": false,
     "points": 0.25,
     "schema_version": 3,
     "solution": true,
     "task": false
    }
   },
   "source": [
    "* Cột 'ParentIds' có giá trị = None vì 'Id' đầu tiên thì không có ParentId\n",
    "* Cột 'ChangedFiles' có thể có nhiều hoặc không có file nào được thay đổi, cho nên việc cột này có nhiều giá trị None là điều bình thường"
   ]
  },
  {
   "cell_type": "markdown",
   "id": "7fb6df75",
   "metadata": {},
   "source": [
    "---"
   ]
  },
  {
   "cell_type": "markdown",
   "id": "af20a067",
   "metadata": {},
   "source": [
    "## Đưa ra câu hỏi có ý nghĩa cần trả lời"
   ]
  },
  {
   "cell_type": "markdown",
   "id": "6d1383e9",
   "metadata": {},
   "source": [
    "Sau khi khám phá dữ liệu, ta đã hiểu hơn về dữ liệu. Bây giờ, ta hãy xem thử có câu hỏi nào có ý nghĩa mà có thể được trả lời bằng dữ liệu này không.\n",
    "\n",
    "Các câu hỏi có thể có là: \n",
    "- *Câu hỏi 1: trong năm 2021, ai là người có nhiều commit nhất, ai là người có nhiều commit nhì, ...?* \\\n",
    "Tìm câu trả lời cho câu hỏi này để làm gì? \\\n",
    "Hmm ... Chẳng hạn để khen thưởng\n",
    "- *Câu hỏi 2: commit nào là commit cuối cùng (xét trên \"AuthorDate\") đã thay đổi file \"nbdime/webapp/templates/difftool.html\"?* \\\n",
    "Tìm câu trả lời cho câu hỏi này để làm gì? \\\n",
    "Hmm ... Chẳng hạn để đổ tội cho tác giả của commit đó ;-)"
   ]
  },
  {
   "cell_type": "markdown",
   "id": "2b8d3d6a",
   "metadata": {},
   "source": [
    "---"
   ]
  },
  {
   "cell_type": "markdown",
   "id": "0071c835",
   "metadata": {},
   "source": [
    "## Tiền xử lý (nếu cần) + phân tích dữ liệu để trả lời cho câu hỏi 1 (1đ)"
   ]
  },
  {
   "cell_type": "markdown",
   "id": "408c3c24",
   "metadata": {},
   "source": [
    "Nhắc lại câu hỏi 1: *trong năm 2021, ai là người có nhiều commit nhất, ai là người có nhiều commit nhì, ...?*\n",
    "\n",
    "Bạn sẽ lưu kết quả vào biến `wanted_people`. Biến này là một dictionary, mỗi phần tử ứng với một người mà có commit trong năm 2021, key là tên của người đó, value là số lượng commit của người đó. Dictionary này được sort theo value giảm dần."
   ]
  },
  {
   "cell_type": "code",
   "execution_count": 18,
   "id": "937386a9",
   "metadata": {
    "deletable": false,
    "nbgrader": {
     "cell_type": "code",
     "checksum": "164597dfc4cff18b22014680c9345b6e",
     "grade": false,
     "grade_id": "cell-a40eed2ac02f6c2b",
     "locked": false,
     "schema_version": 3,
     "solution": true,
     "task": false
    }
   },
   "outputs": [],
   "source": [
    "# YOUR CODE HERE\n",
    "# raise NotImplementedError()\n",
    "wanted_people = dict()\n",
    "author_name = cols['AuthorName']\n",
    "author_date = cols['AuthorDate']\n",
    "for i in range(0, len(author_date)):\n",
    "    if (author_date[i].year == 2021):\n",
    "        if (wanted_people.get(author_name[i]) == None):\n",
    "            wanted_people[author_name[i]] = 1\n",
    "        else:\n",
    "            wanted_people[author_name[i]] += 1\n",
    "wanted_people = dict(sorted(wanted_people.items(), key=lambda item: item[1], reverse=True))"
   ]
  },
  {
   "cell_type": "code",
   "execution_count": 19,
   "id": "93459f36",
   "metadata": {
    "deletable": false,
    "editable": false,
    "nbgrader": {
     "cell_type": "code",
     "checksum": "a7294256d2ff774d1305360568b58d73",
     "grade": true,
     "grade_id": "cell-9e312d16b92a0e40",
     "locked": true,
     "points": 1,
     "schema_version": 3,
     "solution": false,
     "task": false
    }
   },
   "outputs": [],
   "source": [
    "# TEST\n",
    "correct_wanted_people = {'Vidar Tonaas Fauske': 26, \n",
    "                         'Alex Bozarth': 9, \n",
    "                         'Frederic COLLONVAL': 7, \n",
    "                         'Frédéric Collonval': 6, \n",
    "                         'krassowski': 2, \n",
    "                         'Michał Krassowski': 2}\n",
    "assert wanted_people == correct_wanted_people"
   ]
  },
  {
   "cell_type": "markdown",
   "id": "331e0d37",
   "metadata": {},
   "source": [
    "---"
   ]
  },
  {
   "cell_type": "markdown",
   "id": "e34f11a1",
   "metadata": {},
   "source": [
    "## Tiền xử lý (nếu cần) + phân tích dữ liệu để trả lời cho câu hỏi 2 (2đ)"
   ]
  },
  {
   "cell_type": "markdown",
   "id": "da4781dc",
   "metadata": {},
   "source": [
    "Nhắc lại câu hỏi 2: *commit nào là commit cuối cùng (xét trên \"AuthorDate\") đã thay đổi file \"nbdime/webapp/templates/difftool.html\"?*\n",
    "\n",
    "Ta thống nhất: không xét các commit \"merge pull request\" vì các commit này không có thông tin về \"ChangedFiles\".\n",
    "\n",
    "Bạn lưu kết quả vào biến `wanted_commit`. Biến này là một dictionary, trong đó mỗi phần tử ứng với một thông tin của commit, key là tên cột, value là giá trị tương ứng."
   ]
  },
  {
   "cell_type": "code",
   "execution_count": 22,
   "id": "c329cf22",
   "metadata": {
    "deletable": false,
    "nbgrader": {
     "cell_type": "code",
     "checksum": "e6cbf3fcba915f428f1ac9b6f208e6ef",
     "grade": false,
     "grade_id": "cell-37a6a90f597ad4a1",
     "locked": false,
     "schema_version": 3,
     "solution": true,
     "task": false
    }
   },
   "outputs": [],
   "source": [
    "# YOUR CODE HERE\n",
    "# raise NotImplementedError()\n",
    "wanted_commit = {}\n",
    "max_date = cols.get('AuthorDate')[-1]\n",
    "\n",
    "index = -1\n",
    "for i in range(0, len(cols['Id'])):\n",
    "    if (cols.get('Subject')[i].find('Merge pull request') != -1):\n",
    "        continue\n",
    "    if (cols.get('ChangedFiles')[i].find(\"nbdime/webapp/templates/difftool.html\") == -1):\n",
    "        continue\n",
    "    if (max_date < cols.get('AuthorDate')[i]):\n",
    "        max_date = cols.get('AuthorDate')[i]\n",
    "        index = i\n",
    "\n",
    "for name in cols:\n",
    "    wanted_commit[name] = cols.get(name)[index]"
   ]
  },
  {
   "cell_type": "code",
   "execution_count": 23,
   "id": "777ead1c",
   "metadata": {
    "deletable": false,
    "editable": false,
    "nbgrader": {
     "cell_type": "code",
     "checksum": "916a7ddb9a0120cadf1501a14a675d3e",
     "grade": true,
     "grade_id": "cell-41c49732faf571f7",
     "locked": true,
     "points": 2,
     "schema_version": 3,
     "solution": false,
     "task": false
    }
   },
   "outputs": [],
   "source": [
    "# TEST\n",
    "correct_wanted_commit = {\\\n",
    "    'Id': 'be0b5ee',\n",
    "    'ParentIds': '4226179',\n",
    "    'AuthorName': 'Vidar Tonaas Fauske',\n",
    "    'AuthorEmail': 'vidartf@gmail.com',\n",
    "    'AuthorDate': datetime.datetime(2017, 7, 4, 22, 53, 9, tzinfo=datetime.timezone(datetime.timedelta(seconds=7200))),\n",
    "    'Subject': 'jinja2 templates + avoid name collisions with nb',\n",
    "    'ChangedFiles': 'nbdime/webapp/nbdimeserver.py,nbdime/webapp/templates/compare.html,nbdime/webapp/templates/diff.html,nbdime/webapp/templates/difftool.html,nbdime/webapp/templates/merge.html,nbdime/webapp/templates/mergetool.html,nbdime/webapp/templates/nbdimepage.html,setup.py'\\\n",
    "}\n",
    "assert wanted_commit == correct_wanted_commit"
   ]
  }
 ],
 "metadata": {
  "interpreter": {
   "hash": "5d5a752325a02993bbc3d297ee0b294f439d8d407d6d9f239a188c1a17854b8e"
  },
  "kernelspec": {
   "display_name": "Python 3 (ipykernel)",
   "language": "python",
   "name": "python3"
  },
  "language_info": {
   "codemirror_mode": {
    "name": "ipython",
    "version": 3
   },
   "file_extension": ".py",
   "mimetype": "text/x-python",
   "name": "python",
   "nbconvert_exporter": "python",
   "pygments_lexer": "ipython3",
   "version": "3.8.8"
  },
  "toc": {
   "base_numbering": 1,
   "nav_menu": {},
   "number_sections": false,
   "sideBar": true,
   "skip_h1_title": true,
   "title_cell": "Table of Contents",
   "title_sidebar": "Contents",
   "toc_cell": false,
   "toc_position": {
    "height": "calc(100% - 180px)",
    "left": "10px",
    "top": "150px",
    "width": "165px"
   },
   "toc_section_display": true,
   "toc_window_display": true
  }
 },
 "nbformat": 4,
 "nbformat_minor": 5
}
